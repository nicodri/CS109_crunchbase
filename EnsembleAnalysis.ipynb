{
 "cells": [
  {
   "cell_type": "markdown",
   "metadata": {},
   "source": [
    "# Predicting Startup Success"
   ]
  },
  {
   "cell_type": "markdown",
   "metadata": {},
   "source": [
    "As investors we want to know which companies will succeed and which companies will fail so we can make smart investments.  Unfortunately there is no way to know ahead of time which companies will succeed or fail, however, we can try to predict success based on the huge amounts of data available online about startups.  For this project we will be analyzing data obtained through the [CrunchBase](https://www.crunchbase.com/) API.\n",
    "\n",
    "The CrunchBase dataset, while extensive provides us with data that is pretty biased.  In order to be in the CrunchBase database, a company must already have become newsworthy.  Normally that means raising a significant round of funding or graduating from a prominent incubator.  We will take this bias into account when performing our analysis.  Simply raising one round of funding will not be considered a succesful outcome.\n",
    "\n",
    "So how will we define success?  We will use a couple of indicators, and if a company achieves even a single one of these, we will consider the startup to be successful.  \n",
    "\n",
    "So what are the indicators we are using? We will consider a company to be a success if it IPOs or if it is acquired (even though we are aware that many acquisitions may not be considered successes by employees or investors in a company, for this project we will be making this simplification and assuming all acquisitions are successes).  We will also consider a startup a success if it has raised several rounds of funding.  How many?  Well, since all the startups in the CrunchBase database have already raised one round, we will pretend we are making a second round investment.  Any companies that raise a thrid round will be considered succesful as they have proven that other investors are interested in investing in this company after us.  Later we will show another reason why we chose 3 as a cutoff in the number of rounds of investment to be considered successful.\n",
    "\n",
    "Not all companies are equally successful.  And perhaps it is best to weight your investments based on how certain you are that a company will succeed and how succesful that company will be, in terms of what the rate of return for a particular company is.  However, since we don't have all of the financial information for funding rounds, and none of the financial information for rate of return for different investors in different rounds of different companies, we will simply focus in this project on the overall success or failure of a company and treat this as a classification problem, rather than a regression problem."
   ]
  },
  {
   "cell_type": "markdown",
   "metadata": {},
   "source": [
    "##Data Cleaning"
   ]
  },
  {
   "cell_type": "code",
   "execution_count": 1,
   "metadata": {
    "collapsed": true
   },
   "outputs": [],
   "source": [
    "%matplotlib inline\n",
    "import numpy as np\n",
    "import scipy as sp\n",
    "import matplotlib as mpl\n",
    "import matplotlib.cm as cm\n",
    "import matplotlib.pyplot as plt\n",
    "import pandas as pd\n",
    "pd.set_option('display.width', 500)\n",
    "pd.set_option('display.max_columns', 100)\n",
    "pd.set_option('display.notebook_repr_html', True)\n",
    "import seaborn as sns\n",
    "sns.set_style(\"whitegrid\")\n",
    "sns.set_context(\"poster\")\n",
    "import json\n",
    "import datetime\n",
    "import time"
   ]
  },
  {
   "cell_type": "code",
   "execution_count": 2,
   "metadata": {
    "collapsed": true
   },
   "outputs": [],
   "source": [
    "# Focus on the start up founded before 2010\n",
    "with open(\"tmp/organizations_dict_to2010.json\", \"r\") as fd:\n",
    "    orgs = json.load(fd)"
   ]
  },
  {
   "cell_type": "code",
   "execution_count": 3,
   "metadata": {
    "collapsed": false
   },
   "outputs": [
    {
     "data": {
      "text/plain": [
       "[{u'acquired_by': [],\n",
       "  u'acquisitions': [],\n",
       "  u'board_members_and_advisors': [],\n",
       "  u'categories': [{u'name': u'Real Estate'}],\n",
       "  u'competitors': [],\n",
       "  u'founders': [],\n",
       "  u'funding_rounds': [{u'announced_on': u'2011-03-01',\n",
       "    u'funding_type': u'venture',\n",
       "    u'money_raised_usd': 50000000}],\n",
       "  u'headquarters': [{u'city': u'Pudong', u'country': u'China'}],\n",
       "  u'investors': [{u'permalink': u'baidu'}],\n",
       "  u'ipo': [],\n",
       "  u'month_founded': u'2009-10',\n",
       "  u'offices': [{u'city': u'Pudong', u'country': u'China'}],\n",
       "  u'short_description': u'Haozu.com is the first domestic professional house-renting site owned by Anjuke Inc, focused on renting information services.'},\n",
       " {u'acquired_by': [],\n",
       "  u'acquisitions': [],\n",
       "  u'board_members_and_advisors': [],\n",
       "  u'categories': [{u'name': u'Software'},\n",
       "   {u'name': u'Big Data'},\n",
       "   {u'name': u'Predictive Analytics'},\n",
       "   {u'name': u'Machine Learning'},\n",
       "   {u'name': u'Data Visualization'},\n",
       "   {u'name': u'Artificial Intelligence'}],\n",
       "  u'competitors': [{u'permalink': u'clearstory-data'},\n",
       "   {u'permalink': u'sisense'},\n",
       "   {u'permalink': u'datameer'},\n",
       "   {u'permalink': u'ibm'}],\n",
       "  u'founders': [{u'bio': u\"Martin\\u2019s focus is operations and investment. Over the last 20 years, Martin has led early-stage businesses and blue chip firms at board level in finance, operations and IT roles. He has the ability to make strategy a reality and he has consistently achieved high investment returns for investors and venture capitalists.\\r\\n \\r\\nMartin's CV includes Operations & Finance Director ML Integration (sold to CW) and Hamilton Rentals (sold to Compel).\\r\\n \\r\\nHe is a Fellow of the Association of Chartered Certified Accountants, FCCA, and has an honours degree in Business Studies.\",\n",
       "    u'born_on': None,\n",
       "    u'permalink': u'martin-robinson'},\n",
       "   {u'bio': u'George is Massive Analytic\\u2019s founder and Executive Chairman (formerly CEO), Artificial Precognition inventor and Oscar AP product architect. Pushing ICT boundaries for more than 30 years, he has many firsts including the UK fibre optic broadband network run by Virgin Media.\\r\\n \\r\\nGeorge\\u2019s CV includes CEO Platon UK (now Delloitte), analytic company Pronus founder and KPMG senior executive.\\r\\n \\r\\nDegrees incude Astrophysics and wireless and optical communications from world leading universities including UCL. Professional accreditations and honours include Chartered Engineer, Fellow of the Institute of Directors (FIoD), FRSA, Fellow of The Chartered Institute for IT.',\n",
       "    u'born_on': None,\n",
       "    u'permalink': u'george-frangou'}],\n",
       "  u'funding_rounds': [{u'announced_on': u'2015-05-12',\n",
       "    u'funding_type': u'undisclosed',\n",
       "    u'money_raised_usd': 2023220}],\n",
       "  u'headquarters': [{u'city': u'London', u'country': u'United Kingdom'},\n",
       "   {u'city': u'London', u'country': u'United Kingdom'}],\n",
       "  u'investors': [],\n",
       "  u'ipo': [],\n",
       "  u'month_founded': u'2010-01',\n",
       "  u'offices': [{u'city': u'London', u'country': u'United Kingdom'},\n",
       "   {u'city': u'London', u'country': u'United Kingdom'}],\n",
       "  u'short_description': u\"Massive Analytic offers the world's first precognitive data science platform\"},\n",
       " {u'acquired_by': [],\n",
       "  u'acquisitions': [],\n",
       "  u'board_members_and_advisors': [],\n",
       "  u'categories': [{u'name': u'Manufacturing'}, {u'name': u'Heavy Industry'}],\n",
       "  u'competitors': [],\n",
       "  u'founders': [{u'bio': None,\n",
       "    u'born_on': None,\n",
       "    u'permalink': u'farook-afsari'}],\n",
       "  u'funding_rounds': [{u'announced_on': u'2011-07-12',\n",
       "    u'funding_type': u'venture',\n",
       "    u'money_raised_usd': 38000000},\n",
       "   {u'announced_on': u'2013-08-07',\n",
       "    u'funding_type': u'debt_financing',\n",
       "    u'money_raised_usd': 4999500},\n",
       "   {u'announced_on': u'2014-05-08',\n",
       "    u'funding_type': u'debt_financing',\n",
       "    u'money_raised_usd': 2300000}],\n",
       "  u'headquarters': [{u'city': u'Milpitas', u'country': u'United States'}],\n",
       "  u'investors': [{u'permalink': u'db-masdar-clean-tech-fund'}],\n",
       "  u'ipo': [],\n",
       "  u'month_founded': u'1999-01',\n",
       "  u'offices': [{u'city': u'Milpitas', u'country': u'United States'}],\n",
       "  u'short_description': u'eCullet, a technology-based glass processing company, produces and markets glass cullet to glass container manufacturers.'},\n",
       " {u'acquired_by': [],\n",
       "  u'acquisitions': [],\n",
       "  u'board_members_and_advisors': [{u'bio': u\"Mr. Gex is the Chairman of Cianna Medical. \\r\\n\\r\\nHe previously served in the same post at BioLucent, Inc., a women's health company dedicated to the early detection and treatment of breast cancer.\\r\\n\\r\\n The company developed the MammoPad\\xae breast cushion to reduce mammography discomfort and ensure high-quality images. BioLucent was acquired in September 2007 by Hologic, Inc.\\r\\n\\r\\n Prior to BioLucent, Mr. Gex co-founded and served as President and CEO of Biopsys Medical, Inc., the maker of Mammotome, a non-surgical breast biopsy device used to diagnose breast cancer. \\r\\n\\r\\nAt Biopsys, Mr. Gex guided the company's initial public offering and subsequent sale to Johnson & Johnson in 1997.\\r\\n\\r\\n He has also served on the boards of directors for several other medical device companies.\",\n",
       "    u'born_on': None,\n",
       "    u'permalink': u'steven-l-gex'},\n",
       "   {u'bio': u'Ms. Olson is the Managing Partner of Fog City Fund, a venture fund that invests in life science and medical companies. \\r\\n\\r\\nShe was previously a General Partner at St. Paul Venture Capital, specializing in health care and medical technology.\\r\\n\\r\\n In addition to serving on a number of private company boards, Ms. Olson is a Trustee of the University of California Berkeley Foundation and Hampshire College, President of the Letters and Science Executive Board at UCB, and a board member of both the Girl Scouts of the San Francisco Bay Area and the San Francisco Opera.',\n",
       "    u'born_on': None,\n",
       "    u'permalink': u'nancy-olson'},\n",
       "   {u'bio': u'Mr. McCormick has more than 27 years of experience in the medical device industry, including the past ten years at Endologix Inc, (ELGX), a manufacturer of minimally invasive treatments for aortic aneurysms. \\r\\n\\r\\nHe served as President and Chief Executive Officer of Endologix from January 2003 through May 2008, and remains a corporate director. \\r\\n\\r\\nPrior to Endologix, he held senior sales and marketing positions at Progressive Angioplasty Systems, Heart Technology, Trimedyne Inc., and United States Surgical Corporation.\\r\\n\\r\\n In addition to his board positions at Cianna Medical and Endologix, Mr. McCormick is the Chairman of the Board of Cardiogenesis Inc. (CGCP) and Embrella Cardiovascular (private).',\n",
       "    u'born_on': None,\n",
       "    u'permalink': u'paul-mccormick'},\n",
       "   {u'bio': u'Dr. Scott provides services in connection with Saints Capital VI, Everest and Granite. While at Saints Capital, Dr. Scott focuses on healthcare opportunities. \\r\\n\\r\\nPrior to joining Saints in 2008, Dr. Scott worked at Burrill & Co. where he made healthcare investments for nearly four years. \\r\\n\\r\\nDr. Scott has invested in the areas of medical devices, health care services, diagnostics and biopharmaceuticals. Previously, Dr. Scott was a General Surgery resident at Oregon Health Science University in Portland, Oregon.\\r\\n\\r\\nDr. Scott received an MBA and a certificate in Health Sector Management from the Fuqua School of Business at Duke University, where he was Fuqua Scholar. He received a BA in Economics from Duke University and an MD from the University of Texas Health Science Center at San Antonio. Dr. Scott is a member of the Alpha Omega Alpha Medical Honor Society.\\r\\n\\r\\nBoard of Directors of Following Company include Cianna-Director, Coherex-Director, Kona-Observer, OraMetrix-Director, Radius-Observer, RibX-Observer, VisionCare-Director.',\n",
       "    u'born_on': None,\n",
       "    u'permalink': u'zack-scott'},\n",
       "   {u'bio': u'Heath Lukatch, Ph.D. is a Partner at Novo Ventures (US) Inc., which provides certain consultancy services to Novo A/S. Dr. Lukatch joined Novo Ventures in 2006.\\r\\n\\r\\nPrior to joining Novo Ventures, Dr. Lukatch was a Managing Director responsible for biotechnology venture investments at Piper Jaffray Ventures and SightLine Partners.\\r\\n\\r\\nBefore Piper Jaffray Ventures, Dr. Lukatch worked as a strategy consultant with McKinsey & Company. Dr. Lukatch also served as co-founder and chief executive officer of AutoMate Scientific, a biotechnology instrumentation company, and he held scientific positions with Chiron, Roche Bioscience and Cetus.\\r\\n\\r\\nHe currently serves as Chairman on the boards of Inogen (INGN), Cianna Medical and Spinifex Pharmaceuticals, and he serves as a board member at AnaptysBio and Flexion Therapeutics (FLXN). Dr. Lukatch has served on multiple boards in the past, including: Amira Pharmaceuticals (acquired by BMS), Elevation Pharmaceuticals, Inc. (acquired by Sunovion), FoldRx Pharmaceuticals, Inc (acquired by Pfizer)., InSound Medical, Inc. (acquired by Sonova) and Synosia Therapeutics, Inc. (acquired by BioTie).\\r\\n\\r\\nDr. Lukatch received his Ph.D. in Neuroscience from Stanford University where he was a DOD USAF Fellow, and his B.A. with high honors in Biochemistry from the University of California at Berkeley.',\n",
       "    u'born_on': None,\n",
       "    u'permalink': u'heath-lukatch'},\n",
       "   {u'bio': u'Tiba Aynechi joined Novo Ventures (US) Inc. in San Francisco, California in 2010.\\r\\n\\r\\nShe is also a member of the board of directors of Cianna Medical Inc. Tiba has more than 10 years of combined research and banking experience in life sciences that spans various therapeutic areas and technology platforms.\\r\\n\\r\\nPrior to joining Novo Ventures (US) Inc., Tiba was a Director with Burrill& Company where she has completed regional and cross-border M&A, licensing, and financing transactions for biotech and large pharmaceutical companies.\\r\\n\\r\\nTiba received her PhD from the Graduate Group in Biophysics at the University of California, San Francisco where her research involved developing computational methods for drug discovery. She has an undergraduate degree in physics from the University of California, Irvine. Tiba is also a published author of scientific articles and book chapters in the area of rational drug design.',\n",
       "    u'born_on': None,\n",
       "    u'permalink': u'tiba-aynechi'}],\n",
       "  u'categories': [{u'name': u'Health Care'}],\n",
       "  u'competitors': [],\n",
       "  u'founders': [],\n",
       "  u'funding_rounds': [{u'announced_on': u'2008-02-26',\n",
       "    u'funding_type': u'venture',\n",
       "    u'money_raised_usd': 9000000},\n",
       "   {u'announced_on': u'2011-04-28',\n",
       "    u'funding_type': u'venture',\n",
       "    u'money_raised_usd': 12000000},\n",
       "   {u'announced_on': u'2009-04-13',\n",
       "    u'funding_type': u'venture',\n",
       "    u'money_raised_usd': 10250002},\n",
       "   {u'announced_on': u'2014-05-22',\n",
       "    u'funding_type': u'debt_financing',\n",
       "    u'money_raised_usd': 10000000},\n",
       "   {u'announced_on': u'2015-06-23',\n",
       "    u'funding_type': u'venture',\n",
       "    u'money_raised_usd': 4000001},\n",
       "   {u'announced_on': u'2015-07-16',\n",
       "    u'funding_type': u'debt_financing',\n",
       "    u'money_raised_usd': 4000000}],\n",
       "  u'headquarters': [{u'city': u'Aliso Viejo', u'country': u'United States'}],\n",
       "  u'investors': [{u'permalink': u'fog-city-fund'},\n",
       "   {u'permalink': u'windamere-venture-partners'},\n",
       "   {u'permalink': u'biolucent'},\n",
       "   {u'permalink': u'ge-capital'},\n",
       "   {u'permalink': u'ge-capital'}],\n",
       "  u'ipo': [],\n",
       "  u'month_founded': u'2007-01',\n",
       "  u'offices': [{u'city': u'Aliso Viejo', u'country': u'United States'}],\n",
       "  u'short_description': u'Cianna Medical is a women\\u2019s health company dedicated to the treatment of early-stage breast cancer.'},\n",
       " {u'acquired_by': [{u'announced_on': u'2012-01-26'}],\n",
       "  u'acquisitions': [{u'announced_on': u'2014-08-04'},\n",
       "   {u'announced_on': u'2014-08-04'},\n",
       "   {u'announced_on': u'2015-04-28'}],\n",
       "  u'board_members_and_advisors': [],\n",
       "  u'categories': [{u'name': u'Music'}],\n",
       "  u'competitors': [{u'permalink': u'spotify'}, {u'permalink': u'rdio'}],\n",
       "  u'founders': [],\n",
       "  u'funding_rounds': [{u'announced_on': u'2013-10-16',\n",
       "    u'funding_type': u'undisclosed',\n",
       "    u'money_raised_usd': None},\n",
       "   {u'announced_on': u'2013-09-17',\n",
       "    u'funding_type': u'undisclosed',\n",
       "    u'money_raised_usd': None},\n",
       "   {u'announced_on': u'2015-05-08',\n",
       "    u'funding_type': u'debt_financing',\n",
       "    u'money_raised_usd': 10000000}],\n",
       "  u'headquarters': [{u'city': u'Seattle', u'country': u'United States'},\n",
       "   {u'city': u'Seattle', u'country': u'United States'}],\n",
       "  u'investors': [{u'permalink': u'telefonica'},\n",
       "   {u'permalink': u'columbus-nova-technology-partners'},\n",
       "   {u'permalink': u'realnetworks'}],\n",
       "  u'ipo': [],\n",
       "  u'month_founded': u'2001-01',\n",
       "  u'offices': [{u'city': u'Seattle', u'country': u'United States'},\n",
       "   {u'city': u'San Francisco', u'country': u'United States'},\n",
       "   {u'city': u'S\\xe3o Paulo', u'country': u'Brazil'}],\n",
       "  u'short_description': u'Rhapsody is a music subscription service that offers videos, playlists, reviews and radio stations.'},\n",
       " {u'acquired_by': [],\n",
       "  u'acquisitions': [],\n",
       "  u'board_members_and_advisors': [],\n",
       "  u'categories': [{u'name': u'Advertising'}],\n",
       "  u'competitors': [],\n",
       "  u'founders': [{u'bio': u'Ariel Maislos is the Co - Founder & President of Anobit Technologies.\\r\\n\\r\\nPrior to Co - Founding Anobit, Mr. Maislos was Co - Founder & President of Passave, which was acquired by PMC Sierra (NASDAQ:PMCS) in 2006. He has filed numerous patents in the fields of signal processing and digital communications, and was an editor of the IEEE 802.3 Ethernet standard. \\r\\n\\r\\nMr. Maislos holds an M.B.A. Degree from Tel Aviv University.B.Sc., cum laude, in Physics, Mathematics and Computer Science from the prestigious Talpiot program at the Hebrew University.',\n",
       "    u'born_on': None,\n",
       "    u'permalink': u'ariel-maislos'},\n",
       "   {u'bio': u'Ruben Maislos is Director of New Business Perceptual Computing Group at Intel.',\n",
       "    u'born_on': None,\n",
       "    u'permalink': u'ruben-maislos'},\n",
       "   {u'bio': u'Eran Arbel is a Head of Consumer Products at PayPal.',\n",
       "    u'born_on': None,\n",
       "    u'permalink': u'eran-arbel'}],\n",
       "  u'funding_rounds': [{u'announced_on': u'2007-05-18',\n",
       "    u'funding_type': u'venture',\n",
       "    u'money_raised_usd': 3500000},\n",
       "   {u'announced_on': u'2009-07-20',\n",
       "    u'funding_type': u'venture',\n",
       "    u'money_raised_usd': 3000000},\n",
       "   {u'announced_on': u'2008-01-01',\n",
       "    u'funding_type': u'venture',\n",
       "    u'money_raised_usd': 8000000}],\n",
       "  u'headquarters': [{u'city': u'San Francisco', u'country': u'United States'}],\n",
       "  u'investors': [{u'permalink': u'brm-capital'},\n",
       "   {u'permalink': u'opus-capital'},\n",
       "   {u'permalink': u'brm-capital'},\n",
       "   {u'permalink': u'opus-capital'},\n",
       "   {u'permalink': u'opus-capital'},\n",
       "   {u'permalink': u'brm-capital'}],\n",
       "  u'ipo': [],\n",
       "  u'month_founded': u'2006-01',\n",
       "  u'offices': [{u'city': u'San Francisco', u'country': u'United States'}],\n",
       "  u'short_description': u'Pudding Media is a mobile advertising company focused on enabling and selling carrier-based inventories.'},\n",
       " {u'acquired_by': [],\n",
       "  u'acquisitions': [],\n",
       "  u'board_members_and_advisors': [],\n",
       "  u'categories': [{u'name': u'Games'}],\n",
       "  u'competitors': [],\n",
       "  u'founders': [],\n",
       "  u'funding_rounds': [{u'announced_on': u'2010-02-26',\n",
       "    u'funding_type': u'venture',\n",
       "    u'money_raised_usd': 3900000}],\n",
       "  u'headquarters': [{u'city': u'Hunt Valley', u'country': u'United States'},\n",
       "   {u'city': u'Hunt Valley', u'country': u'United States'}],\n",
       "  u'investors': [{u'permalink': u'vision-capital'}],\n",
       "  u'ipo': [],\n",
       "  u'month_founded': u'2003-01',\n",
       "  u'offices': [{u'city': u'Hunt Valley', u'country': u'United States'}],\n",
       "  u'short_description': u'Game Trading Technologies is a video game provider focused on the valuation, procurement, refurbishment and redistribution of video games.'},\n",
       " {u'acquired_by': [],\n",
       "  u'acquisitions': [{u'announced_on': u'2007-11-13'}],\n",
       "  u'board_members_and_advisors': [],\n",
       "  u'categories': [{u'name': u'Curated Web'},\n",
       "   {u'name': u'Mobile'},\n",
       "   {u'name': u'Internet'},\n",
       "   {u'name': u'Television'},\n",
       "   {u'name': u'Energy'}],\n",
       "  u'competitors': [],\n",
       "  u'founders': [],\n",
       "  u'funding_rounds': [{u'announced_on': u'2007-03-15',\n",
       "    u'funding_type': u'venture',\n",
       "    u'money_raised_usd': 14000000}],\n",
       "  u'headquarters': [{u'city': u'Houston', u'country': u'United States'},\n",
       "   {u'city': u'Houston', u'country': u'United States'}],\n",
       "  u'investors': [{u'permalink': u'icg-group'},\n",
       "   {u'permalink': u'adams-street-partners'}],\n",
       "  u'ipo': [],\n",
       "  u'month_founded': u'2000-01',\n",
       "  u'offices': [{u'city': u'Houston', u'country': u'United States'}],\n",
       "  u'short_description': u'WhiteFence supports individuals who look for deals on phone, internet, television, electricity, natural gas and other home services.'},\n",
       " {u'acquired_by': [],\n",
       "  u'acquisitions': [],\n",
       "  u'board_members_and_advisors': [],\n",
       "  u'categories': [],\n",
       "  u'competitors': [],\n",
       "  u'founders': [],\n",
       "  u'funding_rounds': [{u'announced_on': u'2014-06-09',\n",
       "    u'funding_type': u'grant',\n",
       "    u'money_raised_usd': 2500000}],\n",
       "  u'headquarters': [{u'city': u'Warwick', u'country': u'United States'}],\n",
       "  u'investors': [],\n",
       "  u'ipo': [],\n",
       "  u'month_founded': u'1964-01',\n",
       "  u'offices': [{u'city': u'Warwick', u'country': u'United States'}],\n",
       "  u'short_description': None},\n",
       " {u'acquired_by': [],\n",
       "  u'acquisitions': [],\n",
       "  u'board_members_and_advisors': [],\n",
       "  u'categories': [{u'name': u'Software'}],\n",
       "  u'competitors': [],\n",
       "  u'founders': [{u'bio': u'Mr. Keane has more than 20 years of strategic operational and process strategy experience in the technology industry. Prior to Spring Mobile Solutions, he served as Senior Vice President of Professional and Technical Services at Global 360, with leadership responsibility for Global 360\\u2019s Professional Services, Education, and Systems Engineering operations worldwide. Previously, Mr. Keane was CEO of Slipstream-BPM, a consulting firm focused on the implementation of BPM projects with emphasis on process design and analysis. Mr. Keane also served as Senior Vice President of Global Services for webMethods, where he led the global professional services, training and customer support groups, playing a key role in tightening operational controls and significantly increasing profitability. Earlier in his career, Mr. Keane was a partner at KPMG Consulting, focusing on telecommunications and utility companies. Mr. Keane holds a Bachelor of Business Studies degree from Trinity College in Dublin, Ireland, and is a Chartered Accountant in England and Wales.',\n",
       "    u'born_on': None,\n",
       "    u'permalink': u'conor-keane'}],\n",
       "  u'funding_rounds': [{u'announced_on': u'2015-10-21',\n",
       "    u'funding_type': u'venture',\n",
       "    u'money_raised_usd': 12000000},\n",
       "   {u'announced_on': u'2010-09-21',\n",
       "    u'funding_type': u'venture',\n",
       "    u'money_raised_usd': 265000},\n",
       "   {u'announced_on': u'2013-10-29',\n",
       "    u'funding_type': u'debt_financing',\n",
       "    u'money_raised_usd': 150000},\n",
       "   {u'announced_on': u'2013-06-12',\n",
       "    u'funding_type': u'venture',\n",
       "    u'money_raised_usd': 1116614},\n",
       "   {u'announced_on': u'2011-06-23',\n",
       "    u'funding_type': u'venture',\n",
       "    u'money_raised_usd': 100500},\n",
       "   {u'announced_on': u'2010-05-17',\n",
       "    u'funding_type': u'venture',\n",
       "    u'money_raised_usd': 500000},\n",
       "   {u'announced_on': u'2013-11-26',\n",
       "    u'funding_type': u'venture',\n",
       "    u'money_raised_usd': 3000000}],\n",
       "  u'headquarters': [{u'city': u'Omaha', u'country': u'United States'}],\n",
       "  u'investors': [{u'permalink': u'treetop-ventures'},\n",
       "   {u'permalink': u'invest-nebraska'}],\n",
       "  u'ipo': [],\n",
       "  u'month_founded': u'2008-01',\n",
       "  u'offices': [{u'city': u'Omaha', u'country': u'United States'}],\n",
       "  u'short_description': u'Lodo Software develops online financial management (PFM) software tools for banks and credit unions.'}]"
      ]
     },
     "execution_count": 3,
     "metadata": {},
     "output_type": "execute_result"
    }
   ],
   "source": [
    "orgs.values()[-10:]"
   ]
  },
  {
   "cell_type": "code",
   "execution_count": 4,
   "metadata": {
    "collapsed": false
   },
   "outputs": [],
   "source": [
    "df=pd.DataFrame(orgs.values(),index=orgs.keys())"
   ]
  },
  {
   "cell_type": "markdown",
   "metadata": {},
   "source": [
    "Copied this from HW5, to get adjectives and nouns from the short_description"
   ]
  },
  {
   "cell_type": "code",
   "execution_count": 5,
   "metadata": {
    "collapsed": true
   },
   "outputs": [],
   "source": [
    "from sklearn.feature_extraction import text \n",
    "stopwords=text.ENGLISH_STOP_WORDS\n",
    "import re\n",
    "regex1=re.compile(r\"\\.{2,}\")\n",
    "regex2=re.compile(r\"\\-{2,}\")\n",
    "from pattern.en import parse\n",
    "from pattern.en import pprint\n",
    "from pattern.vector import stem, PORTER, LEMMA\n",
    "punctuation = list('.,;:!?()[]{}`''\\\"@#$^&*+-|=~_')\n",
    "# taken from HW5\n",
    "def get_parts(thetext):\n",
    "    thetext=re.sub(regex1, ' ', thetext)\n",
    "    thetext=re.sub(regex2, ' ', thetext)\n",
    "    nouns=[]\n",
    "    descriptives=[]\n",
    "    for i,sentence in enumerate(parse(thetext, tokenize=True, lemmata=True).split()):\n",
    "        nouns.append([])\n",
    "        descriptives.append([])\n",
    "        for token in sentence:\n",
    "            if len(token[4]) >0:\n",
    "                if token[1] in ['JJ', 'JJR', 'JJS']:\n",
    "                    if token[4] in stopwords or token[4][0] in punctuation or token[4][-1] in punctuation or len(token[4])==1:\n",
    "                        continue\n",
    "                    descriptives[i].append(token[4])\n",
    "                elif token[1] in ['NN', 'NNS']:\n",
    "                    if token[4] in stopwords or token[4][0] in punctuation or token[4][-1] in punctuation or len(token[4])==1:\n",
    "                        continue\n",
    "                    nouns[i].append(token[4])\n",
    "    out=zip(nouns, descriptives)\n",
    "    nouns2=[]\n",
    "    descriptives2=[]\n",
    "    for n,d in out:\n",
    "        if len(n)!=0 and len(d)!=0:\n",
    "            nouns2.append(n)\n",
    "            descriptives2.append(d)\n",
    "    return nouns2, descriptives2\n"
   ]
  },
  {
   "cell_type": "code",
   "execution_count": 6,
   "metadata": {
    "collapsed": false
   },
   "outputs": [],
   "source": [
    "# If no description we set the short description to 0 to apply the mapping\n",
    "df['short_description'] = df.short_description.fillna(0)"
   ]
  },
  {
   "cell_type": "code",
   "execution_count": 7,
   "metadata": {
    "collapsed": false
   },
   "outputs": [],
   "source": [
    "# add column for description nouns and adjectives\n",
    "df['text_nouns']=df.short_description.map(lambda x: [] if isinstance(x, int) else get_parts(x)[0]).map(lambda x: [item for sublist in x for item in sublist])\n",
    "df['text_adjectives']=df.short_description.map(lambda x: [] if isinstance(x, int) else get_parts(x)[1]).map(lambda x: [item for sublist in x for item in sublist])"
   ]
  },
  {
   "cell_type": "code",
   "execution_count": 8,
   "metadata": {
    "collapsed": false,
    "scrolled": false
   },
   "outputs": [],
   "source": [
    "# add indicator columns for each category\n",
    "catlist=df.categories.map(lambda x: None if x==None or isinstance(x,float) else [a['name'] for a in x]).tolist()\n",
    "catset=set([item for sublist  in catlist if sublist!=None for item in sublist])\n",
    "for category in catset:\n",
    "    df[\"c_\"+category+\"_i\"]=pd.Series(catlist, index=df.index).map(lambda x: category in x if x else False)"
   ]
  },
  {
   "cell_type": "code",
   "execution_count": 9,
   "metadata": {
    "collapsed": false
   },
   "outputs": [],
   "source": [
    "# add indicator columns for investors\n",
    "investorslist=df.investors.map(lambda x: None if x==None or isinstance(x,float) else [a['permalink'] for a in x]).tolist()\n",
    "investorset=set([item for sublist  in investorslist if sublist!=None for item in sublist])\n",
    "for inv in investorset:\n",
    "    df[\"i_\"+inv+\"_i\"]=pd.Series(investorslist, index=df.index).map(lambda x: inv in x if x else False)"
   ]
  },
  {
   "cell_type": "code",
   "execution_count": 10,
   "metadata": {
    "collapsed": true
   },
   "outputs": [],
   "source": [
    "# add indicator columns for cities (from offices)\n",
    "citylist=df.offices.map(lambda x: None if not x or isinstance(x,float) else [a['city'] for a in x]).tolist()\n",
    "cityset=set([item for sublist  in citylist if sublist!=None for item in sublist])\n",
    "for city in cityset:\n",
    "    if city != None:\n",
    "        df[\"city_\"+city+\"_i\"]=pd.Series(citylist, index=df.index).map(lambda x: city in x if x else False)"
   ]
  },
  {
   "cell_type": "code",
   "execution_count": 11,
   "metadata": {
    "collapsed": false
   },
   "outputs": [],
   "source": [
    "# add indicator columns for headquarter country\n",
    "countrylist=df.headquarters.map(lambda x: None if not x or isinstance(x,float) else [a['country'] for a in x]).tolist()\n",
    "countryset=set([item for sublist  in countrylist if sublist!=None for item in sublist])\n",
    "for country in countryset:\n",
    "    if country != None:\n",
    "        df[\"country_\"+country+\"_i\"]=pd.Series(countrylist, index=df.index).map(lambda x: city in x if x else False)"
   ]
  },
  {
   "cell_type": "markdown",
   "metadata": {},
   "source": [
    "After adding indicator columns, we now get some more data from the fields that currently exist as dictionaries/lists"
   ]
  },
  {
   "cell_type": "code",
   "execution_count": 12,
   "metadata": {
    "collapsed": false
   },
   "outputs": [],
   "source": [
    "df['funding_dates']=df.funding_rounds.map(lambda x:[] if not x or isinstance(x,float) else [datetime.datetime(*time.strptime(a['announced_on'], '%Y-%m-%d')[:3]) for a in x])"
   ]
  },
  {
   "cell_type": "code",
   "execution_count": 13,
   "metadata": {
    "collapsed": false
   },
   "outputs": [],
   "source": [
    "df['funding_amounts']=df.funding_rounds.map(lambda x:[] if not x or isinstance(x,float) else [float(a['money_raised_usd']) if a['money_raised_usd'] != None else 0 for a in x])"
   ]
  },
  {
   "cell_type": "code",
   "execution_count": 14,
   "metadata": {
    "collapsed": false
   },
   "outputs": [],
   "source": [
    "df['num_funding_rounds']=df.funding_amounts.map(lambda x: len(x))"
   ]
  },
  {
   "cell_type": "code",
   "execution_count": 15,
   "metadata": {
    "collapsed": false
   },
   "outputs": [
    {
     "name": "stderr",
     "output_type": "stream",
     "text": [
      "/usr/local/lib/python2.7/site-packages/numpy/core/_methods.py:59: RuntimeWarning: Mean of empty slice.\n",
      "  warnings.warn(\"Mean of empty slice.\", RuntimeWarning)\n"
     ]
    }
   ],
   "source": [
    "df['funding_mean']=df.funding_amounts.map(lambda x: np.mean(x))\n",
    "df['funding_total']=df.funding_amounts.map(lambda x: np.sum(x))"
   ]
  },
  {
   "cell_type": "code",
   "execution_count": 16,
   "metadata": {
    "collapsed": false
   },
   "outputs": [],
   "source": [
    "df['went_ipo']=df.ipo.map(lambda x: True if x else False)"
   ]
  },
  {
   "cell_type": "code",
   "execution_count": 17,
   "metadata": {
    "collapsed": false
   },
   "outputs": [],
   "source": [
    "df['was_acquired']=df.acquired_by.map(lambda x: True if x else False)"
   ]
  },
  {
   "cell_type": "code",
   "execution_count": 18,
   "metadata": {
    "collapsed": false
   },
   "outputs": [],
   "source": [
    "df['founder_names']=df.founders.map(lambda x:[] if not x or isinstance(x,float) else [a['permalink']  for a in x])\n",
    "df['num_founders']=df.founders.map(lambda x: np.count_nonzero(x))"
   ]
  },
  {
   "cell_type": "code",
   "execution_count": 19,
   "metadata": {
    "collapsed": false
   },
   "outputs": [],
   "source": [
    "df['founder_ages'] = df.founders.map(lambda x:[] if not x or isinstance(x,float) else [(datetime.date.today()-datetime.date(*time.strptime(a['born_on'],'%Y-%m-%d')[:3])).days/365 for a in x if isinstance(a['born_on'],unicode)])\n",
    "df['founder_ages_mean'] = df.founder_ages.map(lambda x: np.mean(x) if len(x) >0 else 0)\n",
    "df['num_competitors'] = df.competitors.map(lambda x: np.count_nonzero(x))\n",
    "df['num_acquisitions'] = df.acquisitions.map(lambda x: np.count_nonzero(x))\n",
    "df['num_board_members_and_advisors'] = df.board_members_and_advisors.map(lambda x: np.count_nonzero(x))"
   ]
  },
  {
   "cell_type": "code",
   "execution_count": 20,
   "metadata": {
    "collapsed": false
   },
   "outputs": [
    {
     "data": {
      "text/html": [
       "<div>\n",
       "<table border=\"1\" class=\"dataframe\">\n",
       "  <thead>\n",
       "    <tr style=\"text-align: right;\">\n",
       "      <th></th>\n",
       "      <th>acquired_by</th>\n",
       "      <th>acquisitions</th>\n",
       "      <th>board_members_and_advisors</th>\n",
       "      <th>categories</th>\n",
       "      <th>competitors</th>\n",
       "      <th>founders</th>\n",
       "      <th>funding_rounds</th>\n",
       "      <th>headquarters</th>\n",
       "      <th>investors</th>\n",
       "      <th>ipo</th>\n",
       "      <th>month_founded</th>\n",
       "      <th>moonth_founded</th>\n",
       "      <th>offices</th>\n",
       "      <th>short_description</th>\n",
       "      <th>text_nouns</th>\n",
       "      <th>text_adjectives</th>\n",
       "      <th>c_Marketplaces_i</th>\n",
       "      <th>c_Veterinary_i</th>\n",
       "      <th>c_Crowdsourcing_i</th>\n",
       "      <th>c_Data Privacy_i</th>\n",
       "      <th>c_B2B_i</th>\n",
       "      <th>c_Online Video Advertising_i</th>\n",
       "      <th>c_Event Management_i</th>\n",
       "      <th>c_Corporate IT_i</th>\n",
       "      <th>c_Health and Insurance_i</th>\n",
       "      <th>c_Crowdfunding_i</th>\n",
       "      <th>c_Performance Marketing_i</th>\n",
       "      <th>c_Incentives_i</th>\n",
       "      <th>c_Social Television_i</th>\n",
       "      <th>c_Communications Infrastructure_i</th>\n",
       "      <th>c_Collaborative Consumption_i</th>\n",
       "      <th>c_Lighting_i</th>\n",
       "      <th>c_Virtual Currency_i</th>\n",
       "      <th>c_Designers_i</th>\n",
       "      <th>c_Tourism_i</th>\n",
       "      <th>c_Concentrated Solar Power_i</th>\n",
       "      <th>c_Training_i</th>\n",
       "      <th>c_Indians_i</th>\n",
       "      <th>c_Knowledge Management_i</th>\n",
       "      <th>c_Celebrity_i</th>\n",
       "      <th>c_Automated Kiosk_i</th>\n",
       "      <th>c_Call Center Automation_i</th>\n",
       "      <th>c_Social Media Marketing_i</th>\n",
       "      <th>c_Sensors_i</th>\n",
       "      <th>c_Restaurants_i</th>\n",
       "      <th>c_Cosmetic Surgery_i</th>\n",
       "      <th>c_Portals_i</th>\n",
       "      <th>c_Clinical Trials_i</th>\n",
       "      <th>c_Independent Music Labels_i</th>\n",
       "      <th>c_Customer Support Tools_i</th>\n",
       "      <th>...</th>\n",
       "      <th>country_Finland_i</th>\n",
       "      <th>country_Mexico_i</th>\n",
       "      <th>country_Moldova_i</th>\n",
       "      <th>country_United States_i</th>\n",
       "      <th>country_Belgium_i</th>\n",
       "      <th>country_Sweden_i</th>\n",
       "      <th>country_Latvia_i</th>\n",
       "      <th>country_Luxembourg_i</th>\n",
       "      <th>country_Monaco_i</th>\n",
       "      <th>country_Switzerland_i</th>\n",
       "      <th>country_Belarus_i</th>\n",
       "      <th>country_New Zealand_i</th>\n",
       "      <th>country_Nepal_i</th>\n",
       "      <th>country_Taiwan_i</th>\n",
       "      <th>country_Brazil_i</th>\n",
       "      <th>country_Bulgaria_i</th>\n",
       "      <th>country_Pakistan_i</th>\n",
       "      <th>country_Romania_i</th>\n",
       "      <th>country_Philippines_i</th>\n",
       "      <th>country_Portugal_i</th>\n",
       "      <th>country_Estonia_i</th>\n",
       "      <th>country_South Africa_i</th>\n",
       "      <th>country_Egypt_i</th>\n",
       "      <th>country_United Arab Emirates_i</th>\n",
       "      <th>country_Uruguay_i</th>\n",
       "      <th>country_India_i</th>\n",
       "      <th>country_Peru_i</th>\n",
       "      <th>country_United Kingdom_i</th>\n",
       "      <th>country_Malaysia_i</th>\n",
       "      <th>country_Austria_i</th>\n",
       "      <th>country_Vietnam_i</th>\n",
       "      <th>country_Tunisia_i</th>\n",
       "      <th>country_Colombia_i</th>\n",
       "      <th>country_Greece_i</th>\n",
       "      <th>country_Japan_i</th>\n",
       "      <th>country_South Korea_i</th>\n",
       "      <th>funding_dates</th>\n",
       "      <th>funding_amounts</th>\n",
       "      <th>num_funding_rounds</th>\n",
       "      <th>funding_mean</th>\n",
       "      <th>funding_total</th>\n",
       "      <th>went_ipo</th>\n",
       "      <th>was_acquired</th>\n",
       "      <th>founder_names</th>\n",
       "      <th>num_founders</th>\n",
       "      <th>founder_ages</th>\n",
       "      <th>founder_ages_mean</th>\n",
       "      <th>num_competitors</th>\n",
       "      <th>num_acquisitions</th>\n",
       "      <th>num_board_members_and_advisors</th>\n",
       "    </tr>\n",
       "  </thead>\n",
       "  <tbody>\n",
       "    <tr>\n",
       "      <th>objectway</th>\n",
       "      <td>[]</td>\n",
       "      <td>[]</td>\n",
       "      <td>[]</td>\n",
       "      <td>[{u'name': u'Software'}]</td>\n",
       "      <td>[]</td>\n",
       "      <td>[]</td>\n",
       "      <td>[{u'announced_on': u'2012-12-05', u'funding_ty...</td>\n",
       "      <td>[{u'city': u'Milan', u'country': u'Italy'}]</td>\n",
       "      <td>[]</td>\n",
       "      <td>[]</td>\n",
       "      <td>1990-01</td>\n",
       "      <td>NaN</td>\n",
       "      <td>[{u'city': u'Milan', u'country': u'Italy'}]</td>\n",
       "      <td>ObjectWay develops software applications and t...</td>\n",
       "      <td>[software, application, technology, service, m...</td>\n",
       "      <td>[financial]</td>\n",
       "      <td>False</td>\n",
       "      <td>False</td>\n",
       "      <td>False</td>\n",
       "      <td>False</td>\n",
       "      <td>False</td>\n",
       "      <td>False</td>\n",
       "      <td>False</td>\n",
       "      <td>False</td>\n",
       "      <td>False</td>\n",
       "      <td>False</td>\n",
       "      <td>False</td>\n",
       "      <td>False</td>\n",
       "      <td>False</td>\n",
       "      <td>False</td>\n",
       "      <td>False</td>\n",
       "      <td>False</td>\n",
       "      <td>False</td>\n",
       "      <td>False</td>\n",
       "      <td>False</td>\n",
       "      <td>False</td>\n",
       "      <td>False</td>\n",
       "      <td>False</td>\n",
       "      <td>False</td>\n",
       "      <td>False</td>\n",
       "      <td>False</td>\n",
       "      <td>False</td>\n",
       "      <td>False</td>\n",
       "      <td>False</td>\n",
       "      <td>False</td>\n",
       "      <td>False</td>\n",
       "      <td>False</td>\n",
       "      <td>False</td>\n",
       "      <td>False</td>\n",
       "      <td>False</td>\n",
       "      <td>...</td>\n",
       "      <td>False</td>\n",
       "      <td>False</td>\n",
       "      <td>False</td>\n",
       "      <td>False</td>\n",
       "      <td>False</td>\n",
       "      <td>False</td>\n",
       "      <td>False</td>\n",
       "      <td>False</td>\n",
       "      <td>False</td>\n",
       "      <td>False</td>\n",
       "      <td>False</td>\n",
       "      <td>False</td>\n",
       "      <td>False</td>\n",
       "      <td>False</td>\n",
       "      <td>False</td>\n",
       "      <td>False</td>\n",
       "      <td>False</td>\n",
       "      <td>False</td>\n",
       "      <td>False</td>\n",
       "      <td>False</td>\n",
       "      <td>False</td>\n",
       "      <td>False</td>\n",
       "      <td>False</td>\n",
       "      <td>False</td>\n",
       "      <td>False</td>\n",
       "      <td>False</td>\n",
       "      <td>False</td>\n",
       "      <td>False</td>\n",
       "      <td>False</td>\n",
       "      <td>False</td>\n",
       "      <td>False</td>\n",
       "      <td>False</td>\n",
       "      <td>False</td>\n",
       "      <td>False</td>\n",
       "      <td>False</td>\n",
       "      <td>False</td>\n",
       "      <td>[2012-12-05 00:00:00]</td>\n",
       "      <td>[13065000.0]</td>\n",
       "      <td>1</td>\n",
       "      <td>13065000.0</td>\n",
       "      <td>13065000</td>\n",
       "      <td>False</td>\n",
       "      <td>False</td>\n",
       "      <td>[]</td>\n",
       "      <td>0</td>\n",
       "      <td>[]</td>\n",
       "      <td>0</td>\n",
       "      <td>0</td>\n",
       "      <td>0</td>\n",
       "      <td>0</td>\n",
       "    </tr>\n",
       "    <tr>\n",
       "      <th>express-inn-hotel</th>\n",
       "      <td>[]</td>\n",
       "      <td>[]</td>\n",
       "      <td>[]</td>\n",
       "      <td>[{u'name': u'Real Estate'}]</td>\n",
       "      <td>[]</td>\n",
       "      <td>[]</td>\n",
       "      <td>[{u'announced_on': u'2014-11-19', u'funding_ty...</td>\n",
       "      <td>[{u'city': u'Junction City', u'country': u'Uni...</td>\n",
       "      <td>[]</td>\n",
       "      <td>[]</td>\n",
       "      <td>2008-08</td>\n",
       "      <td>2008-08</td>\n",
       "      <td>[{u'city': u'Junction City', u'country': u'Uni...</td>\n",
       "      <td>Hotel opportunity: Selling 50% equity for $1M,...</td>\n",
       "      <td>[opportunity, equity, partner, salary, profit,...</td>\n",
       "      <td>[50%]</td>\n",
       "      <td>False</td>\n",
       "      <td>False</td>\n",
       "      <td>False</td>\n",
       "      <td>False</td>\n",
       "      <td>False</td>\n",
       "      <td>False</td>\n",
       "      <td>False</td>\n",
       "      <td>False</td>\n",
       "      <td>False</td>\n",
       "      <td>False</td>\n",
       "      <td>False</td>\n",
       "      <td>False</td>\n",
       "      <td>False</td>\n",
       "      <td>False</td>\n",
       "      <td>False</td>\n",
       "      <td>False</td>\n",
       "      <td>False</td>\n",
       "      <td>False</td>\n",
       "      <td>False</td>\n",
       "      <td>False</td>\n",
       "      <td>False</td>\n",
       "      <td>False</td>\n",
       "      <td>False</td>\n",
       "      <td>False</td>\n",
       "      <td>False</td>\n",
       "      <td>False</td>\n",
       "      <td>False</td>\n",
       "      <td>False</td>\n",
       "      <td>False</td>\n",
       "      <td>False</td>\n",
       "      <td>False</td>\n",
       "      <td>False</td>\n",
       "      <td>False</td>\n",
       "      <td>False</td>\n",
       "      <td>...</td>\n",
       "      <td>False</td>\n",
       "      <td>False</td>\n",
       "      <td>False</td>\n",
       "      <td>False</td>\n",
       "      <td>False</td>\n",
       "      <td>False</td>\n",
       "      <td>False</td>\n",
       "      <td>False</td>\n",
       "      <td>False</td>\n",
       "      <td>False</td>\n",
       "      <td>False</td>\n",
       "      <td>False</td>\n",
       "      <td>False</td>\n",
       "      <td>False</td>\n",
       "      <td>False</td>\n",
       "      <td>False</td>\n",
       "      <td>False</td>\n",
       "      <td>False</td>\n",
       "      <td>False</td>\n",
       "      <td>False</td>\n",
       "      <td>False</td>\n",
       "      <td>False</td>\n",
       "      <td>False</td>\n",
       "      <td>False</td>\n",
       "      <td>False</td>\n",
       "      <td>False</td>\n",
       "      <td>False</td>\n",
       "      <td>False</td>\n",
       "      <td>False</td>\n",
       "      <td>False</td>\n",
       "      <td>False</td>\n",
       "      <td>False</td>\n",
       "      <td>False</td>\n",
       "      <td>False</td>\n",
       "      <td>False</td>\n",
       "      <td>False</td>\n",
       "      <td>[2014-11-19 00:00:00]</td>\n",
       "      <td>[50000.0]</td>\n",
       "      <td>1</td>\n",
       "      <td>50000.0</td>\n",
       "      <td>50000</td>\n",
       "      <td>False</td>\n",
       "      <td>False</td>\n",
       "      <td>[]</td>\n",
       "      <td>0</td>\n",
       "      <td>[]</td>\n",
       "      <td>0</td>\n",
       "      <td>0</td>\n",
       "      <td>0</td>\n",
       "      <td>0</td>\n",
       "    </tr>\n",
       "    <tr>\n",
       "      <th>rebounces</th>\n",
       "      <td>[]</td>\n",
       "      <td>[]</td>\n",
       "      <td>[]</td>\n",
       "      <td>[{u'name': u'Sports'}]</td>\n",
       "      <td>[]</td>\n",
       "      <td>[]</td>\n",
       "      <td>[{u'announced_on': u'2010-05-20', u'funding_ty...</td>\n",
       "      <td>[{u'city': u'Harrison', u'country': u'United S...</td>\n",
       "      <td>[]</td>\n",
       "      <td>[]</td>\n",
       "      <td>2008-09</td>\n",
       "      <td>2008-09</td>\n",
       "      <td>[{u'city': u'Harrison', u'country': u'United S...</td>\n",
       "      <td>reBounces has developed, patented and sold the...</td>\n",
       "      <td>[rebounce, cost, solution, tennis, ball]</td>\n",
       "      <td>[patented, effective, bulk]</td>\n",
       "      <td>False</td>\n",
       "      <td>False</td>\n",
       "      <td>False</td>\n",
       "      <td>False</td>\n",
       "      <td>False</td>\n",
       "      <td>False</td>\n",
       "      <td>False</td>\n",
       "      <td>False</td>\n",
       "      <td>False</td>\n",
       "      <td>False</td>\n",
       "      <td>False</td>\n",
       "      <td>False</td>\n",
       "      <td>False</td>\n",
       "      <td>False</td>\n",
       "      <td>False</td>\n",
       "      <td>False</td>\n",
       "      <td>False</td>\n",
       "      <td>False</td>\n",
       "      <td>False</td>\n",
       "      <td>False</td>\n",
       "      <td>False</td>\n",
       "      <td>False</td>\n",
       "      <td>False</td>\n",
       "      <td>False</td>\n",
       "      <td>False</td>\n",
       "      <td>False</td>\n",
       "      <td>False</td>\n",
       "      <td>False</td>\n",
       "      <td>False</td>\n",
       "      <td>False</td>\n",
       "      <td>False</td>\n",
       "      <td>False</td>\n",
       "      <td>False</td>\n",
       "      <td>False</td>\n",
       "      <td>...</td>\n",
       "      <td>False</td>\n",
       "      <td>False</td>\n",
       "      <td>False</td>\n",
       "      <td>False</td>\n",
       "      <td>False</td>\n",
       "      <td>False</td>\n",
       "      <td>False</td>\n",
       "      <td>False</td>\n",
       "      <td>False</td>\n",
       "      <td>False</td>\n",
       "      <td>False</td>\n",
       "      <td>False</td>\n",
       "      <td>False</td>\n",
       "      <td>False</td>\n",
       "      <td>False</td>\n",
       "      <td>False</td>\n",
       "      <td>False</td>\n",
       "      <td>False</td>\n",
       "      <td>False</td>\n",
       "      <td>False</td>\n",
       "      <td>False</td>\n",
       "      <td>False</td>\n",
       "      <td>False</td>\n",
       "      <td>False</td>\n",
       "      <td>False</td>\n",
       "      <td>False</td>\n",
       "      <td>False</td>\n",
       "      <td>False</td>\n",
       "      <td>False</td>\n",
       "      <td>False</td>\n",
       "      <td>False</td>\n",
       "      <td>False</td>\n",
       "      <td>False</td>\n",
       "      <td>False</td>\n",
       "      <td>False</td>\n",
       "      <td>False</td>\n",
       "      <td>[2010-05-20 00:00:00]</td>\n",
       "      <td>[0]</td>\n",
       "      <td>1</td>\n",
       "      <td>0.0</td>\n",
       "      <td>0</td>\n",
       "      <td>False</td>\n",
       "      <td>False</td>\n",
       "      <td>[]</td>\n",
       "      <td>0</td>\n",
       "      <td>[]</td>\n",
       "      <td>0</td>\n",
       "      <td>0</td>\n",
       "      <td>0</td>\n",
       "      <td>0</td>\n",
       "    </tr>\n",
       "    <tr>\n",
       "      <th>ivycorp</th>\n",
       "      <td>[]</td>\n",
       "      <td>[]</td>\n",
       "      <td>[]</td>\n",
       "      <td>[{u'name': u'Messaging'}, {u'name': u'Mobile'}...</td>\n",
       "      <td>[]</td>\n",
       "      <td>[{u'bio': u'Mary Jesse is a wireless industry ...</td>\n",
       "      <td>[{u'announced_on': u'2011-01-07', u'funding_ty...</td>\n",
       "      <td>[{u'city': u'Redmond', u'country': u'United St...</td>\n",
       "      <td>[{u'permalink': u'womens-venture-capital-fund'}]</td>\n",
       "      <td>[]</td>\n",
       "      <td>2007-01</td>\n",
       "      <td>NaN</td>\n",
       "      <td>[{u'city': u'Redmond', u'country': u'United St...</td>\n",
       "      <td>Ivycorp offers a hosted, fully scalable cross-...</td>\n",
       "      <td>[cross-channel, platform, group, messaging, se...</td>\n",
       "      <td>[scalable, intelligent]</td>\n",
       "      <td>False</td>\n",
       "      <td>False</td>\n",
       "      <td>False</td>\n",
       "      <td>False</td>\n",
       "      <td>False</td>\n",
       "      <td>False</td>\n",
       "      <td>False</td>\n",
       "      <td>False</td>\n",
       "      <td>False</td>\n",
       "      <td>False</td>\n",
       "      <td>False</td>\n",
       "      <td>False</td>\n",
       "      <td>False</td>\n",
       "      <td>False</td>\n",
       "      <td>False</td>\n",
       "      <td>False</td>\n",
       "      <td>False</td>\n",
       "      <td>False</td>\n",
       "      <td>False</td>\n",
       "      <td>False</td>\n",
       "      <td>False</td>\n",
       "      <td>False</td>\n",
       "      <td>False</td>\n",
       "      <td>False</td>\n",
       "      <td>False</td>\n",
       "      <td>False</td>\n",
       "      <td>False</td>\n",
       "      <td>False</td>\n",
       "      <td>False</td>\n",
       "      <td>False</td>\n",
       "      <td>False</td>\n",
       "      <td>False</td>\n",
       "      <td>False</td>\n",
       "      <td>False</td>\n",
       "      <td>...</td>\n",
       "      <td>False</td>\n",
       "      <td>False</td>\n",
       "      <td>False</td>\n",
       "      <td>False</td>\n",
       "      <td>False</td>\n",
       "      <td>False</td>\n",
       "      <td>False</td>\n",
       "      <td>False</td>\n",
       "      <td>False</td>\n",
       "      <td>False</td>\n",
       "      <td>False</td>\n",
       "      <td>False</td>\n",
       "      <td>False</td>\n",
       "      <td>False</td>\n",
       "      <td>False</td>\n",
       "      <td>False</td>\n",
       "      <td>False</td>\n",
       "      <td>False</td>\n",
       "      <td>False</td>\n",
       "      <td>False</td>\n",
       "      <td>False</td>\n",
       "      <td>False</td>\n",
       "      <td>False</td>\n",
       "      <td>False</td>\n",
       "      <td>False</td>\n",
       "      <td>False</td>\n",
       "      <td>False</td>\n",
       "      <td>False</td>\n",
       "      <td>False</td>\n",
       "      <td>False</td>\n",
       "      <td>False</td>\n",
       "      <td>False</td>\n",
       "      <td>False</td>\n",
       "      <td>False</td>\n",
       "      <td>False</td>\n",
       "      <td>False</td>\n",
       "      <td>[2011-01-07 00:00:00, 2011-06-21 00:00:00, 201...</td>\n",
       "      <td>[630000.0, 450000.0, 1437000.0, 2000000.0, 241...</td>\n",
       "      <td>5</td>\n",
       "      <td>951663.8</td>\n",
       "      <td>4758319</td>\n",
       "      <td>False</td>\n",
       "      <td>False</td>\n",
       "      <td>[mary-jesse, steve-knox]</td>\n",
       "      <td>2</td>\n",
       "      <td>[]</td>\n",
       "      <td>0</td>\n",
       "      <td>0</td>\n",
       "      <td>0</td>\n",
       "      <td>0</td>\n",
       "    </tr>\n",
       "    <tr>\n",
       "      <th>fantasy-shopper</th>\n",
       "      <td>[]</td>\n",
       "      <td>[]</td>\n",
       "      <td>[]</td>\n",
       "      <td>[{u'name': u'Fashion'}, {u'name': u'Social Med...</td>\n",
       "      <td>[{u'permalink': u'boutiques-com'}, {u'permalin...</td>\n",
       "      <td>[{u'bio': None, u'permalink': u'chris-prescott...</td>\n",
       "      <td>[{u'announced_on': u'2012-01-23', u'funding_ty...</td>\n",
       "      <td>[{u'city': u'Exeter', u'country': u'United Kin...</td>\n",
       "      <td>[{u'permalink': u'new-enterprise-associates'},...</td>\n",
       "      <td>[]</td>\n",
       "      <td>2010-11</td>\n",
       "      <td>2010-11</td>\n",
       "      <td>[{u'city': u'Exeter', u'country': u'United Kin...</td>\n",
       "      <td>Fantasy Shopper is an entertainment-based soci...</td>\n",
       "      <td>[shopping, platform, fashion, retailer]</td>\n",
       "      <td>[entertainment-based, social, online, offline]</td>\n",
       "      <td>False</td>\n",
       "      <td>False</td>\n",
       "      <td>False</td>\n",
       "      <td>False</td>\n",
       "      <td>False</td>\n",
       "      <td>False</td>\n",
       "      <td>False</td>\n",
       "      <td>False</td>\n",
       "      <td>False</td>\n",
       "      <td>False</td>\n",
       "      <td>False</td>\n",
       "      <td>False</td>\n",
       "      <td>False</td>\n",
       "      <td>False</td>\n",
       "      <td>False</td>\n",
       "      <td>False</td>\n",
       "      <td>False</td>\n",
       "      <td>False</td>\n",
       "      <td>False</td>\n",
       "      <td>False</td>\n",
       "      <td>False</td>\n",
       "      <td>False</td>\n",
       "      <td>False</td>\n",
       "      <td>False</td>\n",
       "      <td>False</td>\n",
       "      <td>False</td>\n",
       "      <td>False</td>\n",
       "      <td>False</td>\n",
       "      <td>False</td>\n",
       "      <td>False</td>\n",
       "      <td>False</td>\n",
       "      <td>False</td>\n",
       "      <td>False</td>\n",
       "      <td>False</td>\n",
       "      <td>...</td>\n",
       "      <td>False</td>\n",
       "      <td>False</td>\n",
       "      <td>False</td>\n",
       "      <td>False</td>\n",
       "      <td>False</td>\n",
       "      <td>False</td>\n",
       "      <td>False</td>\n",
       "      <td>False</td>\n",
       "      <td>False</td>\n",
       "      <td>False</td>\n",
       "      <td>False</td>\n",
       "      <td>False</td>\n",
       "      <td>False</td>\n",
       "      <td>False</td>\n",
       "      <td>False</td>\n",
       "      <td>False</td>\n",
       "      <td>False</td>\n",
       "      <td>False</td>\n",
       "      <td>False</td>\n",
       "      <td>False</td>\n",
       "      <td>False</td>\n",
       "      <td>False</td>\n",
       "      <td>False</td>\n",
       "      <td>False</td>\n",
       "      <td>False</td>\n",
       "      <td>False</td>\n",
       "      <td>False</td>\n",
       "      <td>False</td>\n",
       "      <td>False</td>\n",
       "      <td>False</td>\n",
       "      <td>False</td>\n",
       "      <td>False</td>\n",
       "      <td>False</td>\n",
       "      <td>False</td>\n",
       "      <td>False</td>\n",
       "      <td>False</td>\n",
       "      <td>[2012-01-23 00:00:00, 2010-12-09 00:00:00]</td>\n",
       "      <td>[3300000.0, 263271.0]</td>\n",
       "      <td>2</td>\n",
       "      <td>1781635.5</td>\n",
       "      <td>3563271</td>\n",
       "      <td>False</td>\n",
       "      <td>False</td>\n",
       "      <td>[chris-prescott, daniel-noz]</td>\n",
       "      <td>2</td>\n",
       "      <td>[]</td>\n",
       "      <td>0</td>\n",
       "      <td>6</td>\n",
       "      <td>0</td>\n",
       "      <td>0</td>\n",
       "    </tr>\n",
       "  </tbody>\n",
       "</table>\n",
       "<p>5 rows × 9034 columns</p>\n",
       "</div>"
      ],
      "text/plain": [
       "                  acquired_by acquisitions board_members_and_advisors                                         categories                                        competitors                                           founders                                     funding_rounds                                       headquarters                                          investors ipo month_founded moonth_founded                                            offices  \\\n",
       "objectway                  []           []                         []                           [{u'name': u'Software'}]                                                 []                                                 []  [{u'announced_on': u'2012-12-05', u'funding_ty...        [{u'city': u'Milan', u'country': u'Italy'}]                                                 []  []       1990-01            NaN        [{u'city': u'Milan', u'country': u'Italy'}]   \n",
       "express-inn-hotel          []           []                         []                        [{u'name': u'Real Estate'}]                                                 []                                                 []  [{u'announced_on': u'2014-11-19', u'funding_ty...  [{u'city': u'Junction City', u'country': u'Uni...                                                 []  []       2008-08        2008-08  [{u'city': u'Junction City', u'country': u'Uni...   \n",
       "rebounces                  []           []                         []                             [{u'name': u'Sports'}]                                                 []                                                 []  [{u'announced_on': u'2010-05-20', u'funding_ty...  [{u'city': u'Harrison', u'country': u'United S...                                                 []  []       2008-09        2008-09  [{u'city': u'Harrison', u'country': u'United S...   \n",
       "ivycorp                    []           []                         []  [{u'name': u'Messaging'}, {u'name': u'Mobile'}...                                                 []  [{u'bio': u'Mary Jesse is a wireless industry ...  [{u'announced_on': u'2011-01-07', u'funding_ty...  [{u'city': u'Redmond', u'country': u'United St...   [{u'permalink': u'womens-venture-capital-fund'}]  []       2007-01            NaN  [{u'city': u'Redmond', u'country': u'United St...   \n",
       "fantasy-shopper            []           []                         []  [{u'name': u'Fashion'}, {u'name': u'Social Med...  [{u'permalink': u'boutiques-com'}, {u'permalin...  [{u'bio': None, u'permalink': u'chris-prescott...  [{u'announced_on': u'2012-01-23', u'funding_ty...  [{u'city': u'Exeter', u'country': u'United Kin...  [{u'permalink': u'new-enterprise-associates'},...  []       2010-11        2010-11  [{u'city': u'Exeter', u'country': u'United Kin...   \n",
       "\n",
       "                                                   short_description                                         text_nouns                                 text_adjectives c_Marketplaces_i c_Veterinary_i c_Crowdsourcing_i c_Data Privacy_i c_B2B_i c_Online Video Advertising_i c_Event Management_i c_Corporate IT_i c_Health and Insurance_i c_Crowdfunding_i c_Performance Marketing_i c_Incentives_i c_Social Television_i c_Communications Infrastructure_i c_Collaborative Consumption_i c_Lighting_i  \\\n",
       "objectway          ObjectWay develops software applications and t...  [software, application, technology, service, m...                                     [financial]            False          False             False            False   False                        False                False            False                    False            False                     False          False                 False                             False                         False        False   \n",
       "express-inn-hotel  Hotel opportunity: Selling 50% equity for $1M,...  [opportunity, equity, partner, salary, profit,...                                           [50%]            False          False             False            False   False                        False                False            False                    False            False                     False          False                 False                             False                         False        False   \n",
       "rebounces          reBounces has developed, patented and sold the...           [rebounce, cost, solution, tennis, ball]                     [patented, effective, bulk]            False          False             False            False   False                        False                False            False                    False            False                     False          False                 False                             False                         False        False   \n",
       "ivycorp            Ivycorp offers a hosted, fully scalable cross-...  [cross-channel, platform, group, messaging, se...                         [scalable, intelligent]            False          False             False            False   False                        False                False            False                    False            False                     False          False                 False                             False                         False        False   \n",
       "fantasy-shopper    Fantasy Shopper is an entertainment-based soci...            [shopping, platform, fashion, retailer]  [entertainment-based, social, online, offline]            False          False             False            False   False                        False                False            False                    False            False                     False          False                 False                             False                         False        False   \n",
       "\n",
       "                  c_Virtual Currency_i c_Designers_i c_Tourism_i c_Concentrated Solar Power_i c_Training_i c_Indians_i c_Knowledge Management_i c_Celebrity_i c_Automated Kiosk_i c_Call Center Automation_i c_Social Media Marketing_i c_Sensors_i c_Restaurants_i c_Cosmetic Surgery_i c_Portals_i c_Clinical Trials_i c_Independent Music Labels_i c_Customer Support Tools_i              ...               country_Finland_i country_Mexico_i country_Moldova_i country_United States_i country_Belgium_i  \\\n",
       "objectway                        False         False       False                        False        False       False                    False         False               False                      False                      False       False           False                False       False               False                        False                      False              ...                           False            False             False                   False             False   \n",
       "express-inn-hotel                False         False       False                        False        False       False                    False         False               False                      False                      False       False           False                False       False               False                        False                      False              ...                           False            False             False                   False             False   \n",
       "rebounces                        False         False       False                        False        False       False                    False         False               False                      False                      False       False           False                False       False               False                        False                      False              ...                           False            False             False                   False             False   \n",
       "ivycorp                          False         False       False                        False        False       False                    False         False               False                      False                      False       False           False                False       False               False                        False                      False              ...                           False            False             False                   False             False   \n",
       "fantasy-shopper                  False         False       False                        False        False       False                    False         False               False                      False                      False       False           False                False       False               False                        False                      False              ...                           False            False             False                   False             False   \n",
       "\n",
       "                  country_Sweden_i country_Latvia_i country_Luxembourg_i country_Monaco_i country_Switzerland_i country_Belarus_i country_New Zealand_i country_Nepal_i country_Taiwan_i country_Brazil_i country_Bulgaria_i country_Pakistan_i country_Romania_i country_Philippines_i country_Portugal_i country_Estonia_i country_South Africa_i country_Egypt_i country_United Arab Emirates_i country_Uruguay_i country_India_i country_Peru_i country_United Kingdom_i country_Malaysia_i country_Austria_i  \\\n",
       "objectway                    False            False                False            False                 False             False                 False           False            False            False              False              False             False                 False              False             False                  False           False                          False             False           False          False                    False              False             False   \n",
       "express-inn-hotel            False            False                False            False                 False             False                 False           False            False            False              False              False             False                 False              False             False                  False           False                          False             False           False          False                    False              False             False   \n",
       "rebounces                    False            False                False            False                 False             False                 False           False            False            False              False              False             False                 False              False             False                  False           False                          False             False           False          False                    False              False             False   \n",
       "ivycorp                      False            False                False            False                 False             False                 False           False            False            False              False              False             False                 False              False             False                  False           False                          False             False           False          False                    False              False             False   \n",
       "fantasy-shopper              False            False                False            False                 False             False                 False           False            False            False              False              False             False                 False              False             False                  False           False                          False             False           False          False                    False              False             False   \n",
       "\n",
       "                  country_Vietnam_i country_Tunisia_i country_Colombia_i country_Greece_i country_Japan_i country_South Korea_i                                      funding_dates                                    funding_amounts num_funding_rounds funding_mean funding_total went_ipo was_acquired                 founder_names num_founders founder_ages founder_ages_mean num_competitors num_acquisitions num_board_members_and_advisors  \n",
       "objectway                     False             False              False            False           False                 False                              [2012-12-05 00:00:00]                                       [13065000.0]                  1   13065000.0      13065000    False        False                            []            0           []                 0               0                0                              0  \n",
       "express-inn-hotel             False             False              False            False           False                 False                              [2014-11-19 00:00:00]                                          [50000.0]                  1      50000.0         50000    False        False                            []            0           []                 0               0                0                              0  \n",
       "rebounces                     False             False              False            False           False                 False                              [2010-05-20 00:00:00]                                                [0]                  1          0.0             0    False        False                            []            0           []                 0               0                0                              0  \n",
       "ivycorp                       False             False              False            False           False                 False  [2011-01-07 00:00:00, 2011-06-21 00:00:00, 201...  [630000.0, 450000.0, 1437000.0, 2000000.0, 241...                  5     951663.8       4758319    False        False      [mary-jesse, steve-knox]            2           []                 0               0                0                              0  \n",
       "fantasy-shopper               False             False              False            False           False                 False         [2012-01-23 00:00:00, 2010-12-09 00:00:00]                              [3300000.0, 263271.0]                  2    1781635.5       3563271    False        False  [chris-prescott, daniel-noz]            2           []                 0               6                0                              0  \n",
       "\n",
       "[5 rows x 9034 columns]"
      ]
     },
     "execution_count": 20,
     "metadata": {},
     "output_type": "execute_result"
    }
   ],
   "source": [
    "df.head()"
   ]
  },
  {
   "cell_type": "code",
   "execution_count": 21,
   "metadata": {
    "collapsed": false
   },
   "outputs": [
    {
     "name": "stdout",
     "output_type": "stream",
     "text": [
      "<class 'pandas.core.frame.DataFrame'>\n",
      "Index: 6852 entries, objectway to lodo-software\n",
      "Columns: 9034 entries, acquired_by to num_board_members_and_advisors\n",
      "dtypes: bool(9006), float64(3), int64(5), object(20)\n",
      "memory usage: 60.4+ MB\n"
     ]
    }
   ],
   "source": [
    "df.info()"
   ]
  },
  {
   "cell_type": "markdown",
   "metadata": {},
   "source": [
    "Ways to improve our cleaning:\n",
    "* Imputation of the missing value based on the neighborhood: right now we set the missing value to None (and so False in the indicator) maybe we could impute them based on the average value among all the data or among the closest entries.\n",
    "* We are not considering the short-description. We could try to extract from them the meaningful words (same for the bio, for instance the background of the person)"
   ]
  },
  {
   "cell_type": "markdown",
   "metadata": {},
   "source": [
    "# EDA"
   ]
  },
  {
   "cell_type": "markdown",
   "metadata": {},
   "source": [
    "To begin our exploratory data analysis, let's first take a look at how many companies match each of our different success metrics."
   ]
  },
  {
   "cell_type": "code",
   "execution_count": 24,
   "metadata": {
    "collapsed": false
   },
   "outputs": [
    {
     "name": "stdout",
     "output_type": "stream",
     "text": [
      "Number of companies that were acquired: 1072\n",
      "Number of companies with at least 1 funding round: 6626\n",
      "Number of companies that IPOed: 502\n"
     ]
    }
   ],
   "source": [
    "# The number of rows of companies in our 2000 sample that were acquired\n",
    "print \"Number of companies that were acquired: %s\" % len(df[df.was_acquired == True])\n",
    "print \"Number of companies with at least 1 funding round: %s\" % len(df[df.num_funding_rounds > 0])\n",
    "print \"Number of companies that IPOed: %s\" % len(df[df.went_ipo == True])"
   ]
  },
  {
   "cell_type": "markdown",
   "metadata": {
    "collapsed": true
   },
   "source": [
    "Clearly Acquired and IPOed are good indicators, but funding rounds appears to be a prerequisite to making it into the CrunchBase system.  Perhaps we can be more discerning in determining which companies that raised funds are considered succesful, maybe a specific amount or number of rounds.  \n",
    "\n",
    "Let's take a closer look at funding rounds, specifically total amount raised:"
   ]
  },
  {
   "cell_type": "code",
   "execution_count": 25,
   "metadata": {
    "collapsed": false
   },
   "outputs": [
    {
     "data": {
      "image/png": "[encoded data removed]",
      "text/plain": [
       "<matplotlib.figure.Figure at 0x1147346d0>"
      ]
     },
     "metadata": {},
     "output_type": "display_data"
    },
    {
     "data": {
      "image/png": "[encoded data removed]",
      "text/plain": [
       "<matplotlib.figure.Figure at 0x1148dbc90>"
      ]
     },
     "metadata": {},
     "output_type": "display_data"
    }
   ],
   "source": [
    "plt.hist(df.funding_total)\n",
    "plt.title('Total Amount Raised per Company (All Companies)')\n",
    "plt.xlabel('Total Amount Raised')\n",
    "plt.ylabel('Number of Companies')\n",
    "plt.show()\n",
    "\n",
    "plt.xlim(0,2000000)\n",
    "plt.hist(df.funding_total, bins=10000)\n",
    "plt.title('Total Amount Raised per Company (Zoomed In)')\n",
    "plt.xlabel('Total Amount Raised')\n",
    "plt.ylabel('Number of Companies')\n",
    "plt.show()"
   ]
  },
  {
   "cell_type": "markdown",
   "metadata": {},
   "source": [
    "The majority of companies raised less than $500,000.  The amount of companies that raised a given amount very quickly drops off and goes into a long, sparse tail.  However, since this data is normally private, lots of rounds are missing their amounts.  We need to keep that in mind as we progress with our analysis.  \n",
    "\n",
    "Let's take a look at the number of rounds each company raised:"
   ]
  },
  {
   "cell_type": "code",
   "execution_count": 26,
   "metadata": {
    "collapsed": false
   },
   "outputs": [
    {
     "data": {
      "image/png": "[encoded data removed]",
      "text/plain": [
       "<matplotlib.figure.Figure at 0x11469c950>"
      ]
     },
     "metadata": {},
     "output_type": "display_data"
    }
   ],
   "source": [
    "plt.hist(df.num_funding_rounds, bins=11)\n",
    "plt.title('Number of Funding Rounds per Company')\n",
    "plt.xlabel('Number of Funding Rounds')\n",
    "plt.ylabel('Number of Companies')\n",
    "plt.show()"
   ]
  },
  {
   "cell_type": "markdown",
   "metadata": {},
   "source": [
    "Again, we see that most companies are clustered near the bottom of our range with 0-3 rounds raised.  4 or more rounds raised is not very common.  Perhaps we can use that as an indicator of success, seeing as how it appears to be less sparse than the total amount raised column.  Perhaps this is due to the prevalence of companies and investors announcing that they raised a round, but not disclosing the exact amounts of that round.\n",
    "\n",
    "Let's see how many companies had at least 4 rounds:"
   ]
  },
  {
   "cell_type": "code",
   "execution_count": 27,
   "metadata": {
    "collapsed": false
   },
   "outputs": [
    {
     "name": "stdout",
     "output_type": "stream",
     "text": [
      "Number of companies that raised at least 4 rounds: 1001\n"
     ]
    }
   ],
   "source": [
    "print \"Number of companies that raised at least 4 rounds: %s\" % len(df[df.funding_amounts.map(lambda x: len(x) >= 4)])"
   ]
  },
  {
   "cell_type": "markdown",
   "metadata": {},
   "source": [
    "That looks like a good number.  Let's add that as an indicator column to the dataframe, and see how many companies fall into one of our three indicator columns (Acquired, IPOed, > 3 Rounds Raised) now:"
   ]
  },
  {
   "cell_type": "code",
   "execution_count": 28,
   "metadata": {
    "collapsed": true
   },
   "outputs": [],
   "source": [
    "df['at_least_4_funding_rounds']=df.funding_amounts.map(lambda x: len(x) >= 4)"
   ]
  },
  {
   "cell_type": "code",
   "execution_count": 29,
   "metadata": {
    "collapsed": false
   },
   "outputs": [
    {
     "name": "stdout",
     "output_type": "stream",
     "text": [
      "Number of companies we consider to be a success: 2153\n"
     ]
    }
   ],
   "source": [
    "# Let's count how many companies match at least one of our success criteria:\n",
    "print \"Number of companies we consider to be a success: %s\" % len(df[(df['at_least_4_funding_rounds'] == True) | (df['was_acquired'] == True) | (df['went_ipo'] == True)])\n",
    "\n",
    "df['success'] = ((df['at_least_4_funding_rounds'] == True) | (df['was_acquired'] == True) | (df['went_ipo'] == True))\n",
    "df['success'] = df.success.map(lambda x: 1 if x else 0)"
   ]
  },
  {
   "cell_type": "markdown",
   "metadata": {},
   "source": [
    "So our success rate is around 31.45%. This may seem like a high success rate when compared to [other metrics about start-up success](http://www.forbes.com/sites/neilpatel/2015/01/16/90-of-startups-will-fail-heres-what-you-need-to-know-about-the-10/), but remember that the companies that make it into CrunchBase are already quite a selective bunch.  As we saw above, most companies in CrunchBase have already raised at least 1 round, so 31% may not seem that high, considering this is already a pretty select crowd of companies."
   ]
  },
  {
   "cell_type": "markdown",
   "metadata": {},
   "source": [
    "### Split the data"
   ]
  },
  {
   "cell_type": "markdown",
   "metadata": {},
   "source": [
    "We'll finish the data cleaning and list the features we don't really need (if we retrieve more data from the API, it will save us time).\n",
    "\n",
    "Let's split our dataset into training, validation and testing sets.  We need to clean up the columns first and separate the success column from the rest of the data.  We'll also remove any columns that the success column is dependent on (went_ipo, was_acquired, etc....). \n",
    "\n",
    "Then we'll split out the testing data from the training data.  \n",
    "// NOT SURE IF WE DO THIS // We'll then perform a second split on the training data to get the validation data."
   ]
  },
  {
   "cell_type": "code",
   "execution_count": 30,
   "metadata": {
    "collapsed": false
   },
   "outputs": [],
   "source": [
    "# Usable for the Data scrapping part\n",
    "features_with_only_nan = ['investments', 'owned_by']"
   ]
  },
  {
   "cell_type": "code",
   "execution_count": 32,
   "metadata": {
    "collapsed": false
   },
   "outputs": [
    {
     "name": "stdout",
     "output_type": "stream",
     "text": [
      "(6852, 9010)\n",
      "(6852,)\n"
     ]
    },
    {
     "data": {
      "text/html": [
       "<div>\n",
       "<table border=\"1\" class=\"dataframe\">\n",
       "  <thead>\n",
       "    <tr style=\"text-align: right;\">\n",
       "      <th></th>\n",
       "      <th>month_founded</th>\n",
       "      <th>c_Marketplaces_i</th>\n",
       "      <th>c_Veterinary_i</th>\n",
       "      <th>c_Crowdsourcing_i</th>\n",
       "      <th>c_Data Privacy_i</th>\n",
       "      <th>c_B2B_i</th>\n",
       "      <th>c_Online Video Advertising_i</th>\n",
       "      <th>c_Event Management_i</th>\n",
       "      <th>c_Corporate IT_i</th>\n",
       "      <th>c_Health and Insurance_i</th>\n",
       "      <th>c_Crowdfunding_i</th>\n",
       "      <th>c_Performance Marketing_i</th>\n",
       "      <th>c_Incentives_i</th>\n",
       "      <th>c_Social Television_i</th>\n",
       "      <th>c_Communications Infrastructure_i</th>\n",
       "      <th>c_Collaborative Consumption_i</th>\n",
       "      <th>c_Lighting_i</th>\n",
       "      <th>c_Virtual Currency_i</th>\n",
       "      <th>c_Designers_i</th>\n",
       "      <th>c_Tourism_i</th>\n",
       "      <th>c_Concentrated Solar Power_i</th>\n",
       "      <th>c_Training_i</th>\n",
       "      <th>c_Indians_i</th>\n",
       "      <th>c_Knowledge Management_i</th>\n",
       "      <th>c_Celebrity_i</th>\n",
       "      <th>c_Automated Kiosk_i</th>\n",
       "      <th>c_Call Center Automation_i</th>\n",
       "      <th>c_Social Media Marketing_i</th>\n",
       "      <th>c_Sensors_i</th>\n",
       "      <th>c_Restaurants_i</th>\n",
       "      <th>c_Cosmetic Surgery_i</th>\n",
       "      <th>c_Portals_i</th>\n",
       "      <th>c_Clinical Trials_i</th>\n",
       "      <th>c_Independent Music Labels_i</th>\n",
       "      <th>c_Customer Support Tools_i</th>\n",
       "      <th>c_Testing_i</th>\n",
       "      <th>c_Water Purification_i</th>\n",
       "      <th>c_Defense_i</th>\n",
       "      <th>c_Flash Storage_i</th>\n",
       "      <th>c_SNS_i</th>\n",
       "      <th>c_Non Profit_i</th>\n",
       "      <th>c_Telecommunications_i</th>\n",
       "      <th>c_Building Products_i</th>\n",
       "      <th>c_Ticketing_i</th>\n",
       "      <th>c_Freelancers_i</th>\n",
       "      <th>c_Video Streaming_i</th>\n",
       "      <th>c_RFID_i</th>\n",
       "      <th>c_Local Based Services_i</th>\n",
       "      <th>c_Sponsorship_i</th>\n",
       "      <th>c_Mobile Payments_i</th>\n",
       "      <th>...</th>\n",
       "      <th>country_Serbia_i</th>\n",
       "      <th>country_Spain_i</th>\n",
       "      <th>country_Ukraine_i</th>\n",
       "      <th>country_Mauritius_i</th>\n",
       "      <th>country_The Netherlands_i</th>\n",
       "      <th>country_Indonesia_i</th>\n",
       "      <th>country_Uganda_i</th>\n",
       "      <th>country_Denmark_i</th>\n",
       "      <th>country_Poland_i</th>\n",
       "      <th>country_Finland_i</th>\n",
       "      <th>country_Mexico_i</th>\n",
       "      <th>country_Moldova_i</th>\n",
       "      <th>country_United States_i</th>\n",
       "      <th>country_Belgium_i</th>\n",
       "      <th>country_Sweden_i</th>\n",
       "      <th>country_Latvia_i</th>\n",
       "      <th>country_Luxembourg_i</th>\n",
       "      <th>country_Monaco_i</th>\n",
       "      <th>country_Switzerland_i</th>\n",
       "      <th>country_Belarus_i</th>\n",
       "      <th>country_New Zealand_i</th>\n",
       "      <th>country_Nepal_i</th>\n",
       "      <th>country_Taiwan_i</th>\n",
       "      <th>country_Brazil_i</th>\n",
       "      <th>country_Bulgaria_i</th>\n",
       "      <th>country_Pakistan_i</th>\n",
       "      <th>country_Romania_i</th>\n",
       "      <th>country_Philippines_i</th>\n",
       "      <th>country_Portugal_i</th>\n",
       "      <th>country_Estonia_i</th>\n",
       "      <th>country_South Africa_i</th>\n",
       "      <th>country_Egypt_i</th>\n",
       "      <th>country_United Arab Emirates_i</th>\n",
       "      <th>country_Uruguay_i</th>\n",
       "      <th>country_India_i</th>\n",
       "      <th>country_Peru_i</th>\n",
       "      <th>country_United Kingdom_i</th>\n",
       "      <th>country_Malaysia_i</th>\n",
       "      <th>country_Austria_i</th>\n",
       "      <th>country_Vietnam_i</th>\n",
       "      <th>country_Tunisia_i</th>\n",
       "      <th>country_Colombia_i</th>\n",
       "      <th>country_Greece_i</th>\n",
       "      <th>country_Japan_i</th>\n",
       "      <th>country_South Korea_i</th>\n",
       "      <th>num_founders</th>\n",
       "      <th>founder_ages_mean</th>\n",
       "      <th>num_competitors</th>\n",
       "      <th>num_acquisitions</th>\n",
       "      <th>num_board_members_and_advisors</th>\n",
       "    </tr>\n",
       "  </thead>\n",
       "  <tbody>\n",
       "    <tr>\n",
       "      <th>objectway</th>\n",
       "      <td>1990-01</td>\n",
       "      <td>False</td>\n",
       "      <td>False</td>\n",
       "      <td>False</td>\n",
       "      <td>False</td>\n",
       "      <td>False</td>\n",
       "      <td>False</td>\n",
       "      <td>False</td>\n",
       "      <td>False</td>\n",
       "      <td>False</td>\n",
       "      <td>False</td>\n",
       "      <td>False</td>\n",
       "      <td>False</td>\n",
       "      <td>False</td>\n",
       "      <td>False</td>\n",
       "      <td>False</td>\n",
       "      <td>False</td>\n",
       "      <td>False</td>\n",
       "      <td>False</td>\n",
       "      <td>False</td>\n",
       "      <td>False</td>\n",
       "      <td>False</td>\n",
       "      <td>False</td>\n",
       "      <td>False</td>\n",
       "      <td>False</td>\n",
       "      <td>False</td>\n",
       "      <td>False</td>\n",
       "      <td>False</td>\n",
       "      <td>False</td>\n",
       "      <td>False</td>\n",
       "      <td>False</td>\n",
       "      <td>False</td>\n",
       "      <td>False</td>\n",
       "      <td>False</td>\n",
       "      <td>False</td>\n",
       "      <td>False</td>\n",
       "      <td>False</td>\n",
       "      <td>False</td>\n",
       "      <td>False</td>\n",
       "      <td>False</td>\n",
       "      <td>False</td>\n",
       "      <td>False</td>\n",
       "      <td>False</td>\n",
       "      <td>False</td>\n",
       "      <td>False</td>\n",
       "      <td>False</td>\n",
       "      <td>False</td>\n",
       "      <td>False</td>\n",
       "      <td>False</td>\n",
       "      <td>False</td>\n",
       "      <td>...</td>\n",
       "      <td>False</td>\n",
       "      <td>False</td>\n",
       "      <td>False</td>\n",
       "      <td>False</td>\n",
       "      <td>False</td>\n",
       "      <td>False</td>\n",
       "      <td>False</td>\n",
       "      <td>False</td>\n",
       "      <td>False</td>\n",
       "      <td>False</td>\n",
       "      <td>False</td>\n",
       "      <td>False</td>\n",
       "      <td>False</td>\n",
       "      <td>False</td>\n",
       "      <td>False</td>\n",
       "      <td>False</td>\n",
       "      <td>False</td>\n",
       "      <td>False</td>\n",
       "      <td>False</td>\n",
       "      <td>False</td>\n",
       "      <td>False</td>\n",
       "      <td>False</td>\n",
       "      <td>False</td>\n",
       "      <td>False</td>\n",
       "      <td>False</td>\n",
       "      <td>False</td>\n",
       "      <td>False</td>\n",
       "      <td>False</td>\n",
       "      <td>False</td>\n",
       "      <td>False</td>\n",
       "      <td>False</td>\n",
       "      <td>False</td>\n",
       "      <td>False</td>\n",
       "      <td>False</td>\n",
       "      <td>False</td>\n",
       "      <td>False</td>\n",
       "      <td>False</td>\n",
       "      <td>False</td>\n",
       "      <td>False</td>\n",
       "      <td>False</td>\n",
       "      <td>False</td>\n",
       "      <td>False</td>\n",
       "      <td>False</td>\n",
       "      <td>False</td>\n",
       "      <td>False</td>\n",
       "      <td>0</td>\n",
       "      <td>0</td>\n",
       "      <td>0</td>\n",
       "      <td>0</td>\n",
       "      <td>0</td>\n",
       "    </tr>\n",
       "    <tr>\n",
       "      <th>express-inn-hotel</th>\n",
       "      <td>2008-08</td>\n",
       "      <td>False</td>\n",
       "      <td>False</td>\n",
       "      <td>False</td>\n",
       "      <td>False</td>\n",
       "      <td>False</td>\n",
       "      <td>False</td>\n",
       "      <td>False</td>\n",
       "      <td>False</td>\n",
       "      <td>False</td>\n",
       "      <td>False</td>\n",
       "      <td>False</td>\n",
       "      <td>False</td>\n",
       "      <td>False</td>\n",
       "      <td>False</td>\n",
       "      <td>False</td>\n",
       "      <td>False</td>\n",
       "      <td>False</td>\n",
       "      <td>False</td>\n",
       "      <td>False</td>\n",
       "      <td>False</td>\n",
       "      <td>False</td>\n",
       "      <td>False</td>\n",
       "      <td>False</td>\n",
       "      <td>False</td>\n",
       "      <td>False</td>\n",
       "      <td>False</td>\n",
       "      <td>False</td>\n",
       "      <td>False</td>\n",
       "      <td>False</td>\n",
       "      <td>False</td>\n",
       "      <td>False</td>\n",
       "      <td>False</td>\n",
       "      <td>False</td>\n",
       "      <td>False</td>\n",
       "      <td>False</td>\n",
       "      <td>False</td>\n",
       "      <td>False</td>\n",
       "      <td>False</td>\n",
       "      <td>False</td>\n",
       "      <td>False</td>\n",
       "      <td>False</td>\n",
       "      <td>False</td>\n",
       "      <td>False</td>\n",
       "      <td>False</td>\n",
       "      <td>False</td>\n",
       "      <td>False</td>\n",
       "      <td>False</td>\n",
       "      <td>False</td>\n",
       "      <td>False</td>\n",
       "      <td>...</td>\n",
       "      <td>False</td>\n",
       "      <td>False</td>\n",
       "      <td>False</td>\n",
       "      <td>False</td>\n",
       "      <td>False</td>\n",
       "      <td>False</td>\n",
       "      <td>False</td>\n",
       "      <td>False</td>\n",
       "      <td>False</td>\n",
       "      <td>False</td>\n",
       "      <td>False</td>\n",
       "      <td>False</td>\n",
       "      <td>False</td>\n",
       "      <td>False</td>\n",
       "      <td>False</td>\n",
       "      <td>False</td>\n",
       "      <td>False</td>\n",
       "      <td>False</td>\n",
       "      <td>False</td>\n",
       "      <td>False</td>\n",
       "      <td>False</td>\n",
       "      <td>False</td>\n",
       "      <td>False</td>\n",
       "      <td>False</td>\n",
       "      <td>False</td>\n",
       "      <td>False</td>\n",
       "      <td>False</td>\n",
       "      <td>False</td>\n",
       "      <td>False</td>\n",
       "      <td>False</td>\n",
       "      <td>False</td>\n",
       "      <td>False</td>\n",
       "      <td>False</td>\n",
       "      <td>False</td>\n",
       "      <td>False</td>\n",
       "      <td>False</td>\n",
       "      <td>False</td>\n",
       "      <td>False</td>\n",
       "      <td>False</td>\n",
       "      <td>False</td>\n",
       "      <td>False</td>\n",
       "      <td>False</td>\n",
       "      <td>False</td>\n",
       "      <td>False</td>\n",
       "      <td>False</td>\n",
       "      <td>0</td>\n",
       "      <td>0</td>\n",
       "      <td>0</td>\n",
       "      <td>0</td>\n",
       "      <td>0</td>\n",
       "    </tr>\n",
       "    <tr>\n",
       "      <th>rebounces</th>\n",
       "      <td>2008-09</td>\n",
       "      <td>False</td>\n",
       "      <td>False</td>\n",
       "      <td>False</td>\n",
       "      <td>False</td>\n",
       "      <td>False</td>\n",
       "      <td>False</td>\n",
       "      <td>False</td>\n",
       "      <td>False</td>\n",
       "      <td>False</td>\n",
       "      <td>False</td>\n",
       "      <td>False</td>\n",
       "      <td>False</td>\n",
       "      <td>False</td>\n",
       "      <td>False</td>\n",
       "      <td>False</td>\n",
       "      <td>False</td>\n",
       "      <td>False</td>\n",
       "      <td>False</td>\n",
       "      <td>False</td>\n",
       "      <td>False</td>\n",
       "      <td>False</td>\n",
       "      <td>False</td>\n",
       "      <td>False</td>\n",
       "      <td>False</td>\n",
       "      <td>False</td>\n",
       "      <td>False</td>\n",
       "      <td>False</td>\n",
       "      <td>False</td>\n",
       "      <td>False</td>\n",
       "      <td>False</td>\n",
       "      <td>False</td>\n",
       "      <td>False</td>\n",
       "      <td>False</td>\n",
       "      <td>False</td>\n",
       "      <td>False</td>\n",
       "      <td>False</td>\n",
       "      <td>False</td>\n",
       "      <td>False</td>\n",
       "      <td>False</td>\n",
       "      <td>False</td>\n",
       "      <td>False</td>\n",
       "      <td>False</td>\n",
       "      <td>False</td>\n",
       "      <td>False</td>\n",
       "      <td>False</td>\n",
       "      <td>False</td>\n",
       "      <td>False</td>\n",
       "      <td>False</td>\n",
       "      <td>False</td>\n",
       "      <td>...</td>\n",
       "      <td>False</td>\n",
       "      <td>False</td>\n",
       "      <td>False</td>\n",
       "      <td>False</td>\n",
       "      <td>False</td>\n",
       "      <td>False</td>\n",
       "      <td>False</td>\n",
       "      <td>False</td>\n",
       "      <td>False</td>\n",
       "      <td>False</td>\n",
       "      <td>False</td>\n",
       "      <td>False</td>\n",
       "      <td>False</td>\n",
       "      <td>False</td>\n",
       "      <td>False</td>\n",
       "      <td>False</td>\n",
       "      <td>False</td>\n",
       "      <td>False</td>\n",
       "      <td>False</td>\n",
       "      <td>False</td>\n",
       "      <td>False</td>\n",
       "      <td>False</td>\n",
       "      <td>False</td>\n",
       "      <td>False</td>\n",
       "      <td>False</td>\n",
       "      <td>False</td>\n",
       "      <td>False</td>\n",
       "      <td>False</td>\n",
       "      <td>False</td>\n",
       "      <td>False</td>\n",
       "      <td>False</td>\n",
       "      <td>False</td>\n",
       "      <td>False</td>\n",
       "      <td>False</td>\n",
       "      <td>False</td>\n",
       "      <td>False</td>\n",
       "      <td>False</td>\n",
       "      <td>False</td>\n",
       "      <td>False</td>\n",
       "      <td>False</td>\n",
       "      <td>False</td>\n",
       "      <td>False</td>\n",
       "      <td>False</td>\n",
       "      <td>False</td>\n",
       "      <td>False</td>\n",
       "      <td>0</td>\n",
       "      <td>0</td>\n",
       "      <td>0</td>\n",
       "      <td>0</td>\n",
       "      <td>0</td>\n",
       "    </tr>\n",
       "    <tr>\n",
       "      <th>ivycorp</th>\n",
       "      <td>2007-01</td>\n",
       "      <td>False</td>\n",
       "      <td>False</td>\n",
       "      <td>False</td>\n",
       "      <td>False</td>\n",
       "      <td>False</td>\n",
       "      <td>False</td>\n",
       "      <td>False</td>\n",
       "      <td>False</td>\n",
       "      <td>False</td>\n",
       "      <td>False</td>\n",
       "      <td>False</td>\n",
       "      <td>False</td>\n",
       "      <td>False</td>\n",
       "      <td>False</td>\n",
       "      <td>False</td>\n",
       "      <td>False</td>\n",
       "      <td>False</td>\n",
       "      <td>False</td>\n",
       "      <td>False</td>\n",
       "      <td>False</td>\n",
       "      <td>False</td>\n",
       "      <td>False</td>\n",
       "      <td>False</td>\n",
       "      <td>False</td>\n",
       "      <td>False</td>\n",
       "      <td>False</td>\n",
       "      <td>False</td>\n",
       "      <td>False</td>\n",
       "      <td>False</td>\n",
       "      <td>False</td>\n",
       "      <td>False</td>\n",
       "      <td>False</td>\n",
       "      <td>False</td>\n",
       "      <td>False</td>\n",
       "      <td>False</td>\n",
       "      <td>False</td>\n",
       "      <td>False</td>\n",
       "      <td>False</td>\n",
       "      <td>False</td>\n",
       "      <td>False</td>\n",
       "      <td>False</td>\n",
       "      <td>False</td>\n",
       "      <td>False</td>\n",
       "      <td>False</td>\n",
       "      <td>False</td>\n",
       "      <td>False</td>\n",
       "      <td>False</td>\n",
       "      <td>False</td>\n",
       "      <td>False</td>\n",
       "      <td>...</td>\n",
       "      <td>False</td>\n",
       "      <td>False</td>\n",
       "      <td>False</td>\n",
       "      <td>False</td>\n",
       "      <td>False</td>\n",
       "      <td>False</td>\n",
       "      <td>False</td>\n",
       "      <td>False</td>\n",
       "      <td>False</td>\n",
       "      <td>False</td>\n",
       "      <td>False</td>\n",
       "      <td>False</td>\n",
       "      <td>False</td>\n",
       "      <td>False</td>\n",
       "      <td>False</td>\n",
       "      <td>False</td>\n",
       "      <td>False</td>\n",
       "      <td>False</td>\n",
       "      <td>False</td>\n",
       "      <td>False</td>\n",
       "      <td>False</td>\n",
       "      <td>False</td>\n",
       "      <td>False</td>\n",
       "      <td>False</td>\n",
       "      <td>False</td>\n",
       "      <td>False</td>\n",
       "      <td>False</td>\n",
       "      <td>False</td>\n",
       "      <td>False</td>\n",
       "      <td>False</td>\n",
       "      <td>False</td>\n",
       "      <td>False</td>\n",
       "      <td>False</td>\n",
       "      <td>False</td>\n",
       "      <td>False</td>\n",
       "      <td>False</td>\n",
       "      <td>False</td>\n",
       "      <td>False</td>\n",
       "      <td>False</td>\n",
       "      <td>False</td>\n",
       "      <td>False</td>\n",
       "      <td>False</td>\n",
       "      <td>False</td>\n",
       "      <td>False</td>\n",
       "      <td>False</td>\n",
       "      <td>2</td>\n",
       "      <td>0</td>\n",
       "      <td>0</td>\n",
       "      <td>0</td>\n",
       "      <td>0</td>\n",
       "    </tr>\n",
       "    <tr>\n",
       "      <th>fantasy-shopper</th>\n",
       "      <td>2010-11</td>\n",
       "      <td>False</td>\n",
       "      <td>False</td>\n",
       "      <td>False</td>\n",
       "      <td>False</td>\n",
       "      <td>False</td>\n",
       "      <td>False</td>\n",
       "      <td>False</td>\n",
       "      <td>False</td>\n",
       "      <td>False</td>\n",
       "      <td>False</td>\n",
       "      <td>False</td>\n",
       "      <td>False</td>\n",
       "      <td>False</td>\n",
       "      <td>False</td>\n",
       "      <td>False</td>\n",
       "      <td>False</td>\n",
       "      <td>False</td>\n",
       "      <td>False</td>\n",
       "      <td>False</td>\n",
       "      <td>False</td>\n",
       "      <td>False</td>\n",
       "      <td>False</td>\n",
       "      <td>False</td>\n",
       "      <td>False</td>\n",
       "      <td>False</td>\n",
       "      <td>False</td>\n",
       "      <td>False</td>\n",
       "      <td>False</td>\n",
       "      <td>False</td>\n",
       "      <td>False</td>\n",
       "      <td>False</td>\n",
       "      <td>False</td>\n",
       "      <td>False</td>\n",
       "      <td>False</td>\n",
       "      <td>False</td>\n",
       "      <td>False</td>\n",
       "      <td>False</td>\n",
       "      <td>False</td>\n",
       "      <td>False</td>\n",
       "      <td>False</td>\n",
       "      <td>False</td>\n",
       "      <td>False</td>\n",
       "      <td>False</td>\n",
       "      <td>False</td>\n",
       "      <td>False</td>\n",
       "      <td>False</td>\n",
       "      <td>False</td>\n",
       "      <td>False</td>\n",
       "      <td>False</td>\n",
       "      <td>...</td>\n",
       "      <td>False</td>\n",
       "      <td>False</td>\n",
       "      <td>False</td>\n",
       "      <td>False</td>\n",
       "      <td>False</td>\n",
       "      <td>False</td>\n",
       "      <td>False</td>\n",
       "      <td>False</td>\n",
       "      <td>False</td>\n",
       "      <td>False</td>\n",
       "      <td>False</td>\n",
       "      <td>False</td>\n",
       "      <td>False</td>\n",
       "      <td>False</td>\n",
       "      <td>False</td>\n",
       "      <td>False</td>\n",
       "      <td>False</td>\n",
       "      <td>False</td>\n",
       "      <td>False</td>\n",
       "      <td>False</td>\n",
       "      <td>False</td>\n",
       "      <td>False</td>\n",
       "      <td>False</td>\n",
       "      <td>False</td>\n",
       "      <td>False</td>\n",
       "      <td>False</td>\n",
       "      <td>False</td>\n",
       "      <td>False</td>\n",
       "      <td>False</td>\n",
       "      <td>False</td>\n",
       "      <td>False</td>\n",
       "      <td>False</td>\n",
       "      <td>False</td>\n",
       "      <td>False</td>\n",
       "      <td>False</td>\n",
       "      <td>False</td>\n",
       "      <td>False</td>\n",
       "      <td>False</td>\n",
       "      <td>False</td>\n",
       "      <td>False</td>\n",
       "      <td>False</td>\n",
       "      <td>False</td>\n",
       "      <td>False</td>\n",
       "      <td>False</td>\n",
       "      <td>False</td>\n",
       "      <td>2</td>\n",
       "      <td>0</td>\n",
       "      <td>6</td>\n",
       "      <td>0</td>\n",
       "      <td>0</td>\n",
       "    </tr>\n",
       "  </tbody>\n",
       "</table>\n",
       "<p>5 rows × 9010 columns</p>\n",
       "</div>"
      ],
      "text/plain": [
       "                  month_founded c_Marketplaces_i c_Veterinary_i c_Crowdsourcing_i c_Data Privacy_i c_B2B_i c_Online Video Advertising_i c_Event Management_i c_Corporate IT_i c_Health and Insurance_i c_Crowdfunding_i c_Performance Marketing_i c_Incentives_i c_Social Television_i c_Communications Infrastructure_i c_Collaborative Consumption_i c_Lighting_i c_Virtual Currency_i c_Designers_i c_Tourism_i c_Concentrated Solar Power_i c_Training_i c_Indians_i c_Knowledge Management_i c_Celebrity_i  \\\n",
       "objectway               1990-01            False          False             False            False   False                        False                False            False                    False            False                     False          False                 False                             False                         False        False                False         False       False                        False        False       False                    False         False   \n",
       "express-inn-hotel       2008-08            False          False             False            False   False                        False                False            False                    False            False                     False          False                 False                             False                         False        False                False         False       False                        False        False       False                    False         False   \n",
       "rebounces               2008-09            False          False             False            False   False                        False                False            False                    False            False                     False          False                 False                             False                         False        False                False         False       False                        False        False       False                    False         False   \n",
       "ivycorp                 2007-01            False          False             False            False   False                        False                False            False                    False            False                     False          False                 False                             False                         False        False                False         False       False                        False        False       False                    False         False   \n",
       "fantasy-shopper         2010-11            False          False             False            False   False                        False                False            False                    False            False                     False          False                 False                             False                         False        False                False         False       False                        False        False       False                    False         False   \n",
       "\n",
       "                  c_Automated Kiosk_i c_Call Center Automation_i c_Social Media Marketing_i c_Sensors_i c_Restaurants_i c_Cosmetic Surgery_i c_Portals_i c_Clinical Trials_i c_Independent Music Labels_i c_Customer Support Tools_i c_Testing_i c_Water Purification_i c_Defense_i c_Flash Storage_i c_SNS_i c_Non Profit_i c_Telecommunications_i c_Building Products_i c_Ticketing_i c_Freelancers_i c_Video Streaming_i c_RFID_i c_Local Based Services_i c_Sponsorship_i c_Mobile Payments_i  \\\n",
       "objectway                       False                      False                      False       False           False                False       False               False                        False                      False       False                  False       False             False   False          False                  False                 False         False           False               False    False                    False           False               False   \n",
       "express-inn-hotel               False                      False                      False       False           False                False       False               False                        False                      False       False                  False       False             False   False          False                  False                 False         False           False               False    False                    False           False               False   \n",
       "rebounces                       False                      False                      False       False           False                False       False               False                        False                      False       False                  False       False             False   False          False                  False                 False         False           False               False    False                    False           False               False   \n",
       "ivycorp                         False                      False                      False       False           False                False       False               False                        False                      False       False                  False       False             False   False          False                  False                 False         False           False               False    False                    False           False               False   \n",
       "fantasy-shopper                 False                      False                      False       False           False                False       False               False                        False                      False       False                  False       False             False   False          False                  False                 False         False           False               False    False                    False           False               False   \n",
       "\n",
       "                               ...               country_Serbia_i country_Spain_i country_Ukraine_i country_Mauritius_i country_The Netherlands_i country_Indonesia_i country_Uganda_i country_Denmark_i country_Poland_i country_Finland_i country_Mexico_i country_Moldova_i country_United States_i country_Belgium_i country_Sweden_i country_Latvia_i country_Luxembourg_i country_Monaco_i country_Switzerland_i country_Belarus_i country_New Zealand_i country_Nepal_i country_Taiwan_i country_Brazil_i  \\\n",
       "objectway                      ...                          False           False             False               False                     False               False            False             False            False             False            False             False                   False             False            False            False                False            False                 False             False                 False           False            False            False   \n",
       "express-inn-hotel              ...                          False           False             False               False                     False               False            False             False            False             False            False             False                   False             False            False            False                False            False                 False             False                 False           False            False            False   \n",
       "rebounces                      ...                          False           False             False               False                     False               False            False             False            False             False            False             False                   False             False            False            False                False            False                 False             False                 False           False            False            False   \n",
       "ivycorp                        ...                          False           False             False               False                     False               False            False             False            False             False            False             False                   False             False            False            False                False            False                 False             False                 False           False            False            False   \n",
       "fantasy-shopper                ...                          False           False             False               False                     False               False            False             False            False             False            False             False                   False             False            False            False                False            False                 False             False                 False           False            False            False   \n",
       "\n",
       "                  country_Bulgaria_i country_Pakistan_i country_Romania_i country_Philippines_i country_Portugal_i country_Estonia_i country_South Africa_i country_Egypt_i country_United Arab Emirates_i country_Uruguay_i country_India_i country_Peru_i country_United Kingdom_i country_Malaysia_i country_Austria_i country_Vietnam_i country_Tunisia_i country_Colombia_i country_Greece_i country_Japan_i country_South Korea_i num_founders founder_ages_mean num_competitors num_acquisitions  \\\n",
       "objectway                      False              False             False                 False              False             False                  False           False                          False             False           False          False                    False              False             False             False             False              False            False           False                 False            0                 0               0                0   \n",
       "express-inn-hotel              False              False             False                 False              False             False                  False           False                          False             False           False          False                    False              False             False             False             False              False            False           False                 False            0                 0               0                0   \n",
       "rebounces                      False              False             False                 False              False             False                  False           False                          False             False           False          False                    False              False             False             False             False              False            False           False                 False            0                 0               0                0   \n",
       "ivycorp                        False              False             False                 False              False             False                  False           False                          False             False           False          False                    False              False             False             False             False              False            False           False                 False            2                 0               0                0   \n",
       "fantasy-shopper                False              False             False                 False              False             False                  False           False                          False             False           False          False                    False              False             False             False             False              False            False           False                 False            2                 0               6                0   \n",
       "\n",
       "                  num_board_members_and_advisors  \n",
       "objectway                                      0  \n",
       "express-inn-hotel                              0  \n",
       "rebounces                                      0  \n",
       "ivycorp                                        0  \n",
       "fantasy-shopper                                0  \n",
       "\n",
       "[5 rows x 9010 columns]"
      ]
     },
     "execution_count": 32,
     "metadata": {},
     "output_type": "execute_result"
    }
   ],
   "source": [
    "cleandf = df.copy()\n",
    "\n",
    "# Drop unnecessary columns\n",
    "X = cleandf.drop(['success', 'competitors', 'at_least_4_funding_rounds', 'was_acquired', 'went_ipo', 'funding_total', 'funding_mean', 'acquired_by', 'funding_rounds', 'investors', 'ipo', 'funding_dates', 'num_funding_rounds', 'funding_amounts', 'categories', 'text_nouns', 'text_adjectives', 'short_description', 'founder_ages'], axis=1)\n",
    "# These columns can probably be converted to numerical form with \n",
    "# some positive impact on the models, so don't rule them out \n",
    "# completely just yet, but be careful that they are not dependent\n",
    "# with any of our success indicators\n",
    "X = X.drop(['acquisitions', 'board_members_and_advisors', 'founders', 'offices', 'headquarters', 'founder_names', 'moonth_founded'], axis=1)\n",
    "print X.shape\n",
    "\n",
    "# The success column\n",
    "y = df['success']\n",
    "print y.shape\n",
    "X.head()"
   ]
  },
  {
   "cell_type": "code",
   "execution_count": 34,
   "metadata": {
    "collapsed": true
   },
   "outputs": [],
   "source": [
    "# Saving the whole dataframe\n",
    "X.to_csv(\"tmp/X.csv\", index=True, header=True, encoding=\"utf-8\")\n",
    "df.to_csv(\"tmp/df.csv\", index=True, header=True, encoding=\"utf-8\")"
   ]
  },
  {
   "cell_type": "code",
   "execution_count": 30,
   "metadata": {
    "collapsed": false
   },
   "outputs": [
    {
     "name": "stdout",
     "output_type": "stream",
     "text": [
      "(1579, 4311)\n",
      "(1579,)\n",
      "(395, 4311)\n",
      "(395,)\n",
      "(220, 4311)\n",
      "(220,)\n"
     ]
    }
   ],
   "source": [
    "from sklearn.cross_validation import train_test_split\n",
    "# Make the train/test split\n",
    "X_train, X_test, y_train, y_test = train_test_split(X, y, test_size=0.10, random_state=42)\n",
    "\n",
    "# Split the training data into train/validate set\n",
    "X_train, X_validate, y_train, y_validate = train_test_split(X_train, y_train, test_size=0.20, random_state=42)\n",
    "\n",
    "\n",
    "# Training\n",
    "print X_train.shape\n",
    "print y_train.shape\n",
    "\n",
    "# Validate\n",
    "print X_validate.shape\n",
    "print y_validate.shape\n",
    "\n",
    "# Testing\n",
    "print X_test.shape\n",
    "print y_test.shape"
   ]
  },
  {
   "cell_type": "markdown",
   "metadata": {},
   "source": [
    "We will save these files now to ensure that we can come back to this point if needed."
   ]
  },
  {
   "cell_type": "code",
   "execution_count": 31,
   "metadata": {
    "collapsed": true
   },
   "outputs": [],
   "source": [
    "X_train.to_csv(\"tmp/X_train.csv\", index=True, header=True, encoding=\"utf-8\")\n",
    "y_train.to_csv(\"tmp/y_train.csv\", index=True, header=True, encoding=\"utf-8\")\n",
    "\n",
    "X_validate.to_csv(\"tmp/X_validate.csv\", index=True, header=True, encoding=\"utf-8\")\n",
    "y_validate.to_csv(\"tmp/y_validate.csv\", index=True, header=True, encoding=\"utf-8\")\n",
    "\n",
    "X_test.to_csv(\"tmp/X_test.csv\", index=True, header=True, encoding=\"utf-8\")\n",
    "y_test.to_csv(\"tmp/y_test.csv\", index=True, header=True, encoding=\"utf-8\")"
   ]
  },
  {
   "cell_type": "markdown",
   "metadata": {},
   "source": [
    "# Bring out the Models"
   ]
  },
  {
   "cell_type": "markdown",
   "metadata": {},
   "source": [
    "## The Baseline Model"
   ]
  },
  {
   "cell_type": "markdown",
   "metadata": {},
   "source": [
    "Now we will attempt to find a baseline to improve upon. A basic baseline would be assuming that all companies fail or all companies succeed.  Let's take a look at what those two assumptions would yield."
   ]
  },
  {
   "cell_type": "code",
   "execution_count": 32,
   "metadata": {
    "collapsed": false
   },
   "outputs": [],
   "source": [
    "# Loading the data with the index\n",
    "X_train = pd.read_csv(\"tmp/X_train.csv\", index_col='Unnamed: 0')\n",
    "y_train = pd.read_csv(\"tmp/y_train.csv\", index_col='Unnamed: 0').success\n",
    "\n",
    "X_validate = pd.read_csv(\"tmp/X_validate.csv\", index_col='Unnamed: 0')\n",
    "y_validate = pd.read_csv(\"tmp/y_validate.csv\", index_col='Unnamed: 0').success\n",
    "\n",
    "X_test = pd.read_csv(\"tmp/X_test.csv\", index_col='Unnamed: 0')\n",
    "y_test = pd.read_csv(\"tmp/y_test.csv\", index_col='Unnamed: 0').success"
   ]
  },
  {
   "cell_type": "code",
   "execution_count": 33,
   "metadata": {
    "collapsed": false
   },
   "outputs": [
    {
     "name": "stdout",
     "output_type": "stream",
     "text": [
      "Accuracy of the model assuming all succeed: 0.681818181818\n",
      "Accuracy of the model assuming all fail: 0.318181818182\n"
     ]
    }
   ],
   "source": [
    "# Assume all companies fail\n",
    "print \"Accuracy of the model assuming all succeed: %s\" % (len(y_test[y_test == False]) / (1.0 * len(y_test)))\n",
    "\n",
    "# Assume all companies succeed\n",
    "print \"Accuracy of the model assuming all fail: %s\" % (len(y_test[y_test == True]) / (1.0 * len(y_test)))"
   ]
  },
  {
   "cell_type": "markdown",
   "metadata": {},
   "source": [
    "So the basic baseline to beat is 70%, which we get if we just assume all companies will fail.  That's not so hot.  Let's see if we can beat it."
   ]
  },
  {
   "cell_type": "markdown",
   "metadata": {},
   "source": [
    "## K-Nearest Neighbors"
   ]
  },
  {
   "cell_type": "markdown",
   "metadata": {},
   "source": [
    "Here we will perform a K-Nearest Neighbors classification to predict if a company will be successful or not based upon the training data.  The two categories into which we will be classifying our data are succesful or not succesful.\n",
    "\n",
    "Here we will use the [scikit-learn](http://scikit-learn.org/stable/modules/neighbors.html) KNeighborsClassifier to perform our classification.  We will start with the with weights set to 'uniform', which is the default and then try some other weighting formulas."
   ]
  },
  {
   "cell_type": "code",
   "execution_count": 34,
   "metadata": {
    "collapsed": false
   },
   "outputs": [
    {
     "name": "stdout",
     "output_type": "stream",
     "text": [
      "Validate accuracy with weights = 'uniform' and n_neighbors = 5: 0.718987341772 \n"
     ]
    }
   ],
   "source": [
    "from sklearn.neighbors import KNeighborsClassifier\n",
    "\n",
    "knc = KNeighborsClassifier()\n",
    "knc.fit(X_train, y_train)\n",
    "validate_accuracy = knc.score(X_validate,y_validate)\n",
    "print \"Validate accuracy with weights = 'uniform' and n_neighbors = 5: %s \" % validate_accuracy"
   ]
  },
  {
   "cell_type": "markdown",
   "metadata": {},
   "source": [
    "That's not so hot :( \n",
    "\n",
    "Perhaps if we increase the number of neigbors to query:"
   ]
  },
  {
   "cell_type": "code",
   "execution_count": 35,
   "metadata": {
    "collapsed": false
   },
   "outputs": [
    {
     "name": "stdout",
     "output_type": "stream",
     "text": [
      "Validate accuracy with weights = 'uniform' and n_neighbors = 20: 0.718987341772\n"
     ]
    }
   ],
   "source": [
    "knc = KNeighborsClassifier(n_neighbors=20)\n",
    "knc.fit(X_train, y_train)\n",
    "validate_accuracy = knc.score(X_validate,y_validate)\n",
    "print \"Validate accuracy with weights = 'uniform' and n_neighbors = 20: %s\" % validate_accuracy"
   ]
  },
  {
   "cell_type": "markdown",
   "metadata": {},
   "source": [
    "That's better!  We now have a model better than our baseline, although our baseline didn't set too high of a bar to begin with.  Let's graph the n_neighbors by accuracy:"
   ]
  },
  {
   "cell_type": "code",
   "execution_count": 169,
   "metadata": {
    "collapsed": false
   },
   "outputs": [
    {
     "data": {
      "image/png": "[encoded data removed]",
      "text/plain": [
       "<matplotlib.figure.Figure at 0x1136bc750>"
      ]
     },
     "metadata": {},
     "output_type": "display_data"
    }
   ],
   "source": [
    "# GRAPH THE N_NEIGBORS (X-AXIS)  BY ACCURACY (Y-AXIS)!\n",
    "# Large-grained\n",
    "neighbors=[1,3,5,7,9,11,13,15,17,18,19,20,30,40,50, 60, 70, 80, 90, 100, 120]\n",
    "accuracies=[]\n",
    "max_neighbors = 0\n",
    "max_accuracy = -float(\"inf\")\n",
    "for n in neighbors:\n",
    "    knc = KNeighborsClassifier(n_neighbors=n)\n",
    "    knc.fit(X_train, y_train)\n",
    "    accuracies.append(knc.score(X_validate,y_validate))\n",
    "    if accuracies[-1] > max_accuracy:\n",
    "        max_accuracy = accuracies[-1]\n",
    "        max_neighbors = n\n",
    "plt.figure()\n",
    "plt.plot(neighbors,accuracies)\n",
    "plt.xlabel(\"Number of Neighbors\")\n",
    "plt.ylabel(\"Accuracy (%)\")\n",
    "plt.title('Large-grained accuracy plot for Knc')\n",
    "plt.show()"
   ]
  },
  {
   "cell_type": "code",
   "execution_count": 37,
   "metadata": {
    "collapsed": false
   },
   "outputs": [
    {
     "name": "stdout",
     "output_type": "stream",
     "text": [
      "Best neighbors was 100 with max accuracy of 0.756962025316\n"
     ]
    }
   ],
   "source": [
    "print \"Best neighbors was {} with max accuracy of {}\".format(max_neighbors, max_accuracy)"
   ]
  },
  {
   "cell_type": "markdown",
   "metadata": {},
   "source": [
    "Now we'll try the KNeighborsClassifier with weights='distance':"
   ]
  },
  {
   "cell_type": "code",
   "execution_count": 38,
   "metadata": {
    "collapsed": false
   },
   "outputs": [
    {
     "name": "stdout",
     "output_type": "stream",
     "text": [
      "Validate accuracy with weights='distance' and n_neighbors = 100: 0.774683544304\n"
     ]
    }
   ],
   "source": [
    "knc = KNeighborsClassifier(n_neighbors=max_neighbors, weights='distance')\n",
    "knc.fit(X_train, y_train)\n",
    "validate_accuracy = knc.score(X_validate,y_validate)\n",
    "print \"Validate accuracy with weights='distance' and n_neighbors = {}: {}\".format(max_neighbors, validate_accuracy)"
   ]
  },
  {
   "cell_type": "markdown",
   "metadata": {},
   "source": [
    "Awesome! "
   ]
  },
  {
   "cell_type": "code",
   "execution_count": 39,
   "metadata": {
    "collapsed": false
   },
   "outputs": [
    {
     "name": "stdout",
     "output_type": "stream",
     "text": [
      "Test accuracy with weights='distance' and n_neighbors = 100: 0.745454545455\n"
     ]
    }
   ],
   "source": [
    "# Let's see how our test data fares using this KNC\n",
    "test_accuracy = knc.score(X_test,y_test)\n",
    "print \"Test accuracy with weights='distance' and n_neighbors = {}: {}\".format(max_neighbors, test_accuracy)"
   ]
  },
  {
   "cell_type": "markdown",
   "metadata": {},
   "source": [
    "It seems that the model is super sensitive to the train set because the optimal number of neighbors varies a lot between the validation set and the test set (these two sets are both independent from the train data set). This proves that this model is really unstable. \n",
    "\n",
    "This may due to the fact that our data are really sparse.\n",
    "\n",
    "Now:\n",
    "\n",
    "We reached 0.8 of accuracy which beats the dummy baseline all fails of 0.7!!"
   ]
  },
  {
   "cell_type": "markdown",
   "metadata": {},
   "source": [
    "## Logistic Regression"
   ]
  },
  {
   "cell_type": "code",
   "execution_count": 40,
   "metadata": {
    "collapsed": false
   },
   "outputs": [
    {
     "name": "stdout",
     "output_type": "stream",
     "text": [
      "CPU times: user 27min 7s, sys: 24.9 s, total: 27min 31s\n",
      "Wall time: 8min 19s\n"
     ]
    }
   ],
   "source": [
    "from sklearn.linear_model import LogisticRegressionCV\n",
    "\n",
    "# Logistic regression with cross validation on 10-folds\n",
    "log_reg = LogisticRegressionCV(cv=10, dual=False, penalty='l2', max_iter=1000)\n",
    "%time log_reg = log_reg.fit(X_train, y_train)"
   ]
  },
  {
   "cell_type": "code",
   "execution_count": 41,
   "metadata": {
    "collapsed": false
   },
   "outputs": [
    {
     "name": "stdout",
     "output_type": "stream",
     "text": [
      "Test accuracy with 10-fold cross val and l2 regularization: 0.704545454545\n"
     ]
    }
   ],
   "source": [
    "test_accuracy = log_reg.score(X_test, y_test)\n",
    "print \"Test accuracy with 10-fold cross val and l2 regularization: %s\" % test_accuracy"
   ]
  },
  {
   "cell_type": "markdown",
   "metadata": {},
   "source": [
    "We have a better accuracy than in the case where we predict all fail but worse than the knc. When we check on the data, the model predicts a specific configuration.\n",
    "\n",
    "To refine our evaluation we could plot a ROC curve and evaluate the f1 score."
   ]
  },
  {
   "cell_type": "code",
   "execution_count": 42,
   "metadata": {
    "collapsed": false
   },
   "outputs": [
    {
     "data": {
      "text/plain": [
       "array([0, 1, 0, 0, 0, 1, 0, 1, 0, 1, 0, 0, 1, 0, 0, 0, 1, 0, 0, 0, 0, 0, 0,\n",
       "       0, 0, 0, 0, 0, 0, 1, 0, 0, 0, 0, 0, 1, 0, 0, 0, 0, 0, 0, 1, 0, 0, 0,\n",
       "       0, 0, 0, 0, 1, 0, 0, 1, 0, 1, 0, 1, 1, 0, 0, 0, 0, 0, 0, 0, 0, 0, 0,\n",
       "       0, 1, 0, 0, 0, 0, 0, 0, 0, 0, 0, 0, 1, 0, 0, 1, 0, 0, 0, 0, 0, 0, 0,\n",
       "       0, 1, 0, 1, 1, 1, 0, 0, 0, 0, 0, 0, 1, 0, 0, 0, 0, 1, 0, 0, 1, 0, 0,\n",
       "       0, 0, 0, 0, 0, 0, 0, 0, 0, 0, 0, 1, 0, 0, 0, 0, 0, 0, 0, 0, 1, 0, 0,\n",
       "       0, 1, 0, 0, 0, 0, 0, 0, 0, 0, 0, 0, 0, 0, 0, 1, 0, 0, 0, 0, 0, 0, 0,\n",
       "       0, 0, 0, 0, 0, 0, 0, 0, 0, 0, 0, 0, 0, 0, 0, 0, 0, 0, 0, 0, 1, 0, 0,\n",
       "       0, 1, 0, 0, 0, 0, 0, 0, 0, 1, 0, 0, 0, 0, 0, 1, 0, 1, 0, 0, 1, 0, 0,\n",
       "       0, 0, 0, 0, 0, 0, 0, 0, 0, 1, 0, 0, 0])"
      ]
     },
     "execution_count": 42,
     "metadata": {},
     "output_type": "execute_result"
    }
   ],
   "source": [
    "log_reg.predict(X_test)"
   ]
  },
  {
   "cell_type": "code",
   "execution_count": 43,
   "metadata": {
    "collapsed": false
   },
   "outputs": [
    {
     "data": {
      "text/plain": [
       "array([1, 0, 0, 0, 0, 0, 0, 1, 0, 1, 0, 0, 0, 1, 0, 1, 1, 0, 0, 1, 1, 1, 1,\n",
       "       0, 0, 1, 0, 0, 1, 0, 0, 0, 0, 1, 0, 0, 0, 0, 0, 1, 0, 0, 1, 1, 0, 0,\n",
       "       0, 1, 0, 0, 1, 0, 0, 0, 0, 1, 0, 0, 1, 0, 0, 0, 0, 1, 0, 0, 0, 0, 0,\n",
       "       1, 0, 1, 1, 0, 0, 0, 0, 1, 1, 1, 0, 1, 0, 1, 1, 0, 0, 0, 1, 0, 1, 1,\n",
       "       0, 1, 1, 1, 1, 0, 1, 0, 1, 1, 1, 0, 0, 1, 0, 0, 1, 1, 1, 0, 0, 1, 1,\n",
       "       1, 0, 0, 0, 0, 0, 0, 1, 0, 0, 0, 1, 0, 0, 0, 0, 0, 0, 0, 0, 0, 1, 0,\n",
       "       0, 0, 1, 0, 1, 0, 0, 0, 0, 0, 0, 0, 0, 0, 1, 1, 0, 0, 0, 1, 0, 0, 1,\n",
       "       0, 0, 0, 0, 0, 0, 0, 1, 0, 0, 0, 0, 1, 0, 0, 0, 0, 1, 1, 0, 0, 0, 0,\n",
       "       0, 0, 0, 0, 0, 1, 0, 0, 0, 1, 1, 0, 0, 0, 0, 1, 1, 1, 1, 0, 1, 0, 0,\n",
       "       0, 0, 0, 0, 0, 0, 0, 0, 0, 1, 0, 0, 0])"
      ]
     },
     "execution_count": 43,
     "metadata": {},
     "output_type": "execute_result"
    }
   ],
   "source": [
    "y_test.values"
   ]
  },
  {
   "cell_type": "markdown",
   "metadata": {},
   "source": [
    "Recall: we are looking to invest in companies that we think will be successful. Although we are trying to predict the success of a company, it's a little more nuanced - we are moreso trying to find the next successful company. Recall that the logistic regression identifies a positive with >50% probability threshold. What threshold we choose depends on what is more costly to us - false positives or false negatives?\n",
    "\n",
    "A false positive would potentially lead to us funding a startup that will eventually fail.\n",
    "A false negative would potentially lead to us missing out on a startup that's successful.\n",
    "\n",
    "Although missing out on the next big thing would be unfortunate, if we allocate our money to other startups with some degree of success we won't be losing out on too much (hopefully). Investing in a startup that fails is money gone. From our perspective, a false positive is much costlier, so our probability of success should be much higher than 50%. "
   ]
  },
  {
   "cell_type": "code",
   "execution_count": 44,
   "metadata": {
    "collapsed": true
   },
   "outputs": [],
   "source": [
    "def t_repredict(est, t, xtest):\n",
    "    probs=est.predict_proba(xtest)\n",
    "    p0 = probs[:,0]\n",
    "    p1 = probs[:,1]\n",
    "    ypred = (p1 > t)*1\n",
    "    return ypred"
   ]
  },
  {
   "cell_type": "code",
   "execution_count": 46,
   "metadata": {
    "collapsed": false
   },
   "outputs": [
    {
     "name": "stdout",
     "output_type": "stream",
     "text": [
      "---\n",
      "Threshold: 0.65\n",
      "[[144   6]\n",
      " [ 56  14]]\n",
      "---\n",
      "Threshold: 0.75\n",
      "[[148   2]\n",
      " [ 60  10]]\n",
      "---\n",
      "Threshold: 0.85\n",
      "[[150   0]\n",
      " [ 62   8]]\n",
      "---\n",
      "Threshold: 0.95\n",
      "[[150   0]\n",
      " [ 66   4]]\n",
      "---\n"
     ]
    }
   ],
   "source": [
    "from sklearn.metrics import confusion_matrix\n",
    "probs = [.65, .75, .85, .95]\n",
    "print \"---\"\n",
    "for prob in probs:\n",
    "    print \"Threshold: {}\".format(prob)\n",
    "    print confusion_matrix(y_test, t_repredict(log_reg, prob, X_test))\n",
    "    print \"---\""
   ]
  },
  {
   "cell_type": "markdown",
   "metadata": {},
   "source": [
    "Interestingly, the ratio between false positives to false negatives remains rather consistent in our test set. To be more thorough, let's look at ROC curves."
   ]
  },
  {
   "cell_type": "code",
   "execution_count": 47,
   "metadata": {
    "collapsed": true
   },
   "outputs": [],
   "source": [
    "#taken from HW3\n",
    "from sklearn.metrics import roc_curve, auc\n",
    "def make_roc(name, clf, ytest, xtest, ax=None, labe=5, proba=True, skip=0):\n",
    "    initial=False\n",
    "    if not ax:\n",
    "        ax=plt.gca()\n",
    "        initial=True\n",
    "    if proba:#for stuff like logistic regression\n",
    "        fpr, tpr, thresholds=roc_curve(ytest, clf.predict_proba(xtest)[:,1])\n",
    "    else:#for stuff like SVM\n",
    "        fpr, tpr, thresholds=roc_curve(ytest, clf.decision_function(xtest))\n",
    "    roc_auc = auc(fpr, tpr)\n",
    "    if skip:\n",
    "        l=fpr.shape[0]\n",
    "        ax.plot(fpr[0:l:skip], tpr[0:l:skip], '.-', alpha=0.3, label='ROC curve for %s (area = %0.2f)' % (name, roc_auc))\n",
    "    else:\n",
    "        ax.plot(fpr, tpr, '.-', alpha=0.3, label='ROC curve for %s (area = %0.2f)' % (name, roc_auc))\n",
    "    label_kwargs = {}\n",
    "    label_kwargs['bbox'] = dict(\n",
    "        boxstyle='round,pad=0.3', alpha=0.2,\n",
    "    )\n",
    "    if labe!=None:\n",
    "        for k in xrange(0, fpr.shape[0],labe):\n",
    "            #from https://gist.github.com/podshumok/c1d1c9394335d86255b8\n",
    "            threshold = str(np.round(thresholds[k], 2))\n",
    "            ax.annotate(threshold, (fpr[k], tpr[k]), **label_kwargs)\n",
    "    if initial:\n",
    "        ax.plot([0, 1], [0, 1], 'k--')\n",
    "        ax.set_xlim([0.0, 1.0])\n",
    "        ax.set_ylim([0.0, 1.05])\n",
    "        ax.set_xlabel('False Positive Rate')\n",
    "        ax.set_ylabel('True Positive Rate')\n",
    "        ax.set_title('ROC')\n",
    "    ax.legend(loc=\"lower right\")\n",
    "    return ax"
   ]
  },
  {
   "cell_type": "code",
   "execution_count": 48,
   "metadata": {
    "collapsed": false
   },
   "outputs": [
    {
     "data": {
      "image/png": "[encoded data removed]",
      "text/plain": [
       "<matplotlib.figure.Figure at 0x1141b5290>"
      ]
     },
     "metadata": {},
     "output_type": "display_data"
    }
   ],
   "source": [
    "with sns.hls_palette(8, l=.3, s=.8):\n",
    "    ax=make_roc(\"logistic-l2\",log_reg, y_test, X_test, labe=200, skip=25)"
   ]
  },
  {
   "cell_type": "markdown",
   "metadata": {},
   "source": [
    "To get a sense of where on the ROC curve we'd like to be, we try to estimate some sense of \"profit\". Recall the formula for profit on a point on the ROC curve is:\n",
    "\n",
    "$Profit = priorp*(TP_{Profit}*TPR + FN_{Cost}*(1-TPR)) + priorn*(TN_{Cost}*(1-FPR) + FP_{Cost}*FPR)$\n",
    "\n",
    "Unfortunately, the only info we have is funding total which isn't a very good indicator of the possible profit form investing in a company. But suppose we're an early investor and the amount of money they receive in funding is a fair valuation of what their company is truly worth. Our utility matrix becomes:"
   ]
  },
  {
   "cell_type": "code",
   "execution_count": 121,
   "metadata": {
    "collapsed": false
   },
   "outputs": [],
   "source": [
    "#What is the average funding total for teams that \"fail\" by our definition\n",
    "#Let's assume we are seed investors investing 100K in a company for a 5% equity share\n",
    "#We assume the funding_total is the true valuation of the company, so we average the funding_total\n",
    "#for success companies and take 5% of that as our share\n",
    "seed_round = 100000\n",
    "util = [[0,0],[0,0]]\n",
    "#True negative cost = 0, we don't invest in a company that fails\n",
    "#True positive profit is 5% of the average funding total over success companies minus our 100K\n",
    "util[1][1] = .05*sum(df[df['success']==1]['funding_total'])/len(df[df['success']==1]) - seed_round\n",
    "#False negative cost is again the 5% of average funding total over success companies, but as a cost\n",
    "util[1][0] = -util[1][1] - seed_round\n",
    "#False positive is the cost of investing in a failed startup, this is the 100K\n",
    "util[0][1] = -seed_round"
   ]
  },
  {
   "cell_type": "code",
   "execution_count": 122,
   "metadata": {
    "collapsed": false
   },
   "outputs": [],
   "source": [
    "def percentage(tpr, fpr, priorp, priorn):\n",
    "    perc = tpr*priorp + fpr*priorn\n",
    "    return perc\n",
    "def av_profit(tpr, fpr, util, priorp, priorn):\n",
    "    profit = priorp*(util[1][1]*tpr+util[1][0]*(1.-tpr))+priorn*(util[0][0]*(1.-fpr) +util[0][1]*fpr)\n",
    "    return profit"
   ]
  },
  {
   "cell_type": "code",
   "execution_count": 123,
   "metadata": {
    "collapsed": true
   },
   "outputs": [],
   "source": [
    "#Taken from HW3\n",
    "def make_profit(name, clf, ytest, xtest, util, ax=None, threshold=False, labe=200, proba=True):\n",
    "    initial=False\n",
    "    if not ax:\n",
    "        ax=plt.gca()\n",
    "        initial=True\n",
    "    if proba:\n",
    "        fpr, tpr, thresholds=roc_curve(ytest, clf.predict_proba(xtest)[:,1])\n",
    "    else:\n",
    "        fpr, tpr, thresholds=roc_curve(ytest, clf.decision_function(xtest))\n",
    "    priorp=np.mean(ytest)\n",
    "    priorn=1. - priorp\n",
    "    ben=[]\n",
    "    percs=[]\n",
    "    for i,t in enumerate(thresholds):\n",
    "        perc=percentage(tpr[i], fpr[i], priorp, priorn)\n",
    "        ev = av_profit(tpr[i], fpr[i], util, priorp, priorn)\n",
    "        ben.append(ev)\n",
    "        percs.append(perc*100)\n",
    "    ax.plot(percs, ben, '-', alpha=0.3, markersize=5, label='utlity curve for %s' % name)\n",
    "    if threshold:\n",
    "        label_kwargs = {}\n",
    "        label_kwargs['bbox'] = dict(\n",
    "        boxstyle='round,pad=0.3', alpha=0.2,\n",
    "        )\n",
    "        for k in xrange(0, fpr.shape[0],labe):\n",
    "            #from https://gist.github.com/podshumok/c1d1c9394335d86255b8\n",
    "            threshold = str(np.round(thresholds[k], 2))\n",
    "            ax.annotate(threshold, (percs[k], ben[k]), **label_kwargs)\n",
    "    ax.legend(loc=\"lower right\")\n",
    "    return ax"
   ]
  },
  {
   "cell_type": "code",
   "execution_count": 124,
   "metadata": {
    "collapsed": false
   },
   "outputs": [
    {
     "data": {
      "image/png": "[encoded data removed]",
      "text/plain": [
       "<matplotlib.figure.Figure at 0x114863350>"
      ]
     },
     "metadata": {},
     "output_type": "display_data"
    }
   ],
   "source": [
    "with sns.color_palette(\"bright\"):\n",
    "    make_profit(\"logistic-l2\",log_reg, y_test, X_test, util, threshold=True, labe=300);\n",
    "    plt.xlim([0,100])"
   ]
  },
  {
   "cell_type": "markdown",
   "metadata": {},
   "source": [
    "## SVM"
   ]
  },
  {
   "cell_type": "code",
   "execution_count": 125,
   "metadata": {
    "collapsed": false
   },
   "outputs": [
    {
     "name": "stdout",
     "output_type": "stream",
     "text": [
      "CPU times: user 12.7 s, sys: 56.6 ms, total: 12.8 s\n",
      "Wall time: 12.8 s\n"
     ]
    }
   ],
   "source": [
    "from sklearn import svm\n",
    "\n",
    "# We can try first a linear SVM\n",
    "clf = svm.SVC(kernel='linear')\n",
    "%time clf = clf.fit(X_train, y_train)"
   ]
  },
  {
   "cell_type": "code",
   "execution_count": 126,
   "metadata": {
    "collapsed": false
   },
   "outputs": [
    {
     "name": "stdout",
     "output_type": "stream",
     "text": [
      "Test accuracy with kernel='linear': 0.690909090909\n"
     ]
    }
   ],
   "source": [
    "test_accuracy = clf.score(X_test, y_test)\n",
    "print \"Test accuracy with kernel='linear': %s\" % test_accuracy"
   ]
  },
  {
   "cell_type": "code",
   "execution_count": 127,
   "metadata": {
    "collapsed": false
   },
   "outputs": [
    {
     "name": "stdout",
     "output_type": "stream",
     "text": [
      "CPU times: user 8.32 s, sys: 32.6 ms, total: 8.35 s\n",
      "Wall time: 8.35 s\n"
     ]
    }
   ],
   "source": [
    "# We can try first a linear SVM\n",
    "clf = svm.SVC(kernel='rbf')\n",
    "%time clf = clf.fit(X_train, y_train)"
   ]
  },
  {
   "cell_type": "code",
   "execution_count": 128,
   "metadata": {
    "collapsed": false
   },
   "outputs": [
    {
     "name": "stdout",
     "output_type": "stream",
     "text": [
      "Test accuracy with kernel='rbf': 0.695454545455\n"
     ]
    }
   ],
   "source": [
    "test_accuracy = clf.score(X_test, y_test)\n",
    "print \"Test accuracy with kernel='rbf': %s\" % test_accuracy"
   ]
  },
  {
   "cell_type": "code",
   "execution_count": 129,
   "metadata": {
    "collapsed": false
   },
   "outputs": [
    {
     "name": "stdout",
     "output_type": "stream",
     "text": [
      "CPU times: user 7.74 s, sys: 28.9 ms, total: 7.77 s\n",
      "Wall time: 7.77 s\n"
     ]
    }
   ],
   "source": [
    "# We can try first a linear SVM\n",
    "clf = svm.SVC(kernel='poly')\n",
    "%time clf = clf.fit(X_train, y_train)"
   ]
  },
  {
   "cell_type": "code",
   "execution_count": 130,
   "metadata": {
    "collapsed": false
   },
   "outputs": [
    {
     "name": "stdout",
     "output_type": "stream",
     "text": [
      "Test accuracy with kernel='rbf': 0.681818181818\n"
     ]
    }
   ],
   "source": [
    "test_accuracy = clf.score(X_test, y_test)\n",
    "print \"Test accuracy with kernel='rbf': %s\" % test_accuracy"
   ]
  },
  {
   "cell_type": "markdown",
   "metadata": {},
   "source": [
    "We reached the all fails accuracy here and the model effectiveley predicts all fail.\n",
    "\n",
    "The best SVM seems to be the linear one"
   ]
  },
  {
   "cell_type": "code",
   "execution_count": 131,
   "metadata": {
    "collapsed": false
   },
   "outputs": [
    {
     "data": {
      "text/plain": [
       "array([0, 0, 0, 0, 0, 0, 0, 0, 0, 0, 0, 0, 0, 0, 0, 0, 0, 0, 0, 0, 0, 0, 0,\n",
       "       0, 0, 0, 0, 0, 0, 0, 0, 0, 0, 0, 0, 0, 0, 0, 0, 0, 0, 0, 0, 0, 0, 0,\n",
       "       0, 0, 0, 0, 0, 0, 0, 0, 0, 0, 0, 0, 0, 0, 0, 0, 0, 0, 0, 0, 0, 0, 0,\n",
       "       0, 0, 0, 0, 0, 0, 0, 0, 0, 0, 0, 0, 0, 0, 0, 0, 0, 0, 0, 0, 0, 0, 0,\n",
       "       0, 0, 0, 0, 0, 0, 0, 0, 0, 0, 0, 0, 0, 0, 0, 0, 0, 0, 0, 0, 0, 0, 0,\n",
       "       0, 0, 0, 0, 0, 0, 0, 0, 0, 0, 0, 0, 0, 0, 0, 0, 0, 0, 0, 0, 0, 0, 0,\n",
       "       0, 0, 0, 0, 0, 0, 0, 0, 0, 0, 0, 0, 0, 0, 0, 0, 0, 0, 0, 0, 0, 0, 0,\n",
       "       0, 0, 0, 0, 0, 0, 0, 0, 0, 0, 0, 0, 0, 0, 0, 0, 0, 0, 0, 0, 0, 0, 0,\n",
       "       0, 0, 0, 0, 0, 0, 0, 0, 0, 0, 0, 0, 0, 0, 0, 0, 0, 0, 0, 0, 0, 0, 0,\n",
       "       0, 0, 0, 0, 0, 0, 0, 0, 0, 0, 0, 0, 0])"
      ]
     },
     "execution_count": 131,
     "metadata": {},
     "output_type": "execute_result"
    }
   ],
   "source": [
    "clf.predict(X_test)"
   ]
  },
  {
   "cell_type": "markdown",
   "metadata": {},
   "source": [
    "## Naive Bayes on the short description"
   ]
  },
  {
   "cell_type": "markdown",
   "metadata": {},
   "source": [
    "Now let's look at whether we can predict success from the presence of certain words in the short description. First, find the top 100 keywords in the short descriptions."
   ]
  },
  {
   "cell_type": "code",
   "execution_count": 132,
   "metadata": {
    "collapsed": false
   },
   "outputs": [],
   "source": [
    "# Import Counter, a library helpful for getting most common values out of a list\n",
    "from collections import Counter\n",
    "# get a list of all the adjectives and nouns, and then join them\n",
    "adjectives=[item for sublist in df.text_adjectives.tolist() for item in sublist] \n",
    "nouns=[item for sublist in df.text_nouns.tolist() for item in sublist] \n",
    "all_words=adjectives+nouns\n",
    "# then simply use the most_common function to get the top 100 words and their counts\n",
    "top_100_words=Counter(all_words).most_common(100)"
   ]
  },
  {
   "cell_type": "markdown",
   "metadata": {},
   "source": [
    "Then, we create a new dataframe with a column for each of these words, and whether a company's short description contains these words. "
   ]
  },
  {
   "cell_type": "code",
   "execution_count": 133,
   "metadata": {
    "collapsed": false
   },
   "outputs": [],
   "source": [
    "words_df=pd.DataFrame(index=df.index)\n",
    "for word,count in top_100_words:\n",
    "    # add column if word appears in adjectives or nouns\n",
    "    words_df['word_'+word]=df.text_adjectives.map(lambda x: word in x)|df.text_nouns.map(lambda x: word in x)"
   ]
  },
  {
   "cell_type": "markdown",
   "metadata": {},
   "source": [
    "Now let's set the training, validation, and test data sets using the same indices as above. "
   ]
  },
  {
   "cell_type": "code",
   "execution_count": 134,
   "metadata": {
    "collapsed": false
   },
   "outputs": [],
   "source": [
    "X_train_w=words_df.ix[X_train.index]\n",
    "X_test_w=words_df.ix[X_test.index]\n",
    "X_validate_w=words_df.ix[X_validate.index]"
   ]
  },
  {
   "cell_type": "markdown",
   "metadata": {},
   "source": [
    "We choose to run Bernoulli Naive Baye's as the classifier, since it does best with text classification given binary features for common words. There aren't any hyperparameters to fit.  "
   ]
  },
  {
   "cell_type": "code",
   "execution_count": 222,
   "metadata": {
    "collapsed": false
   },
   "outputs": [],
   "source": [
    "X_train_w = X_train_w.fillna(False)\n",
    "X_test_w = X_test_w.fillna(False)\n",
    "X_validate_w = X_validate_w.fillna(False)"
   ]
  },
  {
   "cell_type": "code",
   "execution_count": 167,
   "metadata": {
    "collapsed": false
   },
   "outputs": [
    {
     "data": {
      "text/plain": [
       "0.68101265822784807"
      ]
     },
     "execution_count": 167,
     "metadata": {},
     "output_type": "execute_result"
    }
   ],
   "source": [
    "from sklearn.naive_bayes import BernoulliNB\n",
    "nb=BernoulliNB()\n",
    "nb.fit(X_train_w,y_train)\n",
    "nb.score(X_validate_w,y_validate)"
   ]
  },
  {
   "cell_type": "markdown",
   "metadata": {},
   "source": [
    "This isn't great, because it's barely above the baseline.  \n"
   ]
  },
  {
   "cell_type": "code",
   "execution_count": 212,
   "metadata": {
    "collapsed": true
   },
   "outputs": [],
   "source": [
    "# TODO: figure out whether or not it makes sense to add to ensemble, add more commentary"
   ]
  },
  {
   "cell_type": "markdown",
   "metadata": {},
   "source": [
    "## Random Forests"
   ]
  },
  {
   "cell_type": "markdown",
   "metadata": {},
   "source": [
    "Random Forests is often a reliable option for an ensemble classifier, and there are a few hyperparameters we can tune. We'll be iterating over the number of trees to create, and the maximum number of columns to consider for each tree in the random forest. This max_features is supplied as a fraction of the features, which is why the values are between 0 and 1. "
   ]
  },
  {
   "cell_type": "code",
   "execution_count": 173,
   "metadata": {
    "collapsed": false
   },
   "outputs": [
    {
     "name": "stdout",
     "output_type": "stream",
     "text": [
      "Number of trees:  5, Max percentage of features used:  0.200000, Accuracy: 0.782278\n",
      "Number of trees:  5, Max percentage of features used:  0.400000, Accuracy: 0.769620\n",
      "Number of trees:  5, Max percentage of features used:  0.600000, Accuracy: 0.754430\n",
      "Number of trees:  5, Max percentage of features used:  1.000000, Accuracy: 0.724051\n",
      "Number of trees:  10, Max percentage of features used:  0.200000, Accuracy: 0.754430\n",
      "Number of trees:  10, Max percentage of features used:  0.400000, Accuracy: 0.777215\n",
      "Number of trees:  10, Max percentage of features used:  0.600000, Accuracy: 0.767089\n",
      "Number of trees:  10, Max percentage of features used:  1.000000, Accuracy: 0.729114\n",
      "Number of trees:  20, Max percentage of features used:  0.200000, Accuracy: 0.759494\n",
      "Number of trees:  20, Max percentage of features used:  0.400000, Accuracy: 0.772152\n",
      "Number of trees:  20, Max percentage of features used:  0.600000, Accuracy: 0.767089\n",
      "Number of trees:  20, Max percentage of features used:  1.000000, Accuracy: 0.731646\n",
      "\n",
      "Best parameters\n",
      "Number of trees: 5\n",
      "Max percentage of features being used: 0.200000\n",
      "Accuracy of the model: 0.782278 \n"
     ]
    }
   ],
   "source": [
    "from sklearn.ensemble import RandomForestClassifier\n",
    "import itertools as it\n",
    "trees=[5,10,20]\n",
    "max_features=[.2,.4,.6, 1]\n",
    "\n",
    "best_score=0\n",
    "best_params=(0,0)\n",
    "for tree,max_feat in it.product(trees, max_features):\n",
    "    rf=RandomForestClassifier(n_estimators=tree, max_features=max_feat)\n",
    "    rf.fit(X_train,y_train)\n",
    "    score= rf.score(X_validate,y_validate)\n",
    "    print \"Number of trees:  %d, Max percentage of features used:  %2f, Accuracy: %f\" % (tree, max_feat,score)\n",
    "    if score>best_score:\n",
    "        best_score=score\n",
    "        params=(tree, max_feat)\n",
    "print \"\\nBest parameters\"\n",
    "print \"Number of trees: %d\" % params[0]\n",
    "print \"Max percentage of features being used: %f\" % params[1]\n",
    "print \"Accuracy of the model: %f \" % best_score\n"
   ]
  },
  {
   "cell_type": "markdown",
   "metadata": {},
   "source": [
    "Inherently, these parameters will change because of randomness, but the best random forest classifier will have an accuracy on the validation set of around 75%. "
   ]
  },
  {
   "cell_type": "code",
   "execution_count": 174,
   "metadata": {
    "collapsed": true
   },
   "outputs": [],
   "source": [
    "rf_best = RandomForestClassifier(n_estimators=params[0], max_features=params[1])\n",
    "rf_best.fit(X_train, y_train)"
   ]
  },
  {
   "cell_type": "markdown",
   "metadata": {},
   "source": [
    "# Building an Ensemble"
   ]
  },
  {
   "cell_type": "markdown",
   "metadata": {
    "collapsed": true
   },
   "source": [
    "Looking at the previous methods we used, the ones with the most predictive power were K-nearest, logistic regression, and random forests. Now, we'd like to build an ensemble with them and see if we can improve the predictive power further"
   ]
  },
  {
   "cell_type": "code",
   "execution_count": 220,
   "metadata": {
    "collapsed": false
   },
   "outputs": [],
   "source": [
    "#pointers to the predictor objects\n",
    "knn_valid_predictions = knc.predict(X_validate)\n",
    "log_valid_predictions = log_reg.predict(X_validate)\n",
    "rf_valid_predictions = rf_best.predict(X_validate)\n",
    "nb_valid_predictions = nb.predict(X_validate_w)"
   ]
  },
  {
   "cell_type": "code",
   "execution_count": 223,
   "metadata": {
    "collapsed": false
   },
   "outputs": [],
   "source": [
    "knn_predictions = knc.predict(X_test)\n",
    "log_predictions = log_reg.predict(X_test)\n",
    "rf_predictions = rf_best.predict(X_test)\n",
    "nb_predictions = nb.predict(X_test_w)"
   ]
  },
  {
   "cell_type": "code",
   "execution_count": 229,
   "metadata": {
    "collapsed": false
   },
   "outputs": [
    {
     "data": {
      "text/plain": [
       "LinearRegression(copy_X=True, fit_intercept=True, n_jobs=1, normalize=False)"
      ]
     },
     "execution_count": 229,
     "metadata": {},
     "output_type": "execute_result"
    }
   ],
   "source": [
    "dfensemble=pd.DataFrame.from_dict({'knn':knn_valid_predictions,\n",
    "                                   'log':log_valid_predictions, \n",
    "                                   'rf':rf_valid_predictions,\n",
    "                                   'nb':nb_valid_predictions, 'y':y_validate.values})\n",
    "from sklearn.linear_model import LinearRegression\n",
    "est = LinearRegression()\n",
    "est.fit(dfensemble[['knn', 'log', 'rf','nb']].values, dfensemble['y'])"
   ]
  },
  {
   "cell_type": "code",
   "execution_count": 236,
   "metadata": {
    "collapsed": false
   },
   "outputs": [],
   "source": [
    "dfensembletest=pd.DataFrame.from_dict({'knn':knn_predictions,\n",
    "                                   'log':log_predictions, \n",
    "                                   'rf':rf_predictions,\n",
    "                                   'nb':nb_predictions, 'y':y_test.values})\n",
    "epreds = est.predict(dfensembletest[['knn', 'log', 'rf', 'nb']].values)\n",
    "testactual = y_test.values"
   ]
  },
  {
   "cell_type": "code",
   "execution_count": 235,
   "metadata": {
    "collapsed": false
   },
   "outputs": [
    {
     "name": "stdout",
     "output_type": "stream",
     "text": [
      "0.745454545455\n"
     ]
    }
   ],
   "source": [
    "matches = 0\n",
    "for i in range(len(epreds)):\n",
    "    if (epreds[i]>.5) == (testactual[i]==1): matches+=1\n",
    "print matches*1./len(epreds)"
   ]
  },
  {
   "cell_type": "code",
   "execution_count": null,
   "metadata": {
    "collapsed": true
   },
   "outputs": [],
   "source": []
  }
 ],
 "metadata": {
  "kernelspec": {
   "display_name": "Python 2",
   "language": "python",
   "name": "python2"
  },
  "language_info": {
   "codemirror_mode": {
    "name": "ipython",
    "version": 2
   },
   "file_extension": ".py",
   "mimetype": "text/x-python",
   "name": "python",
   "nbconvert_exporter": "python",
   "pygments_lexer": "ipython2",
   "version": "2.7.9"
  }
 },
 "nbformat": 4,
 "nbformat_minor": 0
}
