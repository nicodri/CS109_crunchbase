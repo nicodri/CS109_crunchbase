{
 "cells": [
  {
   "cell_type": "markdown",
   "metadata": {},
   "source": [
    "# Predicting Startup Success"
   ]
  },
  {
   "cell_type": "markdown",
   "metadata": {},
   "source": [
    "As investors we want to know which companies will succeed and which companies will fail so we can make smart investments.  Unfortuanetly there is no way to know ahead of time which companies will succeed or fauk, however, we can try to predict success based on the huge amounts of data available online about startups.  For this project we will be analyzing data obtained through the [CrunchBase](https://www.crunchbase.com/) API.\n",
    "\n",
    "The CrunchBase dataset, while extensive provides us with data that is pretty biased.  In order to be in the CrunchBase database, a company must already have become newsworthy.  Normally that means raising a significant round of funding or graduating from a prominent incubator.  We will take this bias into account when performing our analysis.  Simply raising one round of funding will not be considered a succesful outcome.\n",
    "\n",
    "So how will we define success?  We will use a couple of indicators, and if a company achieves even a single one of these, we will consider the startup to be successful.  \n",
    "\n",
    "So what are the indicators we are using? We will consider a company to be a success if it IPOs or if it is acquired (even though we are aware that many acquisitions may not be considered successes by employees or investors in a company, for this project we will be making this simplification and assuming all acquisitions are successes).  We will also consider a startup a success if it has raised several rounds of funding.  How many?  Well, since all the startups in the CrunchBase database have already raised one round, we will pretend we are making a second round investment.  Any companies that raise a thrid round will be considered succesful as they have proven that other investors are interested in investing in this company after us.  Later we will show another reason why we chose 3 as a cutoff in the number of rounds of investment to be considered successful.\n",
    "\n",
    "Not all companies are equally successful.  And perhaps it is best to weight your investments based on how certain you are that a company will succeed and how succesful that company will be, in terms of what the rate of return for a particular company is.  However, since we don't have all of the financial information for funding rounds, and none of the financial information for rate of return for different investors in different rounds of different companies, we will simply focus in this project on the overall success or failure of a company and treat this as a classification problem, rather than a regression problem."
   ]
  },
  {
   "cell_type": "markdown",
   "metadata": {},
   "source": [
    "##Data Cleaning"
   ]
  },
  {
   "cell_type": "code",
   "execution_count": 203,
   "metadata": {
    "collapsed": true
   },
   "outputs": [],
   "source": [
    "%matplotlib inline\n",
    "import numpy as np\n",
    "import scipy as sp\n",
    "import matplotlib as mpl\n",
    "import matplotlib.cm as cm\n",
    "import matplotlib.pyplot as plt\n",
    "import pandas as pd\n",
    "pd.set_option('display.width', 500)\n",
    "pd.set_option('display.max_columns', 100)\n",
    "pd.set_option('display.notebook_repr_html', True)\n",
    "import seaborn as sns\n",
    "sns.set_style(\"whitegrid\")\n",
    "sns.set_context(\"poster\")\n",
    "import json\n",
    "import datetime\n",
    "import time"
   ]
  },
  {
   "cell_type": "code",
   "execution_count": 204,
   "metadata": {
    "collapsed": true
   },
   "outputs": [],
   "source": [
    "# Focus on the start up founded before 2010\n",
    "with open(\"tmp/organizations_dict_to2010.json\", \"r\") as fd:\n",
    "    orgs = json.load(fd)"
   ]
  },
  {
   "cell_type": "code",
   "execution_count": 205,
   "metadata": {
    "collapsed": false
   },
   "outputs": [
    {
     "data": {
      "text/plain": [
       "[{u'acquired_by': [],\n",
       "  u'acquisitions': [],\n",
       "  u'board_members_and_advisors': [],\n",
       "  u'categories': [{u'name': u'Security'}],\n",
       "  u'competitors': [],\n",
       "  u'founders': [],\n",
       "  u'funding_rounds': [{u'announced_on': u'2014-04-08',\n",
       "    u'funding_type': u'venture',\n",
       "    u'money_raised_usd': 1455200},\n",
       "   {u'announced_on': u'2011-03-03',\n",
       "    u'funding_type': u'venture',\n",
       "    u'money_raised_usd': 192366},\n",
       "   {u'announced_on': u'2013-05-30',\n",
       "    u'funding_type': u'seed',\n",
       "    u'money_raised_usd': 675000},\n",
       "   {u'announced_on': u'2014-03-26',\n",
       "    u'funding_type': u'venture',\n",
       "    u'money_raised_usd': 750000},\n",
       "   {u'announced_on': u'2012-06-13',\n",
       "    u'funding_type': u'seed',\n",
       "    u'money_raised_usd': 1000000},\n",
       "   {u'announced_on': u'2015-01-13',\n",
       "    u'funding_type': u'convertible_note',\n",
       "    u'money_raised_usd': 50000}],\n",
       "  u'headquarters': [{u'city': u'Burnaby', u'country': u'Canada'}],\n",
       "  u'investors': [],\n",
       "  u'ipo': [],\n",
       "  u'moonth_founded': u'1969-01',\n",
       "  u'offices': [{u'city': u'Burnaby', u'country': u'Canada'}],\n",
       "  u'short_description': u'Viscount Systems designs and develops security systems for schools, prisons, hospitals, and more.'},\n",
       " {u'acquired_by': [],\n",
       "  u'acquisitions': [],\n",
       "  u'board_members_and_advisors': [],\n",
       "  u'categories': [{u'name': u'Software'},\n",
       "   {u'name': u'Big Data'},\n",
       "   {u'name': u'Consumer Electronics'}],\n",
       "  u'competitors': [{u'permalink': u'gigaspaces-technologies'},\n",
       "   {u'permalink': u'oracle'}],\n",
       "  u'founders': [],\n",
       "  u'funding_rounds': [{u'announced_on': u'2004-01-01',\n",
       "    u'funding_type': u'angel',\n",
       "    u'money_raised_usd': None}],\n",
       "  u'headquarters': [{u'city': u'Bellevue', u'country': u'United States'}],\n",
       "  u'investors': [{u'permalink': u'alliance-of-angels'}],\n",
       "  u'ipo': [],\n",
       "  u'moonth_founded': u'2003-01',\n",
       "  u'offices': [{u'city': u'Bellevue', u'country': u'United States'}],\n",
       "  u'short_description': u'ScaleOut Software provides scalable, memory-based storage solutions for ecommerce, back-office, financial and HPC applications.'},\n",
       " {u'acquired_by': [],\n",
       "  u'acquisitions': [],\n",
       "  u'board_members_and_advisors': [],\n",
       "  u'categories': [{u'name': u'News'},\n",
       "   {u'name': u'Media'},\n",
       "   {u'name': u'Video'}],\n",
       "  u'competitors': [],\n",
       "  u'founders': [],\n",
       "  u'funding_rounds': [{u'announced_on': u'2014-05-15',\n",
       "    u'funding_type': u'equity_crowdfunding',\n",
       "    u'money_raised_usd': None}],\n",
       "  u'headquarters': [{u'city': u'Fort Lauderdale',\n",
       "    u'country': u'United States'}],\n",
       "  u'investors': [],\n",
       "  u'ipo': [],\n",
       "  u'moonth_founded': u'2008-08',\n",
       "  u'offices': [{u'city': u'Fort Lauderdale', u'country': u'United States'}],\n",
       "  u'short_description': u'A publicly traded company, that creates, distributes and manufactures independent motion pictures and music videos.'},\n",
       " {u'acquired_by': [],\n",
       "  u'acquisitions': [],\n",
       "  u'board_members_and_advisors': [],\n",
       "  u'categories': [{u'name': u'Mobile'},\n",
       "   {u'name': u'Advertising'},\n",
       "   {u'name': u'iPhone'},\n",
       "   {u'name': u'Android'}],\n",
       "  u'competitors': [],\n",
       "  u'founders': [{u'bio': u'Rajesh is a serial entrepreneur and innovator focused on the mobile space. An early proponent of the idea that mobile would fundamentally redefine our lives, Rajesh\\u2019s companies have tried to catalyze and leverage that promise.\\r\\n\\r\\nFormerly he was Founder & CEO of Unimobile Inc. which developed the world\\u2019s first mobile internet messaging platform and was later acquired by VeriSign. During his tenure the company conceptualized and created the world\\u2019s first global internet messaging network across 500 mobile operators in 130 countries and was deployed by enterprises such as Motorola, Citibank, and Cisco etc.\\r\\n\\r\\nHe was named among MIT \\u2013 Technology Review\\u2019s Global TR 100 innovators and holds multiple patents in mobile technologies.\\r\\n\\r\\nHe was also awarded the Golden Mouse award for contributions to Internet.\\r\\n\\r\\nAs Founder & CEO of July Systems Rajesh has been instrumental in creating a global mobile internet platform company with a service footprint in over 150 countries, reaching over hundred million users and driving billions of transactions annually.\\r\\n\\r\\nJuly\\u2019s platform powers the mobile business of some of the largest brands in the world including ESPN, CNN, Toys R Us, Intel, LVMH, NFL, Unilever, NBC Universal and CBS.\\r\\n',\n",
       "    u'born_on': None,\n",
       "    u'permalink': u'rajesh-reddy'},\n",
       "   {u'bio': None, u'born_on': None, u'permalink': u'ashok-narasimhan'}],\n",
       "  u'funding_rounds': [{u'announced_on': u'2012-02-16',\n",
       "    u'funding_type': u'venture',\n",
       "    u'money_raised_usd': 15000000},\n",
       "   {u'announced_on': u'2011-04-08',\n",
       "    u'funding_type': u'venture',\n",
       "    u'money_raised_usd': 10058000},\n",
       "   {u'announced_on': u'2011-04-08',\n",
       "    u'funding_type': u'venture',\n",
       "    u'money_raised_usd': 10011924},\n",
       "   {u'announced_on': u'2014-04-04',\n",
       "    u'funding_type': u'venture',\n",
       "    u'money_raised_usd': 2104999}],\n",
       "  u'headquarters': [{u'city': u'San Francisco', u'country': u'United States'}],\n",
       "  u'investors': [{u'permalink': u'updata-partners'},\n",
       "   {u'permalink': u'westbridge-capital-partners'},\n",
       "   {u'permalink': u'intel-capital'},\n",
       "   {u'permalink': u'intel-capital'},\n",
       "   {u'permalink': u'neocarta-ventures'},\n",
       "   {u'permalink': u'westbridge-capital-partners'}],\n",
       "  u'ipo': [],\n",
       "  u'moonth_founded': u'2001-07',\n",
       "  u'offices': [{u'city': u'San Francisco', u'country': u'United States'}],\n",
       "  u'short_description': u'July Systems provides cross-platform mobile solutions that enable businesses to build, manage, market and monetize their mobile services.'},\n",
       " {u'acquired_by': [],\n",
       "  u'acquisitions': [],\n",
       "  u'board_members_and_advisors': [],\n",
       "  u'categories': [{u'name': u'Nanotechnology'}],\n",
       "  u'competitors': [],\n",
       "  u'founders': [{u'bio': u'CSO Dr. Nicole Herbots, PhD is a multi-lingual engineer and physicist from the UCL, who holds patents both at MIT and ASU. She has licensed patents to Lucent, Vitesses, and Intel.',\n",
       "    u'born_on': None,\n",
       "    u'permalink': u'nicole-herbots'},\n",
       "   {u'bio': u'CEO Clarizza Watson is a chemical engineer graduate from University of Arizona, and holds a MBA from Arizona State University, with experience in research, engineering design and consulting.',\n",
       "    u'born_on': None,\n",
       "    u'permalink': u'clarizza-watson'}],\n",
       "  u'funding_rounds': [{u'announced_on': u'2012-11-21',\n",
       "    u'funding_type': u'seed',\n",
       "    u'money_raised_usd': 25000}],\n",
       "  u'headquarters': [{u'city': u'Tempe', u'country': u'United States'}],\n",
       "  u'investors': [{u'permalink': u'az-furnace-accelerator'}],\n",
       "  u'ipo': [],\n",
       "  u'moonth_founded': u'2010-03',\n",
       "  u'offices': [{u'city': u'Tempe', u'country': u'United States'}],\n",
       "  u'short_description': u'SiO2 Nanotech develops and commercializes a line of technologies that address the issue of fogging due to condensation.'},\n",
       " {u'acquired_by': [],\n",
       "  u'acquisitions': [],\n",
       "  u'board_members_and_advisors': [],\n",
       "  u'categories': [{u'name': u'Web Hosting'},\n",
       "   {u'name': u'Mobile'},\n",
       "   {u'name': u'E-Commerce'},\n",
       "   {u'name': u'Software'}],\n",
       "  u'competitors': [{u'permalink': u'tinyurl'},\n",
       "   {u'permalink': u'bitly'},\n",
       "   {u'permalink': u'is-gd'},\n",
       "   {u'permalink': u'dnsstuff-com'}],\n",
       "  u'founders': [{u'bio': u'Patrick Boden is a serial entrepreneur and currently the CEO and Co-founder of Badongo.com.\\r\\n\\r\\nMr. Boden, a native of Luxembourg, is a self taught software engineer and expert in open-source software systems. For more than a decade, Mr. Boden has applied his considerable technical acumen to the design and deployment of large-scale, high-performance Internet data processing, traffic management and content delivery platforms.\\r\\n\\r\\nIn addition to his technical prowess, Mr. Boden is also an accomplished serial entrepreneur having established and sold a string of successful and profitable companies in Europe and in the U.S.\\r\\n\\r\\nMr. Boden is fluent in 5 languages, English, French, German, Italian and Luxembourgish .',\n",
       "    u'born_on': u'1976-01-01',\n",
       "    u'permalink': u'patrick-boden'},\n",
       "   {u'bio': u'CTO at AcidLabs',\n",
       "    u'born_on': u'1984-12-07',\n",
       "    u'permalink': u'gert-findel'}],\n",
       "  u'funding_rounds': [{u'announced_on': u'2006-12-10',\n",
       "    u'funding_type': u'seed',\n",
       "    u'money_raised_usd': None}],\n",
       "  u'headquarters': [{u'city': u'Santa Monica', u'country': u'United States'}],\n",
       "  u'investors': [],\n",
       "  u'ipo': [],\n",
       "  u'moonth_founded': u'2003-01',\n",
       "  u'offices': [{u'city': u'Santa Monica', u'country': u'United States'}],\n",
       "  u'short_description': u'Innovating Internet Pirates'},\n",
       " {u'acquired_by': [{u'announced_on': u'2011-06-15'}],\n",
       "  u'acquisitions': [],\n",
       "  u'board_members_and_advisors': [],\n",
       "  u'categories': [{u'name': u'Semiconductors'}],\n",
       "  u'competitors': [],\n",
       "  u'founders': [{u'bio': None,\n",
       "    u'born_on': None,\n",
       "    u'permalink': u'nathan-baron'},\n",
       "   {u'bio': u'Vladimir Koifman has over 20 years of experience in VLSI industry. He brings to Advasense technical leadership in analog chip design, mixed signal chip/system architecture and electro-optic device development. Prior to co-founding Advasense Mr. Koifman co-established the AMCC analog design center in Israel and led the analog design group for three years. Before AMCC, Mr. Koifman worked for 10 years in Motorola Semiconductor Israel (Freescale) managing an analog design group.\\r\\n\\r\\nMr. Koifman holds B.S. and M.S. degrees in Electronics and Electro-Optics from the Institute of Radio Engineering, Electronics and Automation, Moscow, Russia.\\r\\n\\r\\nMr. Koifman has 41 granted patents and several papers.',\n",
       "    u'born_on': None,\n",
       "    u'permalink': u'vladimir-koifman'}],\n",
       "  u'funding_rounds': [{u'announced_on': u'2006-03-04',\n",
       "    u'funding_type': u'venture',\n",
       "    u'money_raised_usd': 6000000},\n",
       "   {u'announced_on': u'2007-03-13',\n",
       "    u'funding_type': u'venture',\n",
       "    u'money_raised_usd': 14000000},\n",
       "   {u'announced_on': u'2005-01-25',\n",
       "    u'funding_type': u'venture',\n",
       "    u'money_raised_usd': 4000000}],\n",
       "  u'headquarters': [{u'city': u\"Ra'anana\", u'country': u'Israel'},\n",
       "   {u'city': u\"Ra'anana\", u'country': u'Israel'}],\n",
       "  u'investors': [{u'permalink': u'giza-venture-capital'},\n",
       "   {u'permalink': u'bluerun-ventures'},\n",
       "   {u'permalink': u'genesis-partners'},\n",
       "   {u'permalink': u'cidc-consultants'},\n",
       "   {u'permalink': u'venturetech-alliance'},\n",
       "   {u'permalink': u'bluerun-ventures'},\n",
       "   {u'permalink': u'giza-venture-capital'},\n",
       "   {u'permalink': u'giza-venture-capital'}],\n",
       "  u'ipo': [],\n",
       "  u'moonth_founded': u'2004-01',\n",
       "  u'offices': [{u'city': u\"Ra'anana\", u'country': u'Israel'}],\n",
       "  u'short_description': u'Advasense is a fabless semiconductor company developing CMOS image sensor products for the mobile phone market.'},\n",
       " {u'acquired_by': [{u'announced_on': u'2008-03-03'}],\n",
       "  u'acquisitions': [],\n",
       "  u'board_members_and_advisors': [],\n",
       "  u'categories': [{u'name': u'Advertising'},\n",
       "   {u'name': u'Analytics'},\n",
       "   {u'name': u'Market Research'},\n",
       "   {u'name': u'Business Intelligence'}],\n",
       "  u'competitors': [{u'permalink': u'similarweb'},\n",
       "   {u'permalink': u'alexa'},\n",
       "   {u'permalink': u'comscore'},\n",
       "   {u'permalink': u'hitwise'}],\n",
       "  u'founders': [{u'bio': u'Bill Gross founded UberMedia in 2010 after a series of frustrating experiences tweeting during the United Nations Climate Change Conference in Copenhagen in December 2009, the World Economic Forum in Davos and at the annual TED conference in early 2010. \\r\\n\\r\\nGetting lost in the noise of meaningless chatter and unable to easily connect with users interested in finding insightful tweeters from these events, Bill realized there had to be a better way to connect to serious tweeters and followers. Bill took his concept for UberMedia to the Idealab board and several potential investors, all of whom immediately saw its potential.\\r\\n\\r\\nBill is also the CEO of Idealab, where he has started over 75 companies. He serves on the boards of directors of numerous companies and is a member of the Board of Trustees of the California Institute of Technology and of the Art Center College of Design. Bill received his B.S. in Mechanical Engineering from the California Institute of Technology.',\n",
       "    u'born_on': None,\n",
       "    u'permalink': u'bill-gross'},\n",
       "   {u'bio': u\"David is Chief Product Officer at HubSpot following HubSpot's acquisition of Performable, where he was previously former CEO & Founder. Until recently David was the CTO & co-founder of Lookery. Before starting Lookery David started Compete where he was the CTO, acquired by Taylor Nelson Sofres. Prior to Compete David was the CTO of BuyerZone, acquired by Reed Elsevier.In the late 90's he was a part of the founding team of Bolt.com & part of Lycos.\\r\\n\\r\\nIn addition to HubSpot, David is on the advisory boards of Spark Capital, Visible Measures, Sonian Networks, Yotta and Shareaholic. David is originally from New York City and now lives in the Boston area with his superstar wife and daughter. He loves making something from nothing.\",\n",
       "    u'born_on': None,\n",
       "    u'permalink': u'david-cancel'}],\n",
       "  u'funding_rounds': [{u'announced_on': u'2007-08-01',\n",
       "    u'funding_type': u'venture',\n",
       "    u'money_raised_usd': 10000000},\n",
       "   {u'announced_on': u'2000-11-01',\n",
       "    u'funding_type': u'venture',\n",
       "    u'money_raised_usd': 6000000},\n",
       "   {u'announced_on': u'2003-10-06',\n",
       "    u'funding_type': u'venture',\n",
       "    u'money_raised_usd': 13000000},\n",
       "   {u'announced_on': u'2006-03-09',\n",
       "    u'funding_type': u'venture',\n",
       "    u'money_raised_usd': 4000000}],\n",
       "  u'headquarters': [{u'city': u'Boston', u'country': u'United States'}],\n",
       "  u'investors': [{u'permalink': u'charles-river-ventures'},\n",
       "   {u'permalink': u'split-rock-partners'},\n",
       "   {u'permalink': u'william-blair-new-world-ventures'},\n",
       "   {u'permalink': u'idealab'},\n",
       "   {u'permalink': u'north-hill-ventures'},\n",
       "   {u'permalink': u'hercules-technology-growth-capital'}],\n",
       "  u'ipo': [],\n",
       "  u'moonth_founded': u'2000-01',\n",
       "  u'offices': [{u'city': u'Boston', u'country': u'United States'}],\n",
       "  u'short_description': u'Compete delivers digital intelligence, enabling brands to improve their marketing based on the online behavior of consumers.'},\n",
       " {u'acquired_by': [{u'announced_on': u'2011-10-28'}],\n",
       "  u'acquisitions': [],\n",
       "  u'board_members_and_advisors': [],\n",
       "  u'categories': [{u'name': u'Biotechnology'},\n",
       "   {u'name': u'Health and Wellness'}],\n",
       "  u'competitors': [],\n",
       "  u'founders': [],\n",
       "  u'funding_rounds': [{u'announced_on': u'2009-09-21',\n",
       "    u'funding_type': u'venture',\n",
       "    u'money_raised_usd': 5000000}],\n",
       "  u'headquarters': [{u'city': u'Durham', u'country': u'United States'},\n",
       "   {u'city': u'Durham', u'country': u'United States'}],\n",
       "  u'investors': [{u'permalink': u'pfizer-venture-investments'}],\n",
       "  u'ipo': [{u'went_public_on': u'2005-02-03'}],\n",
       "  u'moonth_founded': u'1992-01',\n",
       "  u'offices': [{u'city': u'Durham', u'country': u'United States'}],\n",
       "  u'short_description': u'ICAgen, a biopharmaceutical company, develops novel orally-administered small molecule drugs that modulate ion channel targets.'},\n",
       " {u'acquired_by': [],\n",
       "  u'acquisitions': [],\n",
       "  u'board_members_and_advisors': [],\n",
       "  u'categories': [{u'name': u'Biotechnology'}],\n",
       "  u'competitors': [],\n",
       "  u'founders': [],\n",
       "  u'funding_rounds': [{u'announced_on': u'2011-02-15',\n",
       "    u'funding_type': u'venture',\n",
       "    u'money_raised_usd': 20841869},\n",
       "   {u'announced_on': u'2003-03-01',\n",
       "    u'funding_type': u'undisclosed',\n",
       "    u'money_raised_usd': None}],\n",
       "  u'headquarters': [{u'city': u'San Antonio', u'country': u'United States'}],\n",
       "  u'investors': [{u'permalink': u'clayton-associates'},\n",
       "   {u'permalink': u'fca-venture-partners'}],\n",
       "  u'ipo': [],\n",
       "  u'moonth_founded': u'2000-01',\n",
       "  u'offices': [{u'city': u'San Antonio', u'country': u'United States'}],\n",
       "  u'short_description': u'CeloNova BioSciences is a medical device firm that develops, manufactures and markets interventional cardiology and endovascular products.'}]"
      ]
     },
     "execution_count": 205,
     "metadata": {},
     "output_type": "execute_result"
    }
   ],
   "source": [
    "orgs.values()[-10:]"
   ]
  },
  {
   "cell_type": "code",
   "execution_count": 206,
   "metadata": {
    "collapsed": false
   },
   "outputs": [],
   "source": [
    "df=pd.DataFrame(orgs.values(),index=orgs.keys())"
   ]
  },
  {
   "cell_type": "markdown",
   "metadata": {},
   "source": [
    "Copied this from HW5, to get adjectives and nouns from the short_description"
   ]
  },
  {
   "cell_type": "code",
   "execution_count": 207,
   "metadata": {
    "collapsed": true
   },
   "outputs": [],
   "source": [
    "from sklearn.feature_extraction import text \n",
    "stopwords=text.ENGLISH_STOP_WORDS\n",
    "import re\n",
    "regex1=re.compile(r\"\\.{2,}\")\n",
    "regex2=re.compile(r\"\\-{2,}\")\n",
    "from pattern.en import parse\n",
    "from pattern.en import pprint\n",
    "from pattern.vector import stem, PORTER, LEMMA\n",
    "punctuation = list('.,;:!?()[]{}`''\\\"@#$^&*+-|=~_')\n",
    "# taken from HW5\n",
    "def get_parts(thetext):\n",
    "    thetext=re.sub(regex1, ' ', thetext)\n",
    "    thetext=re.sub(regex2, ' ', thetext)\n",
    "    nouns=[]\n",
    "    descriptives=[]\n",
    "    for i,sentence in enumerate(parse(thetext, tokenize=True, lemmata=True).split()):\n",
    "        nouns.append([])\n",
    "        descriptives.append([])\n",
    "        for token in sentence:\n",
    "            if len(token[4]) >0:\n",
    "                if token[1] in ['JJ', 'JJR', 'JJS']:\n",
    "                    if token[4] in stopwords or token[4][0] in punctuation or token[4][-1] in punctuation or len(token[4])==1:\n",
    "                        continue\n",
    "                    descriptives[i].append(token[4])\n",
    "                elif token[1] in ['NN', 'NNS']:\n",
    "                    if token[4] in stopwords or token[4][0] in punctuation or token[4][-1] in punctuation or len(token[4])==1:\n",
    "                        continue\n",
    "                    nouns[i].append(token[4])\n",
    "    out=zip(nouns, descriptives)\n",
    "    nouns2=[]\n",
    "    descriptives2=[]\n",
    "    for n,d in out:\n",
    "        if len(n)!=0 and len(d)!=0:\n",
    "            nouns2.append(n)\n",
    "            descriptives2.append(d)\n",
    "    return nouns2, descriptives2\n"
   ]
  },
  {
   "cell_type": "code",
   "execution_count": 234,
   "metadata": {
    "collapsed": false
   },
   "outputs": [],
   "source": [
    "# If no description we set the short description to 0 to apply the mapping\n",
    "df['short_description'] = df.short_description.fillna(0)"
   ]
  },
  {
   "cell_type": "code",
   "execution_count": 235,
   "metadata": {
    "collapsed": false
   },
   "outputs": [],
   "source": [
    "# add column for description nouns and adjectives\n",
    "df['text_nouns']=df.short_description.map(lambda x: None if isinstance(x, int) else get_parts(x)[0])\n",
    "df['text_adjectives']=df.short_description.map(lambda x: None if isinstance(x, int) else get_parts(x)[1])"
   ]
  },
  {
   "cell_type": "code",
   "execution_count": 236,
   "metadata": {
    "collapsed": false,
    "scrolled": false
   },
   "outputs": [],
   "source": [
    "# add indicator columns for each category\n",
    "catlist=df.categories.map(lambda x: None if x==None or isinstance(x,float) else [a['name'] for a in x]).tolist()\n",
    "catset=set([item for sublist  in catlist if sublist!=None for item in sublist])\n",
    "for category in catset:\n",
    "    df[\"c_\"+category+\"_i\"]=pd.Series(catlist, index=df.index).map(lambda x: category in x if x else False)"
   ]
  },
  {
   "cell_type": "code",
   "execution_count": 237,
   "metadata": {
    "collapsed": false
   },
   "outputs": [],
   "source": [
    "# add indicator columns for investors\n",
    "investorslist=df.investors.map(lambda x: None if x==None or isinstance(x,float) else [a['permalink'] for a in x]).tolist()\n",
    "investorset=set([item for sublist  in investorslist if sublist!=None for item in sublist])\n",
    "for inv in investorset:\n",
    "    df[\"i_\"+inv+\"_i\"]=pd.Series(investorslist, index=df.index).map(lambda x: inv in x if x else False)"
   ]
  },
  {
   "cell_type": "code",
   "execution_count": 238,
   "metadata": {
    "collapsed": true
   },
   "outputs": [],
   "source": [
    "# add indicator columns for cities (from offices)\n",
    "citylist=df.offices.map(lambda x: None if not x or isinstance(x,float) else [a['city'] for a in x]).tolist()\n",
    "cityset=set([item for sublist  in citylist if sublist!=None for item in sublist])\n",
    "for city in cityset:\n",
    "    if city != None:\n",
    "        df[\"city_\"+city+\"_i\"]=pd.Series(citylist, index=df.index).map(lambda x: city in x if x else False)"
   ]
  },
  {
   "cell_type": "code",
   "execution_count": 239,
   "metadata": {
    "collapsed": true
   },
   "outputs": [],
   "source": [
    "# add indicator columns for headquarter country\n",
    "countrylist=df.headquarters.map(lambda x: None if not x or isinstance(x,float) else [a['country'] for a in x]).tolist()\n",
    "countryset=set([item for sublist  in countrylist if sublist!=None for item in sublist])\n",
    "for country in countryset:\n",
    "    if country != None:\n",
    "        df[\"country_\"+country+\"_i\"]=pd.Series(countrylist, index=df.index).map(lambda x: city in x if x else False)"
   ]
  },
  {
   "cell_type": "markdown",
   "metadata": {},
   "source": [
    "After adding indicator columns, we now get some more data from the fields that currently exist as dictionaries/lists"
   ]
  },
  {
   "cell_type": "code",
   "execution_count": 240,
   "metadata": {
    "collapsed": false
   },
   "outputs": [],
   "source": [
    "df['funding_dates']=df.funding_rounds.map(lambda x:[] if not x or isinstance(x,float) else [datetime.datetime(*time.strptime(a['announced_on'], '%Y-%m-%d')[:3]) for a in x])"
   ]
  },
  {
   "cell_type": "code",
   "execution_count": 241,
   "metadata": {
    "collapsed": false
   },
   "outputs": [],
   "source": [
    "df['funding_amounts']=df.funding_rounds.map(lambda x:[] if not x or isinstance(x,float) else [float(a['money_raised_usd']) if a['money_raised_usd'] != None else 0 for a in x])"
   ]
  },
  {
   "cell_type": "code",
   "execution_count": 242,
   "metadata": {
    "collapsed": false
   },
   "outputs": [],
   "source": [
    "df['num_funding_rounds']=df.funding_amounts.map(lambda x: len(x))"
   ]
  },
  {
   "cell_type": "code",
   "execution_count": 243,
   "metadata": {
    "collapsed": false
   },
   "outputs": [],
   "source": [
    "df['funding_mean']=df.funding_amounts.map(lambda x: np.mean(x))\n",
    "df['funding_total']=df.funding_amounts.map(lambda x: np.sum(x))"
   ]
  },
  {
   "cell_type": "code",
   "execution_count": 244,
   "metadata": {
    "collapsed": false
   },
   "outputs": [],
   "source": [
    "df['went_ipo']=df.ipo.map(lambda x: True if x else False)"
   ]
  },
  {
   "cell_type": "code",
   "execution_count": 245,
   "metadata": {
    "collapsed": false
   },
   "outputs": [],
   "source": [
    "df['was_acquired']=df.acquired_by.map(lambda x: True if x else False)"
   ]
  },
  {
   "cell_type": "code",
   "execution_count": 246,
   "metadata": {
    "collapsed": false
   },
   "outputs": [],
   "source": [
    "df['founder_names']=df.founders.map(lambda x:[] if not x or isinstance(x,float) else [a['permalink']  for a in x])\n",
    "df['num_founders']=df.founders.map(lambda x: np.count_nonzero(x))"
   ]
  },
  {
   "cell_type": "code",
   "execution_count": 247,
   "metadata": {
    "collapsed": false
   },
   "outputs": [],
   "source": [
    "df['founder_ages'] = df.founders.map(lambda x:[] if not x or isinstance(x,float) else [(datetime.date.today()-datetime.date(*time.strptime(a['born_on'],'%Y-%m-%d')[:3])).days/365 for a in x if isinstance(a['born_on'],unicode)])\n",
    "df['founder_ages_mean'] = df.founder_ages.map(lambda x: np.mean(x) if len(x) >0 else 0)\n",
    "df['num_competitors'] = df.competitors.map(lambda x: np.count_nonzero(x))\n",
    "df['num_acquisitions'] = df.acquisitions.map(lambda x: np.count_nonzero(x))\n",
    "df['num_board_members_and_advisors'] = df.board_members_and_advisors.map(lambda x: np.count_nonzero(x))"
   ]
  },
  {
   "cell_type": "code",
   "execution_count": 252,
   "metadata": {
    "collapsed": false
   },
   "outputs": [],
   "source": [
    "df['month_founded'] = df.month_founded.map(lambda x:None if not x or isinstance(x,float) else datetime.datetime(*time.strptime(x, u'%Y-%m')[:3]))"
   ]
  },
  {
   "cell_type": "code",
   "execution_count": 278,
   "metadata": {
    "collapsed": false,
    "scrolled": true
   },
   "outputs": [
    {
     "data": {
      "text/html": [
       "<div>\n",
       "<table border=\"1\" class=\"dataframe\">\n",
       "  <thead>\n",
       "    <tr style=\"text-align: right;\">\n",
       "      <th></th>\n",
       "      <th>acquired_by</th>\n",
       "      <th>acquisitions</th>\n",
       "      <th>board_members_and_advisors</th>\n",
       "      <th>categories</th>\n",
       "      <th>competitors</th>\n",
       "      <th>founders</th>\n",
       "      <th>funding_rounds</th>\n",
       "      <th>headquarters</th>\n",
       "      <th>investors</th>\n",
       "      <th>ipo</th>\n",
       "      <th>offices</th>\n",
       "      <th>short_description</th>\n",
       "      <th>text_nouns</th>\n",
       "      <th>text_adjectives</th>\n",
       "      <th>c_Marketplaces_i</th>\n",
       "      <th>c_Veterinary_i</th>\n",
       "      <th>c_Crowdsourcing_i</th>\n",
       "      <th>c_Data Privacy_i</th>\n",
       "      <th>c_B2B_i</th>\n",
       "      <th>c_Event Management_i</th>\n",
       "      <th>c_Health and Insurance_i</th>\n",
       "      <th>c_Crowdfunding_i</th>\n",
       "      <th>c_Performance Marketing_i</th>\n",
       "      <th>c_Incentives_i</th>\n",
       "      <th>c_Social Television_i</th>\n",
       "      <th>c_Communications Infrastructure_i</th>\n",
       "      <th>c_Collaborative Consumption_i</th>\n",
       "      <th>c_Lighting_i</th>\n",
       "      <th>c_Virtual Currency_i</th>\n",
       "      <th>c_Tourism_i</th>\n",
       "      <th>c_Cloud Data Services_i</th>\n",
       "      <th>c_Training_i</th>\n",
       "      <th>c_Knowledge Management_i</th>\n",
       "      <th>c_Social Media Marketing_i</th>\n",
       "      <th>c_Sensors_i</th>\n",
       "      <th>c_Restaurants_i</th>\n",
       "      <th>c_Interface Design_i</th>\n",
       "      <th>c_Portals_i</th>\n",
       "      <th>c_Independent Music Labels_i</th>\n",
       "      <th>c_Customer Support Tools_i</th>\n",
       "      <th>c_Reviews and Recommendations_i</th>\n",
       "      <th>c_Water Purification_i</th>\n",
       "      <th>c_Flash Storage_i</th>\n",
       "      <th>c_SNS_i</th>\n",
       "      <th>c_Peer-to-Peer_i</th>\n",
       "      <th>c_Telecommunications_i</th>\n",
       "      <th>c_Ticketing_i</th>\n",
       "      <th>c_Freelancers_i</th>\n",
       "      <th>c_Video Streaming_i</th>\n",
       "      <th>c_Lead Management_i</th>\n",
       "      <th>...</th>\n",
       "      <th>country_The Netherlands_i</th>\n",
       "      <th>country_Cayman Islands_i</th>\n",
       "      <th>country_Denmark_i</th>\n",
       "      <th>country_Poland_i</th>\n",
       "      <th>country_Finland_i</th>\n",
       "      <th>country_Mexico_i</th>\n",
       "      <th>country_Moldova_i</th>\n",
       "      <th>country_United States_i</th>\n",
       "      <th>country_Russian Federation_i</th>\n",
       "      <th>country_Sweden_i</th>\n",
       "      <th>country_Latvia_i</th>\n",
       "      <th>country_Thailand_i</th>\n",
       "      <th>country_Switzerland_i</th>\n",
       "      <th>country_Belarus_i</th>\n",
       "      <th>country_New Zealand_i</th>\n",
       "      <th>country_Brazil_i</th>\n",
       "      <th>country_Mauritius_i</th>\n",
       "      <th>country_Romania_i</th>\n",
       "      <th>country_Portugal_i</th>\n",
       "      <th>country_Estonia_i</th>\n",
       "      <th>country_South Africa_i</th>\n",
       "      <th>country_Egypt_i</th>\n",
       "      <th>country_United Arab Emirates_i</th>\n",
       "      <th>country_Uruguay_i</th>\n",
       "      <th>country_Lebanon_i</th>\n",
       "      <th>country_Peru_i</th>\n",
       "      <th>country_United Kingdom_i</th>\n",
       "      <th>country_Malaysia_i</th>\n",
       "      <th>country_Austria_i</th>\n",
       "      <th>country_Vietnam_i</th>\n",
       "      <th>country_Greece_i</th>\n",
       "      <th>country_Japan_i</th>\n",
       "      <th>country_South Korea_i</th>\n",
       "      <th>funding_dates</th>\n",
       "      <th>funding_amounts</th>\n",
       "      <th>num_funding_rounds</th>\n",
       "      <th>funding_mean</th>\n",
       "      <th>funding_total</th>\n",
       "      <th>went_ipo</th>\n",
       "      <th>was_acquired</th>\n",
       "      <th>founder_names</th>\n",
       "      <th>num_founders</th>\n",
       "      <th>founder_ages</th>\n",
       "      <th>founder_ages_mean</th>\n",
       "      <th>num_competitors</th>\n",
       "      <th>num_acquisitions</th>\n",
       "      <th>num_board_members_and_advisors</th>\n",
       "      <th>month_founded</th>\n",
       "      <th>at_least_3_funding_rounds</th>\n",
       "      <th>success</th>\n",
       "    </tr>\n",
       "  </thead>\n",
       "  <tbody>\n",
       "    <tr>\n",
       "      <th>express-inn-hotel</th>\n",
       "      <td>[]</td>\n",
       "      <td>[]</td>\n",
       "      <td>[]</td>\n",
       "      <td>[{u'name': u'Real Estate'}]</td>\n",
       "      <td>[]</td>\n",
       "      <td>[]</td>\n",
       "      <td>[{u'announced_on': u'2014-11-19', u'funding_ty...</td>\n",
       "      <td>[{u'city': u'Junction City', u'country': u'Uni...</td>\n",
       "      <td>[]</td>\n",
       "      <td>[]</td>\n",
       "      <td>[{u'city': u'Junction City', u'country': u'Uni...</td>\n",
       "      <td>Hotel opportunity: Selling 50% equity for $1M,...</td>\n",
       "      <td>[[opportunity, equity, partner, salary, profit...</td>\n",
       "      <td>[[50%]]</td>\n",
       "      <td>False</td>\n",
       "      <td>False</td>\n",
       "      <td>False</td>\n",
       "      <td>False</td>\n",
       "      <td>False</td>\n",
       "      <td>False</td>\n",
       "      <td>False</td>\n",
       "      <td>False</td>\n",
       "      <td>False</td>\n",
       "      <td>False</td>\n",
       "      <td>False</td>\n",
       "      <td>False</td>\n",
       "      <td>False</td>\n",
       "      <td>False</td>\n",
       "      <td>False</td>\n",
       "      <td>False</td>\n",
       "      <td>False</td>\n",
       "      <td>False</td>\n",
       "      <td>False</td>\n",
       "      <td>False</td>\n",
       "      <td>False</td>\n",
       "      <td>False</td>\n",
       "      <td>False</td>\n",
       "      <td>False</td>\n",
       "      <td>False</td>\n",
       "      <td>False</td>\n",
       "      <td>False</td>\n",
       "      <td>False</td>\n",
       "      <td>False</td>\n",
       "      <td>False</td>\n",
       "      <td>False</td>\n",
       "      <td>False</td>\n",
       "      <td>False</td>\n",
       "      <td>False</td>\n",
       "      <td>False</td>\n",
       "      <td>False</td>\n",
       "      <td>...</td>\n",
       "      <td>False</td>\n",
       "      <td>False</td>\n",
       "      <td>False</td>\n",
       "      <td>False</td>\n",
       "      <td>False</td>\n",
       "      <td>False</td>\n",
       "      <td>False</td>\n",
       "      <td>False</td>\n",
       "      <td>False</td>\n",
       "      <td>False</td>\n",
       "      <td>False</td>\n",
       "      <td>False</td>\n",
       "      <td>False</td>\n",
       "      <td>False</td>\n",
       "      <td>False</td>\n",
       "      <td>False</td>\n",
       "      <td>False</td>\n",
       "      <td>False</td>\n",
       "      <td>False</td>\n",
       "      <td>False</td>\n",
       "      <td>False</td>\n",
       "      <td>False</td>\n",
       "      <td>False</td>\n",
       "      <td>False</td>\n",
       "      <td>False</td>\n",
       "      <td>False</td>\n",
       "      <td>False</td>\n",
       "      <td>False</td>\n",
       "      <td>False</td>\n",
       "      <td>False</td>\n",
       "      <td>False</td>\n",
       "      <td>False</td>\n",
       "      <td>False</td>\n",
       "      <td>[2014-11-19 00:00:00]</td>\n",
       "      <td>[50000.0]</td>\n",
       "      <td>1</td>\n",
       "      <td>50000.0</td>\n",
       "      <td>50000</td>\n",
       "      <td>False</td>\n",
       "      <td>False</td>\n",
       "      <td>[]</td>\n",
       "      <td>0</td>\n",
       "      <td>[]</td>\n",
       "      <td>0</td>\n",
       "      <td>0</td>\n",
       "      <td>0</td>\n",
       "      <td>0</td>\n",
       "      <td>2008-08-01</td>\n",
       "      <td>False</td>\n",
       "      <td>0</td>\n",
       "    </tr>\n",
       "    <tr>\n",
       "      <th>carnegie-robotics</th>\n",
       "      <td>[]</td>\n",
       "      <td>[]</td>\n",
       "      <td>[]</td>\n",
       "      <td>[{u'name': u'Manufacturing'}]</td>\n",
       "      <td>[]</td>\n",
       "      <td>[]</td>\n",
       "      <td>[{u'announced_on': u'2010-08-24', u'funding_ty...</td>\n",
       "      <td>[{u'city': u'Pittsburgh', u'country': u'United...</td>\n",
       "      <td>[]</td>\n",
       "      <td>[]</td>\n",
       "      <td>[{u'city': u'Pittsburgh', u'country': u'United...</td>\n",
       "      <td>Carnegie Robotics builds reliable robotics pro...</td>\n",
       "      <td>[[robotic, product, sensor, productivity, reli...</td>\n",
       "      <td>[[reliable, smart]]</td>\n",
       "      <td>False</td>\n",
       "      <td>False</td>\n",
       "      <td>False</td>\n",
       "      <td>False</td>\n",
       "      <td>False</td>\n",
       "      <td>False</td>\n",
       "      <td>False</td>\n",
       "      <td>False</td>\n",
       "      <td>False</td>\n",
       "      <td>False</td>\n",
       "      <td>False</td>\n",
       "      <td>False</td>\n",
       "      <td>False</td>\n",
       "      <td>False</td>\n",
       "      <td>False</td>\n",
       "      <td>False</td>\n",
       "      <td>False</td>\n",
       "      <td>False</td>\n",
       "      <td>False</td>\n",
       "      <td>False</td>\n",
       "      <td>False</td>\n",
       "      <td>False</td>\n",
       "      <td>False</td>\n",
       "      <td>False</td>\n",
       "      <td>False</td>\n",
       "      <td>False</td>\n",
       "      <td>False</td>\n",
       "      <td>False</td>\n",
       "      <td>False</td>\n",
       "      <td>False</td>\n",
       "      <td>False</td>\n",
       "      <td>False</td>\n",
       "      <td>False</td>\n",
       "      <td>False</td>\n",
       "      <td>False</td>\n",
       "      <td>False</td>\n",
       "      <td>...</td>\n",
       "      <td>False</td>\n",
       "      <td>False</td>\n",
       "      <td>False</td>\n",
       "      <td>False</td>\n",
       "      <td>False</td>\n",
       "      <td>False</td>\n",
       "      <td>False</td>\n",
       "      <td>False</td>\n",
       "      <td>False</td>\n",
       "      <td>False</td>\n",
       "      <td>False</td>\n",
       "      <td>False</td>\n",
       "      <td>False</td>\n",
       "      <td>False</td>\n",
       "      <td>False</td>\n",
       "      <td>False</td>\n",
       "      <td>False</td>\n",
       "      <td>False</td>\n",
       "      <td>False</td>\n",
       "      <td>False</td>\n",
       "      <td>False</td>\n",
       "      <td>False</td>\n",
       "      <td>False</td>\n",
       "      <td>False</td>\n",
       "      <td>False</td>\n",
       "      <td>False</td>\n",
       "      <td>False</td>\n",
       "      <td>False</td>\n",
       "      <td>False</td>\n",
       "      <td>False</td>\n",
       "      <td>False</td>\n",
       "      <td>False</td>\n",
       "      <td>False</td>\n",
       "      <td>[2010-08-24 00:00:00]</td>\n",
       "      <td>[594000.0]</td>\n",
       "      <td>1</td>\n",
       "      <td>594000.0</td>\n",
       "      <td>594000</td>\n",
       "      <td>False</td>\n",
       "      <td>False</td>\n",
       "      <td>[]</td>\n",
       "      <td>0</td>\n",
       "      <td>[]</td>\n",
       "      <td>0</td>\n",
       "      <td>0</td>\n",
       "      <td>0</td>\n",
       "      <td>0</td>\n",
       "      <td>2010-01-01</td>\n",
       "      <td>False</td>\n",
       "      <td>0</td>\n",
       "    </tr>\n",
       "    <tr>\n",
       "      <th>magnetic</th>\n",
       "      <td>[]</td>\n",
       "      <td>[{u'announced_on': u'2014-05-28'}, {u'announce...</td>\n",
       "      <td>[{u'bio': u'Named one of the top 8 up and comi...</td>\n",
       "      <td>[{u'name': u'Advertising'}, {u'name': u'Ad Tar...</td>\n",
       "      <td>[]</td>\n",
       "      <td>[{u'bio': None, u'permalink': u'josh-shatkin-m...</td>\n",
       "      <td>[{u'announced_on': u'2009-03-16', u'funding_ty...</td>\n",
       "      <td>[{u'city': u'New York', u'country': u'United S...</td>\n",
       "      <td>[{u'bio': u'Jason Finger is a co-founder and w...</td>\n",
       "      <td>[]</td>\n",
       "      <td>[{u'city': u'Santa Monica', u'country': u'Unit...</td>\n",
       "      <td>Magnetic is a search retargeting company that ...</td>\n",
       "      <td>[[search, company, consumer, display, ad, sear...</td>\n",
       "      <td>[[magnetic, relevant]]</td>\n",
       "      <td>False</td>\n",
       "      <td>False</td>\n",
       "      <td>False</td>\n",
       "      <td>False</td>\n",
       "      <td>False</td>\n",
       "      <td>False</td>\n",
       "      <td>False</td>\n",
       "      <td>False</td>\n",
       "      <td>False</td>\n",
       "      <td>False</td>\n",
       "      <td>False</td>\n",
       "      <td>False</td>\n",
       "      <td>False</td>\n",
       "      <td>False</td>\n",
       "      <td>False</td>\n",
       "      <td>False</td>\n",
       "      <td>False</td>\n",
       "      <td>False</td>\n",
       "      <td>False</td>\n",
       "      <td>False</td>\n",
       "      <td>False</td>\n",
       "      <td>False</td>\n",
       "      <td>False</td>\n",
       "      <td>False</td>\n",
       "      <td>False</td>\n",
       "      <td>False</td>\n",
       "      <td>False</td>\n",
       "      <td>False</td>\n",
       "      <td>False</td>\n",
       "      <td>False</td>\n",
       "      <td>False</td>\n",
       "      <td>False</td>\n",
       "      <td>False</td>\n",
       "      <td>False</td>\n",
       "      <td>False</td>\n",
       "      <td>False</td>\n",
       "      <td>...</td>\n",
       "      <td>False</td>\n",
       "      <td>False</td>\n",
       "      <td>False</td>\n",
       "      <td>False</td>\n",
       "      <td>False</td>\n",
       "      <td>False</td>\n",
       "      <td>False</td>\n",
       "      <td>False</td>\n",
       "      <td>False</td>\n",
       "      <td>False</td>\n",
       "      <td>False</td>\n",
       "      <td>False</td>\n",
       "      <td>False</td>\n",
       "      <td>False</td>\n",
       "      <td>False</td>\n",
       "      <td>False</td>\n",
       "      <td>False</td>\n",
       "      <td>False</td>\n",
       "      <td>False</td>\n",
       "      <td>False</td>\n",
       "      <td>False</td>\n",
       "      <td>False</td>\n",
       "      <td>False</td>\n",
       "      <td>False</td>\n",
       "      <td>False</td>\n",
       "      <td>False</td>\n",
       "      <td>False</td>\n",
       "      <td>False</td>\n",
       "      <td>False</td>\n",
       "      <td>False</td>\n",
       "      <td>False</td>\n",
       "      <td>False</td>\n",
       "      <td>False</td>\n",
       "      <td>[2009-03-16 00:00:00, 2012-06-07 00:00:00, 201...</td>\n",
       "      <td>[1250000.0, 10000000.0, 4000000.0, 25000000.0]</td>\n",
       "      <td>4</td>\n",
       "      <td>10062500.0</td>\n",
       "      <td>40250000</td>\n",
       "      <td>False</td>\n",
       "      <td>False</td>\n",
       "      <td>[josh-shatkin-margolis]</td>\n",
       "      <td>1</td>\n",
       "      <td>[]</td>\n",
       "      <td>0</td>\n",
       "      <td>0</td>\n",
       "      <td>3</td>\n",
       "      <td>4</td>\n",
       "      <td>2008-01-01</td>\n",
       "      <td>True</td>\n",
       "      <td>1</td>\n",
       "    </tr>\n",
       "    <tr>\n",
       "      <th>rebounces</th>\n",
       "      <td>[]</td>\n",
       "      <td>[]</td>\n",
       "      <td>[]</td>\n",
       "      <td>[{u'name': u'Sports'}]</td>\n",
       "      <td>[]</td>\n",
       "      <td>[]</td>\n",
       "      <td>[{u'announced_on': u'2010-05-20', u'funding_ty...</td>\n",
       "      <td>[{u'city': u'Harrison', u'country': u'United S...</td>\n",
       "      <td>[]</td>\n",
       "      <td>[]</td>\n",
       "      <td>[{u'city': u'Harrison', u'country': u'United S...</td>\n",
       "      <td>reBounces has developed, patented and sold the...</td>\n",
       "      <td>[[rebounce, cost, solution, tennis, ball]]</td>\n",
       "      <td>[[patented, effective, bulk]]</td>\n",
       "      <td>False</td>\n",
       "      <td>False</td>\n",
       "      <td>False</td>\n",
       "      <td>False</td>\n",
       "      <td>False</td>\n",
       "      <td>False</td>\n",
       "      <td>False</td>\n",
       "      <td>False</td>\n",
       "      <td>False</td>\n",
       "      <td>False</td>\n",
       "      <td>False</td>\n",
       "      <td>False</td>\n",
       "      <td>False</td>\n",
       "      <td>False</td>\n",
       "      <td>False</td>\n",
       "      <td>False</td>\n",
       "      <td>False</td>\n",
       "      <td>False</td>\n",
       "      <td>False</td>\n",
       "      <td>False</td>\n",
       "      <td>False</td>\n",
       "      <td>False</td>\n",
       "      <td>False</td>\n",
       "      <td>False</td>\n",
       "      <td>False</td>\n",
       "      <td>False</td>\n",
       "      <td>False</td>\n",
       "      <td>False</td>\n",
       "      <td>False</td>\n",
       "      <td>False</td>\n",
       "      <td>False</td>\n",
       "      <td>False</td>\n",
       "      <td>False</td>\n",
       "      <td>False</td>\n",
       "      <td>False</td>\n",
       "      <td>False</td>\n",
       "      <td>...</td>\n",
       "      <td>False</td>\n",
       "      <td>False</td>\n",
       "      <td>False</td>\n",
       "      <td>False</td>\n",
       "      <td>False</td>\n",
       "      <td>False</td>\n",
       "      <td>False</td>\n",
       "      <td>False</td>\n",
       "      <td>False</td>\n",
       "      <td>False</td>\n",
       "      <td>False</td>\n",
       "      <td>False</td>\n",
       "      <td>False</td>\n",
       "      <td>False</td>\n",
       "      <td>False</td>\n",
       "      <td>False</td>\n",
       "      <td>False</td>\n",
       "      <td>False</td>\n",
       "      <td>False</td>\n",
       "      <td>False</td>\n",
       "      <td>False</td>\n",
       "      <td>False</td>\n",
       "      <td>False</td>\n",
       "      <td>False</td>\n",
       "      <td>False</td>\n",
       "      <td>False</td>\n",
       "      <td>False</td>\n",
       "      <td>False</td>\n",
       "      <td>False</td>\n",
       "      <td>False</td>\n",
       "      <td>False</td>\n",
       "      <td>False</td>\n",
       "      <td>False</td>\n",
       "      <td>[2010-05-20 00:00:00]</td>\n",
       "      <td>[0]</td>\n",
       "      <td>1</td>\n",
       "      <td>0.0</td>\n",
       "      <td>0</td>\n",
       "      <td>False</td>\n",
       "      <td>False</td>\n",
       "      <td>[]</td>\n",
       "      <td>0</td>\n",
       "      <td>[]</td>\n",
       "      <td>0</td>\n",
       "      <td>0</td>\n",
       "      <td>0</td>\n",
       "      <td>0</td>\n",
       "      <td>2008-09-01</td>\n",
       "      <td>False</td>\n",
       "      <td>0</td>\n",
       "    </tr>\n",
       "    <tr>\n",
       "      <th>fantasy-shopper</th>\n",
       "      <td>[]</td>\n",
       "      <td>[]</td>\n",
       "      <td>[]</td>\n",
       "      <td>[{u'name': u'Fashion'}, {u'name': u'Social Med...</td>\n",
       "      <td>[{u'permalink': u'boutiques-com'}, {u'permalin...</td>\n",
       "      <td>[{u'bio': None, u'permalink': u'chris-prescott...</td>\n",
       "      <td>[{u'announced_on': u'2012-01-23', u'funding_ty...</td>\n",
       "      <td>[{u'city': u'Exeter', u'country': u'United Kin...</td>\n",
       "      <td>[{u'permalink': u'new-enterprise-associates'},...</td>\n",
       "      <td>[]</td>\n",
       "      <td>[{u'city': u'Exeter', u'country': u'United Kin...</td>\n",
       "      <td>Fantasy Shopper is an entertainment-based soci...</td>\n",
       "      <td>[[shopping, platform, fashion, retailer]]</td>\n",
       "      <td>[[entertainment-based, social, online, offline]]</td>\n",
       "      <td>False</td>\n",
       "      <td>False</td>\n",
       "      <td>False</td>\n",
       "      <td>False</td>\n",
       "      <td>False</td>\n",
       "      <td>False</td>\n",
       "      <td>False</td>\n",
       "      <td>False</td>\n",
       "      <td>False</td>\n",
       "      <td>False</td>\n",
       "      <td>False</td>\n",
       "      <td>False</td>\n",
       "      <td>False</td>\n",
       "      <td>False</td>\n",
       "      <td>False</td>\n",
       "      <td>False</td>\n",
       "      <td>False</td>\n",
       "      <td>False</td>\n",
       "      <td>False</td>\n",
       "      <td>False</td>\n",
       "      <td>False</td>\n",
       "      <td>False</td>\n",
       "      <td>False</td>\n",
       "      <td>False</td>\n",
       "      <td>False</td>\n",
       "      <td>False</td>\n",
       "      <td>False</td>\n",
       "      <td>False</td>\n",
       "      <td>False</td>\n",
       "      <td>False</td>\n",
       "      <td>False</td>\n",
       "      <td>False</td>\n",
       "      <td>False</td>\n",
       "      <td>False</td>\n",
       "      <td>False</td>\n",
       "      <td>False</td>\n",
       "      <td>...</td>\n",
       "      <td>False</td>\n",
       "      <td>False</td>\n",
       "      <td>False</td>\n",
       "      <td>False</td>\n",
       "      <td>False</td>\n",
       "      <td>False</td>\n",
       "      <td>False</td>\n",
       "      <td>False</td>\n",
       "      <td>False</td>\n",
       "      <td>False</td>\n",
       "      <td>False</td>\n",
       "      <td>False</td>\n",
       "      <td>False</td>\n",
       "      <td>False</td>\n",
       "      <td>False</td>\n",
       "      <td>False</td>\n",
       "      <td>False</td>\n",
       "      <td>False</td>\n",
       "      <td>False</td>\n",
       "      <td>False</td>\n",
       "      <td>False</td>\n",
       "      <td>False</td>\n",
       "      <td>False</td>\n",
       "      <td>False</td>\n",
       "      <td>False</td>\n",
       "      <td>False</td>\n",
       "      <td>False</td>\n",
       "      <td>False</td>\n",
       "      <td>False</td>\n",
       "      <td>False</td>\n",
       "      <td>False</td>\n",
       "      <td>False</td>\n",
       "      <td>False</td>\n",
       "      <td>[2012-01-23 00:00:00, 2010-12-09 00:00:00]</td>\n",
       "      <td>[3300000.0, 263271.0]</td>\n",
       "      <td>2</td>\n",
       "      <td>1781635.5</td>\n",
       "      <td>3563271</td>\n",
       "      <td>False</td>\n",
       "      <td>False</td>\n",
       "      <td>[chris-prescott, daniel-noz]</td>\n",
       "      <td>2</td>\n",
       "      <td>[]</td>\n",
       "      <td>0</td>\n",
       "      <td>6</td>\n",
       "      <td>0</td>\n",
       "      <td>0</td>\n",
       "      <td>2010-11-01</td>\n",
       "      <td>False</td>\n",
       "      <td>0</td>\n",
       "    </tr>\n",
       "  </tbody>\n",
       "</table>\n",
       "<p>5 rows × 4081 columns</p>\n",
       "</div>"
      ],
      "text/plain": [
       "                  acquired_by                                       acquisitions                         board_members_and_advisors                                         categories                                        competitors                                           founders                                     funding_rounds                                       headquarters                                          investors ipo                                            offices  \\\n",
       "express-inn-hotel          []                                                 []                                                 []                        [{u'name': u'Real Estate'}]                                                 []                                                 []  [{u'announced_on': u'2014-11-19', u'funding_ty...  [{u'city': u'Junction City', u'country': u'Uni...                                                 []  []  [{u'city': u'Junction City', u'country': u'Uni...   \n",
       "carnegie-robotics          []                                                 []                                                 []                      [{u'name': u'Manufacturing'}]                                                 []                                                 []  [{u'announced_on': u'2010-08-24', u'funding_ty...  [{u'city': u'Pittsburgh', u'country': u'United...                                                 []  []  [{u'city': u'Pittsburgh', u'country': u'United...   \n",
       "magnetic                   []  [{u'announced_on': u'2014-05-28'}, {u'announce...  [{u'bio': u'Named one of the top 8 up and comi...  [{u'name': u'Advertising'}, {u'name': u'Ad Tar...                                                 []  [{u'bio': None, u'permalink': u'josh-shatkin-m...  [{u'announced_on': u'2009-03-16', u'funding_ty...  [{u'city': u'New York', u'country': u'United S...  [{u'bio': u'Jason Finger is a co-founder and w...  []  [{u'city': u'Santa Monica', u'country': u'Unit...   \n",
       "rebounces                  []                                                 []                                                 []                             [{u'name': u'Sports'}]                                                 []                                                 []  [{u'announced_on': u'2010-05-20', u'funding_ty...  [{u'city': u'Harrison', u'country': u'United S...                                                 []  []  [{u'city': u'Harrison', u'country': u'United S...   \n",
       "fantasy-shopper            []                                                 []                                                 []  [{u'name': u'Fashion'}, {u'name': u'Social Med...  [{u'permalink': u'boutiques-com'}, {u'permalin...  [{u'bio': None, u'permalink': u'chris-prescott...  [{u'announced_on': u'2012-01-23', u'funding_ty...  [{u'city': u'Exeter', u'country': u'United Kin...  [{u'permalink': u'new-enterprise-associates'},...  []  [{u'city': u'Exeter', u'country': u'United Kin...   \n",
       "\n",
       "                                                   short_description                                         text_nouns                                   text_adjectives c_Marketplaces_i c_Veterinary_i c_Crowdsourcing_i c_Data Privacy_i c_B2B_i c_Event Management_i c_Health and Insurance_i c_Crowdfunding_i c_Performance Marketing_i c_Incentives_i c_Social Television_i c_Communications Infrastructure_i c_Collaborative Consumption_i c_Lighting_i c_Virtual Currency_i c_Tourism_i  \\\n",
       "express-inn-hotel  Hotel opportunity: Selling 50% equity for $1M,...  [[opportunity, equity, partner, salary, profit...                                           [[50%]]            False          False             False            False   False                False                    False            False                     False          False                 False                             False                         False        False                False       False   \n",
       "carnegie-robotics  Carnegie Robotics builds reliable robotics pro...  [[robotic, product, sensor, productivity, reli...                               [[reliable, smart]]            False          False             False            False   False                False                    False            False                     False          False                 False                             False                         False        False                False       False   \n",
       "magnetic           Magnetic is a search retargeting company that ...  [[search, company, consumer, display, ad, sear...                            [[magnetic, relevant]]            False          False             False            False   False                False                    False            False                     False          False                 False                             False                         False        False                False       False   \n",
       "rebounces          reBounces has developed, patented and sold the...         [[rebounce, cost, solution, tennis, ball]]                     [[patented, effective, bulk]]            False          False             False            False   False                False                    False            False                     False          False                 False                             False                         False        False                False       False   \n",
       "fantasy-shopper    Fantasy Shopper is an entertainment-based soci...          [[shopping, platform, fashion, retailer]]  [[entertainment-based, social, online, offline]]            False          False             False            False   False                False                    False            False                     False          False                 False                             False                         False        False                False       False   \n",
       "\n",
       "                  c_Cloud Data Services_i c_Training_i c_Knowledge Management_i c_Social Media Marketing_i c_Sensors_i c_Restaurants_i c_Interface Design_i c_Portals_i c_Independent Music Labels_i c_Customer Support Tools_i c_Reviews and Recommendations_i c_Water Purification_i c_Flash Storage_i c_SNS_i c_Peer-to-Peer_i c_Telecommunications_i c_Ticketing_i c_Freelancers_i c_Video Streaming_i c_Lead Management_i   ...   country_The Netherlands_i country_Cayman Islands_i country_Denmark_i  \\\n",
       "express-inn-hotel                   False        False                    False                      False       False           False                False       False                        False                      False                           False                  False             False   False            False                  False         False           False               False               False   ...                       False                    False             False   \n",
       "carnegie-robotics                   False        False                    False                      False       False           False                False       False                        False                      False                           False                  False             False   False            False                  False         False           False               False               False   ...                       False                    False             False   \n",
       "magnetic                            False        False                    False                      False       False           False                False       False                        False                      False                           False                  False             False   False            False                  False         False           False               False               False   ...                       False                    False             False   \n",
       "rebounces                           False        False                    False                      False       False           False                False       False                        False                      False                           False                  False             False   False            False                  False         False           False               False               False   ...                       False                    False             False   \n",
       "fantasy-shopper                     False        False                    False                      False       False           False                False       False                        False                      False                           False                  False             False   False            False                  False         False           False               False               False   ...                       False                    False             False   \n",
       "\n",
       "                  country_Poland_i country_Finland_i country_Mexico_i country_Moldova_i country_United States_i country_Russian Federation_i country_Sweden_i country_Latvia_i country_Thailand_i country_Switzerland_i country_Belarus_i country_New Zealand_i country_Brazil_i country_Mauritius_i country_Romania_i country_Portugal_i country_Estonia_i country_South Africa_i country_Egypt_i country_United Arab Emirates_i country_Uruguay_i country_Lebanon_i country_Peru_i country_United Kingdom_i  \\\n",
       "express-inn-hotel            False             False            False             False                   False                        False            False            False              False                 False             False                 False            False               False             False              False             False                  False           False                          False             False             False          False                    False   \n",
       "carnegie-robotics            False             False            False             False                   False                        False            False            False              False                 False             False                 False            False               False             False              False             False                  False           False                          False             False             False          False                    False   \n",
       "magnetic                     False             False            False             False                   False                        False            False            False              False                 False             False                 False            False               False             False              False             False                  False           False                          False             False             False          False                    False   \n",
       "rebounces                    False             False            False             False                   False                        False            False            False              False                 False             False                 False            False               False             False              False             False                  False           False                          False             False             False          False                    False   \n",
       "fantasy-shopper              False             False            False             False                   False                        False            False            False              False                 False             False                 False            False               False             False              False             False                  False           False                          False             False             False          False                    False   \n",
       "\n",
       "                  country_Malaysia_i country_Austria_i country_Vietnam_i country_Greece_i country_Japan_i country_South Korea_i                                      funding_dates                                 funding_amounts num_funding_rounds funding_mean funding_total went_ipo was_acquired                 founder_names num_founders founder_ages founder_ages_mean num_competitors num_acquisitions num_board_members_and_advisors month_founded at_least_3_funding_rounds success  \n",
       "express-inn-hotel              False             False             False            False           False                 False                              [2014-11-19 00:00:00]                                       [50000.0]                  1      50000.0         50000    False        False                            []            0           []                 0               0                0                              0    2008-08-01                     False       0  \n",
       "carnegie-robotics              False             False             False            False           False                 False                              [2010-08-24 00:00:00]                                      [594000.0]                  1     594000.0        594000    False        False                            []            0           []                 0               0                0                              0    2010-01-01                     False       0  \n",
       "magnetic                       False             False             False            False           False                 False  [2009-03-16 00:00:00, 2012-06-07 00:00:00, 201...  [1250000.0, 10000000.0, 4000000.0, 25000000.0]                  4   10062500.0      40250000    False        False       [josh-shatkin-margolis]            1           []                 0               0                3                              4    2008-01-01                      True       1  \n",
       "rebounces                      False             False             False            False           False                 False                              [2010-05-20 00:00:00]                                             [0]                  1          0.0             0    False        False                            []            0           []                 0               0                0                              0    2008-09-01                     False       0  \n",
       "fantasy-shopper                False             False             False            False           False                 False         [2012-01-23 00:00:00, 2010-12-09 00:00:00]                           [3300000.0, 263271.0]                  2    1781635.5       3563271    False        False  [chris-prescott, daniel-noz]            2           []                 0               6                0                              0    2010-11-01                     False       0  \n",
       "\n",
       "[5 rows x 4081 columns]"
      ]
     },
     "execution_count": 278,
     "metadata": {},
     "output_type": "execute_result"
    }
   ],
   "source": [
    "df.head()"
   ]
  },
  {
   "cell_type": "code",
   "execution_count": 279,
   "metadata": {
    "collapsed": false
   },
   "outputs": [
    {
     "name": "stdout",
     "output_type": "stream",
     "text": [
      "<class 'pandas.core.frame.DataFrame'>\n",
      "Index: 2000 entries, express-inn-hotel to celonova\n",
      "Columns: 4081 entries, acquired_by to success\n",
      "dtypes: bool(4053), datetime64[ns](1), float64(3), int64(6), object(18)\n",
      "memory usage: 8.2+ MB\n"
     ]
    }
   ],
   "source": [
    "df.info()"
   ]
  },
  {
   "cell_type": "markdown",
   "metadata": {},
   "source": [
    "Ways to improve our cleaning:\n",
    "* Imputation of the missing value based on the neighborhood: right now we set the missing value to None (and so False in the indicator) maybe we could impute them based on the average value among all the data or among the closest entries.\n",
    "* We are not considering the short-description. We could try to extract from them the meaningful words (same for the bio, for instance the background of the person)"
   ]
  },
  {
   "cell_type": "markdown",
   "metadata": {},
   "source": [
    "# EDA"
   ]
  },
  {
   "cell_type": "markdown",
   "metadata": {},
   "source": [
    "To begin our exploratory data analysis, let's first take a look at how many companies match each of our different success metrics."
   ]
  },
  {
   "cell_type": "code",
   "execution_count": 257,
   "metadata": {
    "collapsed": false
   },
   "outputs": [
    {
     "name": "stdout",
     "output_type": "stream",
     "text": [
      "Number of companies that were acquired: 301\n",
      "Number of companies with at least 1 funding round: 1939\n",
      "Number of companies that IPOed: 148\n"
     ]
    }
   ],
   "source": [
    "# The number of rows of companies in our 1000 sample that were acquired\n",
    "print \"Number of companies that were acquired: %s\" % len(df[df.was_acquired == True])\n",
    "print \"Number of companies with at least 1 funding round: %s\" % len(df[df.num_funding_rounds > 0])\n",
    "print \"Number of companies that IPOed: %s\" % len(df[df.went_ipo == True])"
   ]
  },
  {
   "cell_type": "markdown",
   "metadata": {
    "collapsed": true
   },
   "source": [
    "Clearly Acquired and IPOed are good indicators, but funding rounds appears to be a prerequiste to making it into the CrunchBase system.  Perhaps we can more discerning in determining which companies that raised funds are considered succesful, maybe a specific amount or number of rounds.  \n",
    "\n",
    "Let's take a closer look at funding rounds, specifically total amount raised:"
   ]
  },
  {
   "cell_type": "code",
   "execution_count": 258,
   "metadata": {
    "collapsed": false
   },
   "outputs": [
    {
     "data": {
      "image/png": "[encoded data removed]",
      "text/plain": [
       "<matplotlib.figure.Figure at 0x11e2b04d0>"
      ]
     },
     "metadata": {},
     "output_type": "display_data"
    },
    {
     "data": {
      "image/png": "[encoded data removed]",
      "text/plain": [
       "<matplotlib.figure.Figure at 0x11e289f10>"
      ]
     },
     "metadata": {},
     "output_type": "display_data"
    }
   ],
   "source": [
    "plt.hist(df.funding_total)\n",
    "plt.title('Total Amount Raised per Company (All Companies)')\n",
    "plt.xlabel('Total Amount Raised')\n",
    "plt.ylabel('Number of Companies')\n",
    "plt.show()\n",
    "\n",
    "plt.xlim(0,2000000)\n",
    "plt.hist(df.funding_total, bins=10000)\n",
    "plt.title('Total Amount Raised per Company (Zoomed In)')\n",
    "plt.xlabel('Total Amount Raised')\n",
    "plt.ylabel('Number of Companies')\n",
    "plt.show()"
   ]
  },
  {
   "cell_type": "markdown",
   "metadata": {},
   "source": [
    "The majority of companies raised less than $500,000.  The amount of companies that raised a given amount very quickly drops off and goes into a long, sparse tail.  However, since this data is normally private, lots of rounds are missing their amounts.  We need to keep that in mind as we progress with our analysis.  \n",
    "\n",
    "Let's take a look at the number of rounds each company raised:"
   ]
  },
  {
   "cell_type": "code",
   "execution_count": 268,
   "metadata": {
    "collapsed": false
   },
   "outputs": [
    {
     "data": {
      "image/png": "[encoded data removed]",
      "text/plain": [
       "<matplotlib.figure.Figure at 0x112df9bd0>"
      ]
     },
     "metadata": {},
     "output_type": "display_data"
    }
   ],
   "source": [
    "plt.hist(df.num_funding_rounds, bins=11)\n",
    "plt.title('Number of Funding Rounds per Company')\n",
    "plt.xlabel('Number of Funding Rounds')\n",
    "plt.ylabel('Number of Companies')\n",
    "plt.show()"
   ]
  },
  {
   "cell_type": "markdown",
   "metadata": {},
   "source": [
    "Again, we see that most companies are clustered near the bottom of our range with 0, 1, or 2 rounds raised.  3 or more rounds raised is not very common.  Perhaps we can use that as an indicator of success, seeing as how it appears to be less sparse than the total amount raised column.  Perhaps this is due to the prevalence of companies and investors announcing that they raised a round, but not disclosing the exact amounts of that round.\n",
    "\n",
    "Let's see how many companies out of our 1000 had at least 3 rounds:"
   ]
  },
  {
   "cell_type": "code",
   "execution_count": 280,
   "metadata": {
    "collapsed": false
   },
   "outputs": [
    {
     "name": "stdout",
     "output_type": "stream",
     "text": [
      "Number of companies that raised at least 3 rounds: 307\n"
     ]
    }
   ],
   "source": [
    "print \"Number of companies that raised at least 3 rounds: %s\" % len(df[df.funding_amounts.map(lambda x: len(x) >= 4)])"
   ]
  },
  {
   "cell_type": "markdown",
   "metadata": {},
   "source": [
    "That looks like a good number.  Let's add that as an indicator column to the dataframe, and see how many companies fall into one of our three indicator columns (Acquired, IPOed, > 3 Rounds Raised) now:"
   ]
  },
  {
   "cell_type": "code",
   "execution_count": 281,
   "metadata": {
    "collapsed": true
   },
   "outputs": [],
   "source": [
    "df['at_least_3_funding_rounds']=df.funding_amounts.map(lambda x: len(x) >= 4)"
   ]
  },
  {
   "cell_type": "code",
   "execution_count": 282,
   "metadata": {
    "collapsed": false
   },
   "outputs": [
    {
     "name": "stdout",
     "output_type": "stream",
     "text": [
      "Number of companies we consider to be a success: 629\n"
     ]
    }
   ],
   "source": [
    "# Let's count how many companies match at least one of our success criteria:\n",
    "print \"Number of companies we consider to be a success: %s\" % len(df[(df['at_least_3_funding_rounds'] == True) | (df['was_acquired'] == True) | (df['went_ipo'] == True)])\n",
    "\n",
    "df['success'] = ((df['at_least_3_funding_rounds'] == True) | (df['was_acquired'] == True) | (df['went_ipo'] == True))\n",
    "df['success'] = df.success.map(lambda x: 1 if x else 0)"
   ]
  },
  {
   "cell_type": "markdown",
   "metadata": {},
   "source": [
    "So our success rate is around 25.9%. This may seem like a high success rate when compared to [other metrics about start-up success](http://www.forbes.com/sites/neilpatel/2015/01/16/90-of-startups-will-fail-heres-what-you-need-to-know-about-the-10/), but remember that the companies that make it into CrunchBase are already quite a selective bunch.  As we saw above, most companies in CrunchBase have already raised at least 1 round, so 25% may not seem that high, considering this is already a pretty select crowd of companies."
   ]
  },
  {
   "cell_type": "markdown",
   "metadata": {},
   "source": [
    "### Split the data"
   ]
  },
  {
   "cell_type": "markdown",
   "metadata": {},
   "source": [
    "We'll finish the data cleaning and list the features we don't really need (if we retrieve more data from the API, it will save us time).\n",
    "\n",
    "Let's split our dataset into training, validation and testing sets.  We need to clean up the columns first and separate the success column from the rest of the data.  We'll also, remove any columns that the success column is dependent on (went_ipo, was_acquired, etc....). \n",
    "\n",
    "Then we'll split out the testing data from the training data.  \n",
    "// NOT SURE IF WE DO THIS // We'll then perform a second split on the training data to get the validation data."
   ]
  },
  {
   "cell_type": "code",
   "execution_count": 283,
   "metadata": {
    "collapsed": false
   },
   "outputs": [],
   "source": [
    "# Usable for the Data scrapping part\n",
    "features_with_only_nan = ['investments', 'owned_by']"
   ]
  },
  {
   "cell_type": "code",
   "execution_count": 284,
   "metadata": {
    "collapsed": false
   },
   "outputs": [
    {
     "name": "stdout",
     "output_type": "stream",
     "text": [
      "(2000, 4055)\n",
      "(2000,)\n"
     ]
    },
    {
     "data": {
      "text/html": [
       "<div>\n",
       "<table border=\"1\" class=\"dataframe\">\n",
       "  <thead>\n",
       "    <tr style=\"text-align: right;\">\n",
       "      <th></th>\n",
       "      <th>c_Marketplaces_i</th>\n",
       "      <th>c_Veterinary_i</th>\n",
       "      <th>c_Crowdsourcing_i</th>\n",
       "      <th>c_Data Privacy_i</th>\n",
       "      <th>c_B2B_i</th>\n",
       "      <th>c_Event Management_i</th>\n",
       "      <th>c_Health and Insurance_i</th>\n",
       "      <th>c_Crowdfunding_i</th>\n",
       "      <th>c_Performance Marketing_i</th>\n",
       "      <th>c_Incentives_i</th>\n",
       "      <th>c_Social Television_i</th>\n",
       "      <th>c_Communications Infrastructure_i</th>\n",
       "      <th>c_Collaborative Consumption_i</th>\n",
       "      <th>c_Lighting_i</th>\n",
       "      <th>c_Virtual Currency_i</th>\n",
       "      <th>c_Tourism_i</th>\n",
       "      <th>c_Cloud Data Services_i</th>\n",
       "      <th>c_Training_i</th>\n",
       "      <th>c_Knowledge Management_i</th>\n",
       "      <th>c_Social Media Marketing_i</th>\n",
       "      <th>c_Sensors_i</th>\n",
       "      <th>c_Restaurants_i</th>\n",
       "      <th>c_Interface Design_i</th>\n",
       "      <th>c_Portals_i</th>\n",
       "      <th>c_Independent Music Labels_i</th>\n",
       "      <th>c_Customer Support Tools_i</th>\n",
       "      <th>c_Reviews and Recommendations_i</th>\n",
       "      <th>c_Water Purification_i</th>\n",
       "      <th>c_Flash Storage_i</th>\n",
       "      <th>c_SNS_i</th>\n",
       "      <th>c_Peer-to-Peer_i</th>\n",
       "      <th>c_Telecommunications_i</th>\n",
       "      <th>c_Ticketing_i</th>\n",
       "      <th>c_Freelancers_i</th>\n",
       "      <th>c_Video Streaming_i</th>\n",
       "      <th>c_Lead Management_i</th>\n",
       "      <th>c_Sponsorship_i</th>\n",
       "      <th>c_Mobile Payments_i</th>\n",
       "      <th>c_High Schools_i</th>\n",
       "      <th>c_Meeting Software_i</th>\n",
       "      <th>c_3D_i</th>\n",
       "      <th>c_Delivery_i</th>\n",
       "      <th>c_Automotive_i</th>\n",
       "      <th>c_Collaboration_i</th>\n",
       "      <th>c_Software Compliance_i</th>\n",
       "      <th>c_Intellectual Property_i</th>\n",
       "      <th>c_M2M_i</th>\n",
       "      <th>c_Game_i</th>\n",
       "      <th>c_Information Services_i</th>\n",
       "      <th>c_Proximity Internet_i</th>\n",
       "      <th>...</th>\n",
       "      <th>country_Australia_i</th>\n",
       "      <th>country_Indonesia_i</th>\n",
       "      <th>country_Singapore_i</th>\n",
       "      <th>country_El Salvador_i</th>\n",
       "      <th>country_Iceland_i</th>\n",
       "      <th>country_China_i</th>\n",
       "      <th>country_Chile_i</th>\n",
       "      <th>country_Belgium_i</th>\n",
       "      <th>country_Germany_i</th>\n",
       "      <th>country_Hong Kong_i</th>\n",
       "      <th>country_Philippines_i</th>\n",
       "      <th>country_Spain_i</th>\n",
       "      <th>country_The Netherlands_i</th>\n",
       "      <th>country_Cayman Islands_i</th>\n",
       "      <th>country_Denmark_i</th>\n",
       "      <th>country_Poland_i</th>\n",
       "      <th>country_Finland_i</th>\n",
       "      <th>country_Mexico_i</th>\n",
       "      <th>country_Moldova_i</th>\n",
       "      <th>country_United States_i</th>\n",
       "      <th>country_Russian Federation_i</th>\n",
       "      <th>country_Sweden_i</th>\n",
       "      <th>country_Latvia_i</th>\n",
       "      <th>country_Thailand_i</th>\n",
       "      <th>country_Switzerland_i</th>\n",
       "      <th>country_Belarus_i</th>\n",
       "      <th>country_New Zealand_i</th>\n",
       "      <th>country_Brazil_i</th>\n",
       "      <th>country_Mauritius_i</th>\n",
       "      <th>country_Romania_i</th>\n",
       "      <th>country_Portugal_i</th>\n",
       "      <th>country_Estonia_i</th>\n",
       "      <th>country_South Africa_i</th>\n",
       "      <th>country_Egypt_i</th>\n",
       "      <th>country_United Arab Emirates_i</th>\n",
       "      <th>country_Uruguay_i</th>\n",
       "      <th>country_Lebanon_i</th>\n",
       "      <th>country_Peru_i</th>\n",
       "      <th>country_United Kingdom_i</th>\n",
       "      <th>country_Malaysia_i</th>\n",
       "      <th>country_Austria_i</th>\n",
       "      <th>country_Vietnam_i</th>\n",
       "      <th>country_Greece_i</th>\n",
       "      <th>country_Japan_i</th>\n",
       "      <th>country_South Korea_i</th>\n",
       "      <th>num_founders</th>\n",
       "      <th>founder_ages_mean</th>\n",
       "      <th>num_competitors</th>\n",
       "      <th>num_acquisitions</th>\n",
       "      <th>num_board_members_and_advisors</th>\n",
       "    </tr>\n",
       "  </thead>\n",
       "  <tbody>\n",
       "    <tr>\n",
       "      <th>express-inn-hotel</th>\n",
       "      <td>False</td>\n",
       "      <td>False</td>\n",
       "      <td>False</td>\n",
       "      <td>False</td>\n",
       "      <td>False</td>\n",
       "      <td>False</td>\n",
       "      <td>False</td>\n",
       "      <td>False</td>\n",
       "      <td>False</td>\n",
       "      <td>False</td>\n",
       "      <td>False</td>\n",
       "      <td>False</td>\n",
       "      <td>False</td>\n",
       "      <td>False</td>\n",
       "      <td>False</td>\n",
       "      <td>False</td>\n",
       "      <td>False</td>\n",
       "      <td>False</td>\n",
       "      <td>False</td>\n",
       "      <td>False</td>\n",
       "      <td>False</td>\n",
       "      <td>False</td>\n",
       "      <td>False</td>\n",
       "      <td>False</td>\n",
       "      <td>False</td>\n",
       "      <td>False</td>\n",
       "      <td>False</td>\n",
       "      <td>False</td>\n",
       "      <td>False</td>\n",
       "      <td>False</td>\n",
       "      <td>False</td>\n",
       "      <td>False</td>\n",
       "      <td>False</td>\n",
       "      <td>False</td>\n",
       "      <td>False</td>\n",
       "      <td>False</td>\n",
       "      <td>False</td>\n",
       "      <td>False</td>\n",
       "      <td>False</td>\n",
       "      <td>False</td>\n",
       "      <td>False</td>\n",
       "      <td>False</td>\n",
       "      <td>False</td>\n",
       "      <td>False</td>\n",
       "      <td>False</td>\n",
       "      <td>False</td>\n",
       "      <td>False</td>\n",
       "      <td>False</td>\n",
       "      <td>False</td>\n",
       "      <td>False</td>\n",
       "      <td>...</td>\n",
       "      <td>False</td>\n",
       "      <td>False</td>\n",
       "      <td>False</td>\n",
       "      <td>False</td>\n",
       "      <td>False</td>\n",
       "      <td>False</td>\n",
       "      <td>False</td>\n",
       "      <td>False</td>\n",
       "      <td>False</td>\n",
       "      <td>False</td>\n",
       "      <td>False</td>\n",
       "      <td>False</td>\n",
       "      <td>False</td>\n",
       "      <td>False</td>\n",
       "      <td>False</td>\n",
       "      <td>False</td>\n",
       "      <td>False</td>\n",
       "      <td>False</td>\n",
       "      <td>False</td>\n",
       "      <td>False</td>\n",
       "      <td>False</td>\n",
       "      <td>False</td>\n",
       "      <td>False</td>\n",
       "      <td>False</td>\n",
       "      <td>False</td>\n",
       "      <td>False</td>\n",
       "      <td>False</td>\n",
       "      <td>False</td>\n",
       "      <td>False</td>\n",
       "      <td>False</td>\n",
       "      <td>False</td>\n",
       "      <td>False</td>\n",
       "      <td>False</td>\n",
       "      <td>False</td>\n",
       "      <td>False</td>\n",
       "      <td>False</td>\n",
       "      <td>False</td>\n",
       "      <td>False</td>\n",
       "      <td>False</td>\n",
       "      <td>False</td>\n",
       "      <td>False</td>\n",
       "      <td>False</td>\n",
       "      <td>False</td>\n",
       "      <td>False</td>\n",
       "      <td>False</td>\n",
       "      <td>0</td>\n",
       "      <td>0</td>\n",
       "      <td>0</td>\n",
       "      <td>0</td>\n",
       "      <td>0</td>\n",
       "    </tr>\n",
       "    <tr>\n",
       "      <th>carnegie-robotics</th>\n",
       "      <td>False</td>\n",
       "      <td>False</td>\n",
       "      <td>False</td>\n",
       "      <td>False</td>\n",
       "      <td>False</td>\n",
       "      <td>False</td>\n",
       "      <td>False</td>\n",
       "      <td>False</td>\n",
       "      <td>False</td>\n",
       "      <td>False</td>\n",
       "      <td>False</td>\n",
       "      <td>False</td>\n",
       "      <td>False</td>\n",
       "      <td>False</td>\n",
       "      <td>False</td>\n",
       "      <td>False</td>\n",
       "      <td>False</td>\n",
       "      <td>False</td>\n",
       "      <td>False</td>\n",
       "      <td>False</td>\n",
       "      <td>False</td>\n",
       "      <td>False</td>\n",
       "      <td>False</td>\n",
       "      <td>False</td>\n",
       "      <td>False</td>\n",
       "      <td>False</td>\n",
       "      <td>False</td>\n",
       "      <td>False</td>\n",
       "      <td>False</td>\n",
       "      <td>False</td>\n",
       "      <td>False</td>\n",
       "      <td>False</td>\n",
       "      <td>False</td>\n",
       "      <td>False</td>\n",
       "      <td>False</td>\n",
       "      <td>False</td>\n",
       "      <td>False</td>\n",
       "      <td>False</td>\n",
       "      <td>False</td>\n",
       "      <td>False</td>\n",
       "      <td>False</td>\n",
       "      <td>False</td>\n",
       "      <td>False</td>\n",
       "      <td>False</td>\n",
       "      <td>False</td>\n",
       "      <td>False</td>\n",
       "      <td>False</td>\n",
       "      <td>False</td>\n",
       "      <td>False</td>\n",
       "      <td>False</td>\n",
       "      <td>...</td>\n",
       "      <td>False</td>\n",
       "      <td>False</td>\n",
       "      <td>False</td>\n",
       "      <td>False</td>\n",
       "      <td>False</td>\n",
       "      <td>False</td>\n",
       "      <td>False</td>\n",
       "      <td>False</td>\n",
       "      <td>False</td>\n",
       "      <td>False</td>\n",
       "      <td>False</td>\n",
       "      <td>False</td>\n",
       "      <td>False</td>\n",
       "      <td>False</td>\n",
       "      <td>False</td>\n",
       "      <td>False</td>\n",
       "      <td>False</td>\n",
       "      <td>False</td>\n",
       "      <td>False</td>\n",
       "      <td>False</td>\n",
       "      <td>False</td>\n",
       "      <td>False</td>\n",
       "      <td>False</td>\n",
       "      <td>False</td>\n",
       "      <td>False</td>\n",
       "      <td>False</td>\n",
       "      <td>False</td>\n",
       "      <td>False</td>\n",
       "      <td>False</td>\n",
       "      <td>False</td>\n",
       "      <td>False</td>\n",
       "      <td>False</td>\n",
       "      <td>False</td>\n",
       "      <td>False</td>\n",
       "      <td>False</td>\n",
       "      <td>False</td>\n",
       "      <td>False</td>\n",
       "      <td>False</td>\n",
       "      <td>False</td>\n",
       "      <td>False</td>\n",
       "      <td>False</td>\n",
       "      <td>False</td>\n",
       "      <td>False</td>\n",
       "      <td>False</td>\n",
       "      <td>False</td>\n",
       "      <td>0</td>\n",
       "      <td>0</td>\n",
       "      <td>0</td>\n",
       "      <td>0</td>\n",
       "      <td>0</td>\n",
       "    </tr>\n",
       "    <tr>\n",
       "      <th>magnetic</th>\n",
       "      <td>False</td>\n",
       "      <td>False</td>\n",
       "      <td>False</td>\n",
       "      <td>False</td>\n",
       "      <td>False</td>\n",
       "      <td>False</td>\n",
       "      <td>False</td>\n",
       "      <td>False</td>\n",
       "      <td>False</td>\n",
       "      <td>False</td>\n",
       "      <td>False</td>\n",
       "      <td>False</td>\n",
       "      <td>False</td>\n",
       "      <td>False</td>\n",
       "      <td>False</td>\n",
       "      <td>False</td>\n",
       "      <td>False</td>\n",
       "      <td>False</td>\n",
       "      <td>False</td>\n",
       "      <td>False</td>\n",
       "      <td>False</td>\n",
       "      <td>False</td>\n",
       "      <td>False</td>\n",
       "      <td>False</td>\n",
       "      <td>False</td>\n",
       "      <td>False</td>\n",
       "      <td>False</td>\n",
       "      <td>False</td>\n",
       "      <td>False</td>\n",
       "      <td>False</td>\n",
       "      <td>False</td>\n",
       "      <td>False</td>\n",
       "      <td>False</td>\n",
       "      <td>False</td>\n",
       "      <td>False</td>\n",
       "      <td>False</td>\n",
       "      <td>False</td>\n",
       "      <td>False</td>\n",
       "      <td>False</td>\n",
       "      <td>False</td>\n",
       "      <td>False</td>\n",
       "      <td>False</td>\n",
       "      <td>False</td>\n",
       "      <td>False</td>\n",
       "      <td>False</td>\n",
       "      <td>False</td>\n",
       "      <td>False</td>\n",
       "      <td>False</td>\n",
       "      <td>False</td>\n",
       "      <td>False</td>\n",
       "      <td>...</td>\n",
       "      <td>False</td>\n",
       "      <td>False</td>\n",
       "      <td>False</td>\n",
       "      <td>False</td>\n",
       "      <td>False</td>\n",
       "      <td>False</td>\n",
       "      <td>False</td>\n",
       "      <td>False</td>\n",
       "      <td>False</td>\n",
       "      <td>False</td>\n",
       "      <td>False</td>\n",
       "      <td>False</td>\n",
       "      <td>False</td>\n",
       "      <td>False</td>\n",
       "      <td>False</td>\n",
       "      <td>False</td>\n",
       "      <td>False</td>\n",
       "      <td>False</td>\n",
       "      <td>False</td>\n",
       "      <td>False</td>\n",
       "      <td>False</td>\n",
       "      <td>False</td>\n",
       "      <td>False</td>\n",
       "      <td>False</td>\n",
       "      <td>False</td>\n",
       "      <td>False</td>\n",
       "      <td>False</td>\n",
       "      <td>False</td>\n",
       "      <td>False</td>\n",
       "      <td>False</td>\n",
       "      <td>False</td>\n",
       "      <td>False</td>\n",
       "      <td>False</td>\n",
       "      <td>False</td>\n",
       "      <td>False</td>\n",
       "      <td>False</td>\n",
       "      <td>False</td>\n",
       "      <td>False</td>\n",
       "      <td>False</td>\n",
       "      <td>False</td>\n",
       "      <td>False</td>\n",
       "      <td>False</td>\n",
       "      <td>False</td>\n",
       "      <td>False</td>\n",
       "      <td>False</td>\n",
       "      <td>1</td>\n",
       "      <td>0</td>\n",
       "      <td>0</td>\n",
       "      <td>3</td>\n",
       "      <td>4</td>\n",
       "    </tr>\n",
       "    <tr>\n",
       "      <th>rebounces</th>\n",
       "      <td>False</td>\n",
       "      <td>False</td>\n",
       "      <td>False</td>\n",
       "      <td>False</td>\n",
       "      <td>False</td>\n",
       "      <td>False</td>\n",
       "      <td>False</td>\n",
       "      <td>False</td>\n",
       "      <td>False</td>\n",
       "      <td>False</td>\n",
       "      <td>False</td>\n",
       "      <td>False</td>\n",
       "      <td>False</td>\n",
       "      <td>False</td>\n",
       "      <td>False</td>\n",
       "      <td>False</td>\n",
       "      <td>False</td>\n",
       "      <td>False</td>\n",
       "      <td>False</td>\n",
       "      <td>False</td>\n",
       "      <td>False</td>\n",
       "      <td>False</td>\n",
       "      <td>False</td>\n",
       "      <td>False</td>\n",
       "      <td>False</td>\n",
       "      <td>False</td>\n",
       "      <td>False</td>\n",
       "      <td>False</td>\n",
       "      <td>False</td>\n",
       "      <td>False</td>\n",
       "      <td>False</td>\n",
       "      <td>False</td>\n",
       "      <td>False</td>\n",
       "      <td>False</td>\n",
       "      <td>False</td>\n",
       "      <td>False</td>\n",
       "      <td>False</td>\n",
       "      <td>False</td>\n",
       "      <td>False</td>\n",
       "      <td>False</td>\n",
       "      <td>False</td>\n",
       "      <td>False</td>\n",
       "      <td>False</td>\n",
       "      <td>False</td>\n",
       "      <td>False</td>\n",
       "      <td>False</td>\n",
       "      <td>False</td>\n",
       "      <td>False</td>\n",
       "      <td>False</td>\n",
       "      <td>False</td>\n",
       "      <td>...</td>\n",
       "      <td>False</td>\n",
       "      <td>False</td>\n",
       "      <td>False</td>\n",
       "      <td>False</td>\n",
       "      <td>False</td>\n",
       "      <td>False</td>\n",
       "      <td>False</td>\n",
       "      <td>False</td>\n",
       "      <td>False</td>\n",
       "      <td>False</td>\n",
       "      <td>False</td>\n",
       "      <td>False</td>\n",
       "      <td>False</td>\n",
       "      <td>False</td>\n",
       "      <td>False</td>\n",
       "      <td>False</td>\n",
       "      <td>False</td>\n",
       "      <td>False</td>\n",
       "      <td>False</td>\n",
       "      <td>False</td>\n",
       "      <td>False</td>\n",
       "      <td>False</td>\n",
       "      <td>False</td>\n",
       "      <td>False</td>\n",
       "      <td>False</td>\n",
       "      <td>False</td>\n",
       "      <td>False</td>\n",
       "      <td>False</td>\n",
       "      <td>False</td>\n",
       "      <td>False</td>\n",
       "      <td>False</td>\n",
       "      <td>False</td>\n",
       "      <td>False</td>\n",
       "      <td>False</td>\n",
       "      <td>False</td>\n",
       "      <td>False</td>\n",
       "      <td>False</td>\n",
       "      <td>False</td>\n",
       "      <td>False</td>\n",
       "      <td>False</td>\n",
       "      <td>False</td>\n",
       "      <td>False</td>\n",
       "      <td>False</td>\n",
       "      <td>False</td>\n",
       "      <td>False</td>\n",
       "      <td>0</td>\n",
       "      <td>0</td>\n",
       "      <td>0</td>\n",
       "      <td>0</td>\n",
       "      <td>0</td>\n",
       "    </tr>\n",
       "    <tr>\n",
       "      <th>fantasy-shopper</th>\n",
       "      <td>False</td>\n",
       "      <td>False</td>\n",
       "      <td>False</td>\n",
       "      <td>False</td>\n",
       "      <td>False</td>\n",
       "      <td>False</td>\n",
       "      <td>False</td>\n",
       "      <td>False</td>\n",
       "      <td>False</td>\n",
       "      <td>False</td>\n",
       "      <td>False</td>\n",
       "      <td>False</td>\n",
       "      <td>False</td>\n",
       "      <td>False</td>\n",
       "      <td>False</td>\n",
       "      <td>False</td>\n",
       "      <td>False</td>\n",
       "      <td>False</td>\n",
       "      <td>False</td>\n",
       "      <td>False</td>\n",
       "      <td>False</td>\n",
       "      <td>False</td>\n",
       "      <td>False</td>\n",
       "      <td>False</td>\n",
       "      <td>False</td>\n",
       "      <td>False</td>\n",
       "      <td>False</td>\n",
       "      <td>False</td>\n",
       "      <td>False</td>\n",
       "      <td>False</td>\n",
       "      <td>False</td>\n",
       "      <td>False</td>\n",
       "      <td>False</td>\n",
       "      <td>False</td>\n",
       "      <td>False</td>\n",
       "      <td>False</td>\n",
       "      <td>False</td>\n",
       "      <td>False</td>\n",
       "      <td>False</td>\n",
       "      <td>False</td>\n",
       "      <td>False</td>\n",
       "      <td>False</td>\n",
       "      <td>False</td>\n",
       "      <td>False</td>\n",
       "      <td>False</td>\n",
       "      <td>False</td>\n",
       "      <td>False</td>\n",
       "      <td>False</td>\n",
       "      <td>False</td>\n",
       "      <td>False</td>\n",
       "      <td>...</td>\n",
       "      <td>False</td>\n",
       "      <td>False</td>\n",
       "      <td>False</td>\n",
       "      <td>False</td>\n",
       "      <td>False</td>\n",
       "      <td>False</td>\n",
       "      <td>False</td>\n",
       "      <td>False</td>\n",
       "      <td>False</td>\n",
       "      <td>False</td>\n",
       "      <td>False</td>\n",
       "      <td>False</td>\n",
       "      <td>False</td>\n",
       "      <td>False</td>\n",
       "      <td>False</td>\n",
       "      <td>False</td>\n",
       "      <td>False</td>\n",
       "      <td>False</td>\n",
       "      <td>False</td>\n",
       "      <td>False</td>\n",
       "      <td>False</td>\n",
       "      <td>False</td>\n",
       "      <td>False</td>\n",
       "      <td>False</td>\n",
       "      <td>False</td>\n",
       "      <td>False</td>\n",
       "      <td>False</td>\n",
       "      <td>False</td>\n",
       "      <td>False</td>\n",
       "      <td>False</td>\n",
       "      <td>False</td>\n",
       "      <td>False</td>\n",
       "      <td>False</td>\n",
       "      <td>False</td>\n",
       "      <td>False</td>\n",
       "      <td>False</td>\n",
       "      <td>False</td>\n",
       "      <td>False</td>\n",
       "      <td>False</td>\n",
       "      <td>False</td>\n",
       "      <td>False</td>\n",
       "      <td>False</td>\n",
       "      <td>False</td>\n",
       "      <td>False</td>\n",
       "      <td>False</td>\n",
       "      <td>2</td>\n",
       "      <td>0</td>\n",
       "      <td>6</td>\n",
       "      <td>0</td>\n",
       "      <td>0</td>\n",
       "    </tr>\n",
       "  </tbody>\n",
       "</table>\n",
       "<p>5 rows × 4055 columns</p>\n",
       "</div>"
      ],
      "text/plain": [
       "                  c_Marketplaces_i c_Veterinary_i c_Crowdsourcing_i c_Data Privacy_i c_B2B_i c_Event Management_i c_Health and Insurance_i c_Crowdfunding_i c_Performance Marketing_i c_Incentives_i c_Social Television_i c_Communications Infrastructure_i c_Collaborative Consumption_i c_Lighting_i c_Virtual Currency_i c_Tourism_i c_Cloud Data Services_i c_Training_i c_Knowledge Management_i c_Social Media Marketing_i c_Sensors_i c_Restaurants_i c_Interface Design_i c_Portals_i  \\\n",
       "express-inn-hotel            False          False             False            False   False                False                    False            False                     False          False                 False                             False                         False        False                False       False                   False        False                    False                      False       False           False                False       False   \n",
       "carnegie-robotics            False          False             False            False   False                False                    False            False                     False          False                 False                             False                         False        False                False       False                   False        False                    False                      False       False           False                False       False   \n",
       "magnetic                     False          False             False            False   False                False                    False            False                     False          False                 False                             False                         False        False                False       False                   False        False                    False                      False       False           False                False       False   \n",
       "rebounces                    False          False             False            False   False                False                    False            False                     False          False                 False                             False                         False        False                False       False                   False        False                    False                      False       False           False                False       False   \n",
       "fantasy-shopper              False          False             False            False   False                False                    False            False                     False          False                 False                             False                         False        False                False       False                   False        False                    False                      False       False           False                False       False   \n",
       "\n",
       "                  c_Independent Music Labels_i c_Customer Support Tools_i c_Reviews and Recommendations_i c_Water Purification_i c_Flash Storage_i c_SNS_i c_Peer-to-Peer_i c_Telecommunications_i c_Ticketing_i c_Freelancers_i c_Video Streaming_i c_Lead Management_i c_Sponsorship_i c_Mobile Payments_i c_High Schools_i c_Meeting Software_i c_3D_i c_Delivery_i c_Automotive_i c_Collaboration_i c_Software Compliance_i c_Intellectual Property_i c_M2M_i c_Game_i c_Information Services_i  \\\n",
       "express-inn-hotel                        False                      False                           False                  False             False   False            False                  False         False           False               False               False           False               False            False                False  False        False          False             False                   False                     False   False    False                    False   \n",
       "carnegie-robotics                        False                      False                           False                  False             False   False            False                  False         False           False               False               False           False               False            False                False  False        False          False             False                   False                     False   False    False                    False   \n",
       "magnetic                                 False                      False                           False                  False             False   False            False                  False         False           False               False               False           False               False            False                False  False        False          False             False                   False                     False   False    False                    False   \n",
       "rebounces                                False                      False                           False                  False             False   False            False                  False         False           False               False               False           False               False            False                False  False        False          False             False                   False                     False   False    False                    False   \n",
       "fantasy-shopper                          False                      False                           False                  False             False   False            False                  False         False           False               False               False           False               False            False                False  False        False          False             False                   False                     False   False    False                    False   \n",
       "\n",
       "                  c_Proximity Internet_i              ...               country_Australia_i country_Indonesia_i country_Singapore_i country_El Salvador_i country_Iceland_i country_China_i country_Chile_i country_Belgium_i country_Germany_i country_Hong Kong_i country_Philippines_i country_Spain_i country_The Netherlands_i country_Cayman Islands_i country_Denmark_i country_Poland_i country_Finland_i country_Mexico_i country_Moldova_i country_United States_i country_Russian Federation_i  \\\n",
       "express-inn-hotel                  False              ...                             False               False               False                 False             False           False           False             False             False               False                 False           False                     False                    False             False            False             False            False             False                   False                        False   \n",
       "carnegie-robotics                  False              ...                             False               False               False                 False             False           False           False             False             False               False                 False           False                     False                    False             False            False             False            False             False                   False                        False   \n",
       "magnetic                           False              ...                             False               False               False                 False             False           False           False             False             False               False                 False           False                     False                    False             False            False             False            False             False                   False                        False   \n",
       "rebounces                          False              ...                             False               False               False                 False             False           False           False             False             False               False                 False           False                     False                    False             False            False             False            False             False                   False                        False   \n",
       "fantasy-shopper                    False              ...                             False               False               False                 False             False           False           False             False             False               False                 False           False                     False                    False             False            False             False            False             False                   False                        False   \n",
       "\n",
       "                  country_Sweden_i country_Latvia_i country_Thailand_i country_Switzerland_i country_Belarus_i country_New Zealand_i country_Brazil_i country_Mauritius_i country_Romania_i country_Portugal_i country_Estonia_i country_South Africa_i country_Egypt_i country_United Arab Emirates_i country_Uruguay_i country_Lebanon_i country_Peru_i country_United Kingdom_i country_Malaysia_i country_Austria_i country_Vietnam_i country_Greece_i country_Japan_i country_South Korea_i num_founders  \\\n",
       "express-inn-hotel            False            False              False                 False             False                 False            False               False             False              False             False                  False           False                          False             False             False          False                    False              False             False             False            False           False                 False            0   \n",
       "carnegie-robotics            False            False              False                 False             False                 False            False               False             False              False             False                  False           False                          False             False             False          False                    False              False             False             False            False           False                 False            0   \n",
       "magnetic                     False            False              False                 False             False                 False            False               False             False              False             False                  False           False                          False             False             False          False                    False              False             False             False            False           False                 False            1   \n",
       "rebounces                    False            False              False                 False             False                 False            False               False             False              False             False                  False           False                          False             False             False          False                    False              False             False             False            False           False                 False            0   \n",
       "fantasy-shopper              False            False              False                 False             False                 False            False               False             False              False             False                  False           False                          False             False             False          False                    False              False             False             False            False           False                 False            2   \n",
       "\n",
       "                  founder_ages_mean num_competitors num_acquisitions num_board_members_and_advisors  \n",
       "express-inn-hotel                 0               0                0                              0  \n",
       "carnegie-robotics                 0               0                0                              0  \n",
       "magnetic                          0               0                3                              4  \n",
       "rebounces                         0               0                0                              0  \n",
       "fantasy-shopper                   0               6                0                              0  \n",
       "\n",
       "[5 rows x 4055 columns]"
      ]
     },
     "execution_count": 284,
     "metadata": {},
     "output_type": "execute_result"
    }
   ],
   "source": [
    "cleandf = df.copy()\n",
    "\n",
    "# Drop unnecessary columns\n",
    "X = cleandf.drop(['success', 'competitors', 'at_least_3_funding_rounds', 'was_acquired', 'went_ipo', 'funding_total', 'funding_mean', 'acquired_by', 'funding_rounds', 'investors', 'ipo', 'funding_dates', 'num_funding_rounds', 'funding_amounts', 'categories', 'text_nouns', 'text_adjectives', 'short_description', 'founder_ages'], axis=1)\n",
    "# These columns can probably be converted to numerical form with \n",
    "# some positive impact on the models, so don't rule them out \n",
    "# completely just yet, but be careful that they are not dependent\n",
    "# with any of our success indicators\n",
    "X = X.drop(['acquisitions', 'board_members_and_advisors', 'founders', 'offices', 'headquarters', 'founder_names', 'month_founded'], axis=1)\n",
    "print X.shape\n",
    "\n",
    "# The success column\n",
    "y = df['success']\n",
    "print y.shape\n",
    "X.head()"
   ]
  },
  {
   "cell_type": "code",
   "execution_count": 294,
   "metadata": {
    "collapsed": false
   },
   "outputs": [
    {
     "name": "stdout",
     "output_type": "stream",
     "text": [
      "(1440, 4055)\n",
      "(1440,)\n",
      "(360, 4055)\n",
      "(360,)\n",
      "(200, 4055)\n",
      "(200,)\n"
     ]
    }
   ],
   "source": [
    "from sklearn.cross_validation import train_test_split\n",
    "# Make the train/test split\n",
    "X_train, X_test, y_train, y_test = train_test_split(X, y, test_size=0.10, random_state=42)\n",
    "\n",
    "# Split the training data into train/validate set\n",
    "X_train, X_validate, y_train, y_validate = train_test_split(X_train, y_train, test_size=0.20, random_state=42)\n",
    "\n",
    "\n",
    "# Training\n",
    "print X_train.shape\n",
    "print y_train.shape\n",
    "\n",
    "# Validate\n",
    "print X_validate.shape\n",
    "print y_validate.shape\n",
    "\n",
    "# Testing\n",
    "print X_test.shape\n",
    "print y_test.shape"
   ]
  },
  {
   "cell_type": "markdown",
   "metadata": {},
   "source": [
    "We will save these files now to ensure that we can come back to this point if needed."
   ]
  },
  {
   "cell_type": "code",
   "execution_count": 295,
   "metadata": {
    "collapsed": true
   },
   "outputs": [],
   "source": [
    "X_train.to_csv(\"tmp/X_train.csv\", index=True, header=True, encoding=\"utf-8\")\n",
    "y_train.to_csv(\"tmp/y_train.csv\", index=True, header=True, encoding=\"utf-8\")\n",
    "\n",
    "X_validate.to_csv(\"tmp/X_validate.csv\", index=True, header=True, encoding=\"utf-8\")\n",
    "y_validate.to_csv(\"tmp/y_validate.csv\", index=True, header=True, encoding=\"utf-8\")\n",
    "\n",
    "X_test.to_csv(\"tmp/X_test.csv\", index=True, header=True, encoding=\"utf-8\")\n",
    "y_test.to_csv(\"tmp/y_test.csv\", index=True, header=True, encoding=\"utf-8\")"
   ]
  },
  {
   "cell_type": "markdown",
   "metadata": {},
   "source": [
    "# Bring out the Models"
   ]
  },
  {
   "cell_type": "markdown",
   "metadata": {},
   "source": [
    "## The Baseline Model"
   ]
  },
  {
   "cell_type": "markdown",
   "metadata": {},
   "source": [
    "Now we will attempt to find a baseline to improve upon. A basic baseline would be assuming that all companies fail or all companies succeed.  Let's take a look at what those two assumptions would yield."
   ]
  },
  {
   "cell_type": "code",
   "execution_count": 112,
   "metadata": {
    "collapsed": false
   },
   "outputs": [
    {
     "data": {
      "text/html": [
       "<div>\n",
       "<table border=\"1\" class=\"dataframe\">\n",
       "  <thead>\n",
       "    <tr style=\"text-align: right;\">\n",
       "      <th></th>\n",
       "      <th>success</th>\n",
       "    </tr>\n",
       "  </thead>\n",
       "  <tbody>\n",
       "    <tr>\n",
       "      <th>abb-road</th>\n",
       "      <td>0</td>\n",
       "    </tr>\n",
       "    <tr>\n",
       "      <th>accelerize-new-media</th>\n",
       "      <td>1</td>\n",
       "    </tr>\n",
       "    <tr>\n",
       "      <th>12return</th>\n",
       "      <td>0</td>\n",
       "    </tr>\n",
       "    <tr>\n",
       "      <th>6apt</th>\n",
       "      <td>0</td>\n",
       "    </tr>\n",
       "    <tr>\n",
       "      <th>abreos-biosciences</th>\n",
       "      <td>0</td>\n",
       "    </tr>\n",
       "  </tbody>\n",
       "</table>\n",
       "</div>"
      ],
      "text/plain": [
       "                      success\n",
       "abb-road                    0\n",
       "accelerize-new-media        1\n",
       "12return                    0\n",
       "6apt                        0\n",
       "abreos-biosciences          0"
      ]
     },
     "execution_count": 112,
     "metadata": {},
     "output_type": "execute_result"
    }
   ],
   "source": [
    "# Loading the data with the index\n",
    "X_train = pd.read_csv(\"tmp/X_train.csv\", index_col='Unnamed: 0')\n",
    "y_train = pd.read_csv(\"tmp/y_train.csv\", index_col='Unnamed: 0').success\n",
    "\n",
    "X_validate = pd.read_csv(\"tmp/X_validate.csv\", index_col='Unnamed: 0')\n",
    "y_validate = pd.read_csv(\"tmp/y_validate.csv\", index_col='Unnamed: 0').success\n",
    "\n",
    "X_test = pd.read_csv(\"tmp/X_test.csv\", index_col='Unnamed: 0')\n",
    "y_test = pd.read_csv(\"tmp/y_test.csv\", index_col='Unnamed: 0').sucess"
   ]
  },
  {
   "cell_type": "code",
   "execution_count": 296,
   "metadata": {
    "collapsed": false
   },
   "outputs": [
    {
     "name": "stdout",
     "output_type": "stream",
     "text": [
      "Accuracy of the model assuming all succeed: 0.7\n",
      "Accuracy of the model assuming all fail: 0.3\n"
     ]
    }
   ],
   "source": [
    "# Assume all companies fail\n",
    "print \"Accuracy of the model assuming all succeed: %s\" % (len(y_test[y_test == False]) / (1.0 * len(y_test)))\n",
    "\n",
    "# Assume all companies succeed\n",
    "print \"Accuracy of the model assuming all fail: %s\" % (len(y_test[y_test == True]) / (1.0 * len(y_test)))"
   ]
  },
  {
   "cell_type": "markdown",
   "metadata": {},
   "source": [
    "So the basic baseline to beat is 76%, which we get if we just assume all companies will fail.  That's not so hot.  Let's see if we can beat it."
   ]
  },
  {
   "cell_type": "markdown",
   "metadata": {},
   "source": [
    "## K-Nearest Neighbors"
   ]
  },
  {
   "cell_type": "markdown",
   "metadata": {},
   "source": [
    "Here we will perform a K-Nearest Neighbors classification to predict if a company will be successful or not based upon the training data.  The two categories into which we will be classifying our data are succesful or not succesful.\n",
    "\n",
    "Here we will use the [scikit-learn](http://scikit-learn.org/stable/modules/neighbors.html) KNeighborsClassifier to perform our classification.  We will start with the with weights set to 'uniform', which is the default and then try some other weighting formulas."
   ]
  },
  {
   "cell_type": "code",
   "execution_count": 297,
   "metadata": {
    "collapsed": false
   },
   "outputs": [
    {
     "name": "stdout",
     "output_type": "stream",
     "text": [
      "Validate accuracy with weights = 'uniform' and n_neighbors = 5: 0.705555555556 \n"
     ]
    }
   ],
   "source": [
    "from sklearn.neighbors import KNeighborsClassifier\n",
    "\n",
    "knc = KNeighborsClassifier()\n",
    "knc.fit(X_train, y_train)\n",
    "validate_accuracy = knc.score(X_validate,y_validate)\n",
    "print \"Validate accuracy with weights = 'uniform' and n_neighbors = 5: %s \" % validate_accuracy"
   ]
  },
  {
   "cell_type": "markdown",
   "metadata": {},
   "source": [
    "That's not so hot :( \n",
    "\n",
    "Perhaps if we increase the number of neigbors to query:"
   ]
  },
  {
   "cell_type": "code",
   "execution_count": 298,
   "metadata": {
    "collapsed": false
   },
   "outputs": [
    {
     "name": "stdout",
     "output_type": "stream",
     "text": [
      "Validate accuracy with weights = 'uniform' and n_neighbors = 20: 0.736111111111\n"
     ]
    }
   ],
   "source": [
    "knc = KNeighborsClassifier(n_neighbors=20)\n",
    "knc.fit(X_train, y_train)\n",
    "validate_accuracy = knc.score(X_validate,y_validate)\n",
    "print \"Validate accuracy with weights = 'uniform' and n_neighbors = 20: %s\" % validate_accuracy"
   ]
  },
  {
   "cell_type": "markdown",
   "metadata": {},
   "source": [
    "That's better!  We now have a model better than our baseline, although our baseline didn't set too high of a bar to begin with.  Let's graph the n_neighbors by accuracy:"
   ]
  },
  {
   "cell_type": "code",
   "execution_count": 299,
   "metadata": {
    "collapsed": false
   },
   "outputs": [
    {
     "data": {
      "image/png": "[encoded data removed]",
      "text/plain": [
       "<matplotlib.figure.Figure at 0x113a78ad0>"
      ]
     },
     "metadata": {},
     "output_type": "display_data"
    }
   ],
   "source": [
    "# TODO GRAPH THE N_NEIGBORS (X-AXIS)  BY ACCURACY (Y-AXIS)!\n",
    "# Large-grained\n",
    "neighbors=[1,3,5,7,9,11,13,15,17,18,19,20,30,40,50, 60, 70, 80, 90, 100]\n",
    "accuracies=[]\n",
    "for n in neighbors:\n",
    "    knc = KNeighborsClassifier(n_neighbors=n)\n",
    "    knc.fit(X_train, y_train)\n",
    "    accuracies.append(knc.score(X_test,y_test))\n",
    "plt.figure()\n",
    "plt.plot(neighbors,accuracies)\n",
    "plt.xlabel(\"Number of Neighbors\")\n",
    "plt.ylabel(\"Accuracy (%)\")\n",
    "plt.title('Large-grained accuracy plot for Knc')\n",
    "plt.show()"
   ]
  },
  {
   "cell_type": "markdown",
   "metadata": {},
   "source": [
    "Looks like the best estimate is with 10.\n",
    "\n",
    "Now we'll try the KNeighborsClassifier with weights='distance':"
   ]
  },
  {
   "cell_type": "code",
   "execution_count": 300,
   "metadata": {
    "collapsed": false
   },
   "outputs": [
    {
     "name": "stdout",
     "output_type": "stream",
     "text": [
      "Validate accuracy with weights='distance' and n_neighbors = 10: 0.722222222222\n"
     ]
    }
   ],
   "source": [
    "knc = KNeighborsClassifier(n_neighbors=10, weights='distance')\n",
    "knc.fit(X_train, y_train)\n",
    "validate_accuracy = knc.score(X_validate,y_validate)\n",
    "print \"Validate accuracy with weights='distance' and n_neighbors = 10: %s\" % validate_accuracy"
   ]
  },
  {
   "cell_type": "markdown",
   "metadata": {},
   "source": [
    "Awesome! "
   ]
  },
  {
   "cell_type": "code",
   "execution_count": 301,
   "metadata": {
    "collapsed": false
   },
   "outputs": [
    {
     "name": "stdout",
     "output_type": "stream",
     "text": [
      "Test accuracy with weights='distance' and n_neighbors = 10: 0.795\n"
     ]
    }
   ],
   "source": [
    "# Let's see how our test data fares using this KNC\n",
    "test_accuracy = knc.score(X_test,y_test)\n",
    "print \"Test accuracy with weights='distance' and n_neighbors = 10: %s\" % test_accuracy"
   ]
  },
  {
   "cell_type": "markdown",
   "metadata": {},
   "source": [
    "Before with only 1 000 entires without considering the foudnation year:\n",
    "\n",
    "It seems that the model is super sensitive to the train set because the optimal number of neighbors varies a lot between the validation set and the test set (these two sets are both independant from the train data set). This proves that this model is really unstable. \n",
    "\n",
    "This may due to the fact that our data are really sparse and we only have a sample of 1000 start ups.\n",
    "\n",
    "Now:\n",
    "\n",
    "We reached 0.8 of accuracy with beats the dummy baseline all fails of 0.7!!"
   ]
  },
  {
   "cell_type": "markdown",
   "metadata": {},
   "source": [
    "## Logistic Regression"
   ]
  },
  {
   "cell_type": "code",
   "execution_count": 302,
   "metadata": {
    "collapsed": false
   },
   "outputs": [
    {
     "name": "stdout",
     "output_type": "stream",
     "text": [
      "CPU times: user 8min 32s, sys: 7.53 s, total: 8min 39s\n",
      "Wall time: 5min 23s\n"
     ]
    }
   ],
   "source": [
    "from sklearn.linear_model import LogisticRegressionCV\n",
    "\n",
    "# Logistic regression with cross validation on 10-folds\n",
    "log_reg = LogisticRegressionCV(cv=10, dual=False, penalty='l2', max_iter=1000)\n",
    "%time log_reg = log_reg.fit(X_train, y_train)"
   ]
  },
  {
   "cell_type": "code",
   "execution_count": 303,
   "metadata": {
    "collapsed": false
   },
   "outputs": [
    {
     "name": "stdout",
     "output_type": "stream",
     "text": [
      "Test accuracy with 10-fold cross val and l2 regularization: 0.765\n"
     ]
    }
   ],
   "source": [
    "test_accuracy = log_reg.score(X_test, y_test)\n",
    "print \"Test accuracy with 10-fold cross val and l2 regularization: %s\" % test_accuracy"
   ]
  },
  {
   "cell_type": "markdown",
   "metadata": {},
   "source": [
    "We have a better accuract than in the case where we predict all fail but worse than the knc. When we check on the data, the model predicts a specific configuration.\n",
    "\n",
    "To refine our evaluation we could plot a ROC curve and evaluate the f1 score."
   ]
  },
  {
   "cell_type": "code",
   "execution_count": 304,
   "metadata": {
    "collapsed": false
   },
   "outputs": [
    {
     "data": {
      "text/plain": [
       "array([0, 0, 0, 0, 0, 0, 0, 0, 0, 0, 0, 0, 0, 1, 0, 0, 0, 0, 0, 1, 1, 0, 0,\n",
       "       0, 1, 1, 0, 0, 0, 1, 0, 0, 1, 0, 0, 1, 0, 0, 0, 0, 0, 0, 1, 0, 0, 0,\n",
       "       1, 0, 0, 0, 0, 0, 0, 0, 0, 0, 1, 0, 0, 0, 0, 0, 0, 0, 1, 0, 0, 0, 0,\n",
       "       0, 0, 0, 1, 1, 1, 0, 0, 0, 0, 0, 1, 0, 0, 1, 0, 1, 0, 0, 0, 0, 0, 0,\n",
       "       0, 0, 0, 0, 0, 0, 1, 0, 0, 0, 0, 0, 0, 1, 0, 1, 0, 0, 0, 0, 0, 0, 0,\n",
       "       0, 0, 0, 0, 0, 0, 0, 0, 0, 0, 0, 0, 1, 1, 0, 0, 0, 0, 0, 1, 0, 0, 0,\n",
       "       0, 0, 0, 1, 0, 0, 0, 0, 0, 0, 0, 0, 0, 0, 0, 0, 0, 0, 0, 1, 1, 0, 0,\n",
       "       1, 0, 0, 0, 0, 0, 0, 0, 1, 0, 0, 0, 0, 0, 0, 1, 0, 0, 0, 0, 0, 0, 0,\n",
       "       0, 0, 0, 0, 0, 0, 0, 0, 0, 1, 1, 0, 0, 0, 0, 1])"
      ]
     },
     "execution_count": 304,
     "metadata": {},
     "output_type": "execute_result"
    }
   ],
   "source": [
    "log_reg.predict(X_test)"
   ]
  },
  {
   "cell_type": "code",
   "execution_count": 305,
   "metadata": {
    "collapsed": false
   },
   "outputs": [
    {
     "data": {
      "text/plain": [
       "array([1, 1, 0, 0, 1, 1, 1, 0, 0, 0, 0, 1, 0, 1, 1, 0, 0, 0, 0, 1, 0, 0, 0,\n",
       "       0, 1, 1, 1, 1, 0, 0, 0, 0, 1, 0, 1, 1, 1, 0, 1, 0, 1, 1, 0, 0, 0, 0,\n",
       "       1, 1, 1, 0, 0, 0, 0, 0, 0, 0, 1, 0, 0, 0, 0, 0, 0, 0, 1, 1, 1, 1, 0,\n",
       "       0, 0, 0, 1, 1, 1, 0, 1, 0, 0, 0, 0, 0, 0, 0, 1, 1, 0, 0, 0, 0, 0, 0,\n",
       "       0, 0, 0, 0, 0, 0, 0, 0, 1, 0, 0, 1, 0, 1, 0, 0, 0, 0, 0, 1, 0, 0, 0,\n",
       "       0, 0, 0, 0, 0, 0, 0, 0, 1, 0, 0, 0, 0, 1, 0, 1, 0, 0, 0, 1, 0, 0, 0,\n",
       "       1, 0, 0, 0, 0, 0, 1, 1, 0, 0, 0, 0, 0, 0, 0, 0, 0, 0, 0, 1, 1, 0, 1,\n",
       "       1, 0, 1, 1, 1, 0, 1, 0, 0, 0, 0, 0, 0, 0, 0, 1, 1, 1, 0, 0, 0, 0, 0,\n",
       "       0, 0, 1, 0, 0, 0, 0, 0, 0, 1, 1, 0, 0, 0, 0, 1])"
      ]
     },
     "execution_count": 305,
     "metadata": {},
     "output_type": "execute_result"
    }
   ],
   "source": [
    "y_test.values"
   ]
  },
  {
   "cell_type": "code",
   "execution_count": null,
   "metadata": {
    "collapsed": true
   },
   "outputs": [],
   "source": [
    "# TODO ROC curve and F1 score"
   ]
  },
  {
   "cell_type": "markdown",
   "metadata": {},
   "source": [
    "## SVM"
   ]
  },
  {
   "cell_type": "code",
   "execution_count": 306,
   "metadata": {
    "collapsed": false
   },
   "outputs": [
    {
     "name": "stdout",
     "output_type": "stream",
     "text": [
      "CPU times: user 12.3 s, sys: 201 ms, total: 12.5 s\n",
      "Wall time: 13.4 s\n"
     ]
    }
   ],
   "source": [
    "from sklearn import svm\n",
    "\n",
    "# We can try first a linear SVM\n",
    "clf = svm.SVC(kernel='linear')\n",
    "%time clf = clf.fit(X_train, y_train)"
   ]
  },
  {
   "cell_type": "code",
   "execution_count": 307,
   "metadata": {
    "collapsed": false
   },
   "outputs": [
    {
     "name": "stdout",
     "output_type": "stream",
     "text": [
      "Test accuracy with kernel='linear': 0.75\n"
     ]
    }
   ],
   "source": [
    "test_accuracy = clf.score(X_test, y_test)\n",
    "print \"Test accuracy with kernel='linear': %s\" % test_accuracy"
   ]
  },
  {
   "cell_type": "code",
   "execution_count": 308,
   "metadata": {
    "collapsed": false
   },
   "outputs": [
    {
     "name": "stdout",
     "output_type": "stream",
     "text": [
      "CPU times: user 7.18 s, sys: 76 ms, total: 7.26 s\n",
      "Wall time: 7.35 s\n"
     ]
    }
   ],
   "source": [
    "# We can try first a linear SVM\n",
    "clf = svm.SVC(kernel='rbf')\n",
    "%time clf = clf.fit(X_train, y_train)"
   ]
  },
  {
   "cell_type": "code",
   "execution_count": 309,
   "metadata": {
    "collapsed": false
   },
   "outputs": [
    {
     "name": "stdout",
     "output_type": "stream",
     "text": [
      "Test accuracy with kernel='rbf': 0.72\n"
     ]
    }
   ],
   "source": [
    "test_accuracy = clf.score(X_test, y_test)\n",
    "print \"Test accuracy with kernel='rbf': %s\" % test_accuracy"
   ]
  },
  {
   "cell_type": "code",
   "execution_count": 310,
   "metadata": {
    "collapsed": false
   },
   "outputs": [
    {
     "name": "stdout",
     "output_type": "stream",
     "text": [
      "CPU times: user 6.38 s, sys: 47.6 ms, total: 6.43 s\n",
      "Wall time: 6.51 s\n"
     ]
    }
   ],
   "source": [
    "# We can try first a linear SVM\n",
    "clf = svm.SVC(kernel='poly')\n",
    "%time clf = clf.fit(X_train, y_train)"
   ]
  },
  {
   "cell_type": "code",
   "execution_count": 311,
   "metadata": {
    "collapsed": false
   },
   "outputs": [
    {
     "name": "stdout",
     "output_type": "stream",
     "text": [
      "Test accuracy with kernel='rbf': 0.7\n"
     ]
    }
   ],
   "source": [
    "test_accuracy = clf.score(X_test, y_test)\n",
    "print \"Test accuracy with kernel='rbf': %s\" % test_accuracy"
   ]
  },
  {
   "cell_type": "markdown",
   "metadata": {},
   "source": [
    "We reached the all fails accuracy here and the model effectiveley predicts all fail.\n",
    "\n",
    "The best SVM seems to be the linear one"
   ]
  },
  {
   "cell_type": "code",
   "execution_count": 312,
   "metadata": {
    "collapsed": false
   },
   "outputs": [
    {
     "data": {
      "text/plain": [
       "array([0, 0, 0, 0, 0, 0, 0, 0, 0, 0, 0, 0, 0, 0, 0, 0, 0, 0, 0, 0, 0, 0, 0,\n",
       "       0, 0, 0, 0, 0, 0, 0, 0, 0, 0, 0, 0, 0, 0, 0, 0, 0, 0, 0, 0, 0, 0, 0,\n",
       "       0, 0, 0, 0, 0, 0, 0, 0, 0, 0, 0, 0, 0, 0, 0, 0, 0, 0, 0, 0, 0, 0, 0,\n",
       "       0, 0, 0, 0, 0, 0, 0, 0, 0, 0, 0, 0, 0, 0, 0, 0, 0, 0, 0, 0, 0, 0, 0,\n",
       "       0, 0, 0, 0, 0, 0, 0, 0, 0, 0, 0, 0, 0, 0, 0, 0, 0, 0, 0, 0, 0, 0, 0,\n",
       "       0, 0, 0, 0, 0, 0, 0, 0, 0, 0, 0, 0, 0, 0, 0, 0, 0, 0, 0, 0, 0, 0, 0,\n",
       "       0, 0, 0, 0, 0, 0, 0, 0, 0, 0, 0, 0, 0, 0, 0, 0, 0, 0, 0, 0, 0, 0, 0,\n",
       "       0, 0, 0, 0, 0, 0, 0, 0, 0, 0, 0, 0, 0, 0, 0, 0, 0, 0, 0, 0, 0, 0, 0,\n",
       "       0, 0, 0, 0, 0, 0, 0, 0, 0, 0, 0, 0, 0, 0, 0, 0])"
      ]
     },
     "execution_count": 312,
     "metadata": {},
     "output_type": "execute_result"
    }
   ],
   "source": [
    "clf.predict(X_test)"
   ]
  },
  {
   "cell_type": "markdown",
   "metadata": {},
   "source": [
    "## WHAT OTHER MODELS DO WE KNOW?"
   ]
  },
  {
   "cell_type": "code",
   "execution_count": 162,
   "metadata": {
    "collapsed": true
   },
   "outputs": [],
   "source": [
    "# TODO:"
   ]
  },
  {
   "cell_type": "markdown",
   "metadata": {},
   "source": [
    "## Naive Bayes"
   ]
  },
  {
   "cell_type": "code",
   "execution_count": null,
   "metadata": {
    "collapsed": true
   },
   "outputs": [],
   "source": [
    "# TODO:"
   ]
  },
  {
   "cell_type": "markdown",
   "metadata": {},
   "source": [
    "# Building an Ensemble"
   ]
  },
  {
   "cell_type": "code",
   "execution_count": null,
   "metadata": {
    "collapsed": true
   },
   "outputs": [],
   "source": [
    "# TODO:"
   ]
  },
  {
   "cell_type": "code",
   "execution_count": null,
   "metadata": {
    "collapsed": true
   },
   "outputs": [],
   "source": []
  },
  {
   "cell_type": "code",
   "execution_count": null,
   "metadata": {
    "collapsed": true
   },
   "outputs": [],
   "source": []
  },
  {
   "cell_type": "code",
   "execution_count": null,
   "metadata": {
    "collapsed": true
   },
   "outputs": [],
   "source": []
  },
  {
   "cell_type": "code",
   "execution_count": null,
   "metadata": {
    "collapsed": true
   },
   "outputs": [],
   "source": []
  }
 ],
 "metadata": {
  "kernelspec": {
   "display_name": "Python 2",
   "language": "python",
   "name": "python2"
  },
  "language_info": {
   "codemirror_mode": {
    "name": "ipython",
    "version": 2
   },
   "file_extension": ".py",
   "mimetype": "text/x-python",
   "name": "python",
   "nbconvert_exporter": "python",
   "pygments_lexer": "ipython2",
   "version": "2.7.9"
  }
 },
 "nbformat": 4,
 "nbformat_minor": 0
}
