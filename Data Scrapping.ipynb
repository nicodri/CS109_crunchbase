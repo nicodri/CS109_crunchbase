{
 "cells": [
  {
   "cell_type": "code",
   "execution_count": 37,
   "metadata": {
    "collapsed": true
   },
   "outputs": [],
   "source": [
    "import requests\n",
    "import time\n",
    "import json\n",
    "user_key = '1a49911e9216b8037dc430f811fd5b6b'"
   ]
  },
  {
   "cell_type": "markdown",
   "metadata": {},
   "source": [
    "# Organizations\n"
   ]
  },
  {
   "cell_type": "code",
   "execution_count": 3,
   "metadata": {
    "collapsed": true
   },
   "outputs": [],
   "source": [
    "r = requests.get('https://api.crunchbase.com/v/3/organizations?user_key={}'.format(user_key))"
   ]
  },
  {
   "cell_type": "code",
   "execution_count": 10,
   "metadata": {
    "collapsed": false
   },
   "outputs": [
    {
     "data": {
      "text/plain": [
       "{u'current_page': 1,\n",
       " u'items_per_page': 100,\n",
       " u'next_page_url': u'https://api.crunchbase.com/v/3/organizations?page=2',\n",
       " u'number_of_pages': 4086,\n",
       " u'prev_page_url': None,\n",
       " u'sort_order': u'created_at DESC',\n",
       " u'total_items': 408546}"
      ]
     },
     "execution_count": 10,
     "metadata": {},
     "output_type": "execute_result"
    }
   ],
   "source": [
    "r.json()['data']['paging']"
   ]
  },
  {
   "cell_type": "code",
   "execution_count": 12,
   "metadata": {
    "collapsed": false
   },
   "outputs": [
    {
     "data": {
      "text/plain": [
       "{u'properties': {u'api_path': u'organizations/fanarchy',\n",
       "  u'city_name': None,\n",
       "  u'country_code': None,\n",
       "  u'created_at': 1448318261,\n",
       "  u'domain': None,\n",
       "  u'facebook_url': None,\n",
       "  u'homepage_url': None,\n",
       "  u'linkedin_url': None,\n",
       "  u'name': u'Fanarchy',\n",
       "  u'permalink': u'fanarchy',\n",
       "  u'primary_role': u'company',\n",
       "  u'profile_image_url': None,\n",
       "  u'region_name': None,\n",
       "  u'short_description': u'Win the game on the field. Change the game off it.',\n",
       "  u'twitter_url': None,\n",
       "  u'updated_at': 1448318261,\n",
       "  u'web_path': u'organization/fanarchy'},\n",
       " u'type': u'OrganizationSummary',\n",
       " u'uuid': u'957ea17500ba9dea44b151f236e7920a'}"
      ]
     },
     "execution_count": 12,
     "metadata": {},
     "output_type": "execute_result"
    }
   ],
   "source": [
    "r.json()['data']['items'][0]"
   ]
  },
  {
   "cell_type": "code",
   "execution_count": 19,
   "metadata": {
    "collapsed": true
   },
   "outputs": [],
   "source": [
    "organizations = r.json()['data']['items']"
   ]
  },
  {
   "cell_type": "code",
   "execution_count": 40,
   "metadata": {
    "collapsed": false
   },
   "outputs": [
    {
     "data": {
      "text/plain": [
       "100"
      ]
     },
     "execution_count": 40,
     "metadata": {},
     "output_type": "execute_result"
    }
   ],
   "source": [
    "len(organizations)"
   ]
  },
  {
   "cell_type": "code",
   "execution_count": 38,
   "metadata": {
    "collapsed": true
   },
   "outputs": [],
   "source": [
    "def get_json(url):\n",
    "    r_ = requests.get(url)\n",
    "    try:\n",
    "        return r_.json()\n",
    "    except ValueError:\n",
    "        time.sleep(2)\n",
    "        return get_json(url)"
   ]
  },
  {
   "cell_type": "code",
   "execution_count": 39,
   "metadata": {
    "collapsed": false
   },
   "outputs": [],
   "source": [
    "organizations = []\n",
    "for i in xrange(1, 2):\n",
    "    link = 'https://api.crunchbase.com/v/3/organizations?page={}&user_key={}'.format(i, user_key)\n",
    "    if i%100 == 0:\n",
    "        print 'page ', i, ' length is ',len(organizations)\n",
    "    r_json = get_json(link)\n",
    "    organizations += r_json['data']['items']\n",
    "    time.sleep(0.1)\n",
    "\n",
    "with open('tmp/organizations_json.json', 'w') as f:\n",
    "    json.dump(organizations, f)"
   ]
  },
  {
   "cell_type": "code",
   "execution_count": 41,
   "metadata": {
    "collapsed": false
   },
   "outputs": [
    {
     "data": {
      "text/plain": [
       "{u'properties': {u'api_path': u'organizations/livemail-customer-service-1-844-334-9858-phone-support-number-livemail-tech-support',\n",
       "  u'city_name': None,\n",
       "  u'country_code': None,\n",
       "  u'created_at': 1448295806,\n",
       "  u'domain': u'livemail.com',\n",
       "  u'facebook_url': None,\n",
       "  u'homepage_url': u'http://livemail.com',\n",
       "  u'linkedin_url': None,\n",
       "  u'name': u'Livemail Customer Service 1(844)-334-9858 Phone Support Number Livemail Tech Support',\n",
       "  u'permalink': u'livemail-customer-service-1-844-334-9858-phone-support-number-livemail-tech-support',\n",
       "  u'primary_role': u'company',\n",
       "  u'profile_image_url': None,\n",
       "  u'region_name': None,\n",
       "  u'short_description': u'Livemail Customer Service 1(844)-334-9858 Phone Support Number Livemail Tech Support Livemail Customer Service 1(844)-334-9858 Phone Supprt',\n",
       "  u'twitter_url': None,\n",
       "  u'updated_at': 1448295881,\n",
       "  u'web_path': u'organization/livemail-customer-service-1-844-334-9858-phone-support-number-livemail-tech-support'},\n",
       " u'type': u'OrganizationSummary',\n",
       " u'uuid': u'37bd9cc8ab8934b933d6046d38b3bd3b'}"
      ]
     },
     "execution_count": 41,
     "metadata": {},
     "output_type": "execute_result"
    }
   ],
   "source": [
    "organizations[-1]"
   ]
  },
  {
   "cell_type": "markdown",
   "metadata": {},
   "source": [
    "# Relationships\n"
   ]
  },
  {
   "cell_type": "code",
   "execution_count": 43,
   "metadata": {
    "collapsed": true
   },
   "outputs": [],
   "source": [
    "relationships = ['founders', 'board_members_and_advisors', 'investors', 'owned_by', 'headquarters', 'offices', 'categories', 'competitors', 'funding_rounds', 'investments', 'acquisitions', 'acquired_by', 'ipo']\n",
    "\n",
    "relationships_infos = {}\n",
    "relationships_infos['person'] = ['bio', 'born_on', 'permalink']\n",
    "relationships_infos['address'] = ['city', 'country']\n",
    "relationships_infos['market'] = ['name']\n",
    "relationships_infos['product'] = ['name']\n",
    "relationships_infos['organization'] = ['permalink']\n",
    "relationships_infos['fundinground'] = ['announced_on', 'funding_type', 'money_raised_usd']\n",
    "relationships_infos['acquisition'] = ['announced_on']\n",
    "relationships_infos['ipo'] = ['went_public_on']"
   ]
  },
  {
   "cell_type": "code",
   "execution_count": 44,
   "metadata": {
    "collapsed": true
   },
   "outputs": [],
   "source": [
    "organizations_dict = {}\n",
    "for organization in [0]:\n",
    "    infos = {}\n",
    "    #permalink = organization['properties']['permalink']\n",
    "    permalink = 'dropbox'\n",
    "    for relation in relationships:\n",
    "        time.sleep(0.5)\n",
    "        url = 'https://api.crunchbase.com/v/3/organizations/{}/{}?user_key={}'.format(permalink, relation, user_key)\n",
    "        r_json = get_json(url)\n",
    "        items = r_json['data']['items' if 'items' in r_json['data'] else 'item']\n",
    "        number_pages = r_json['data']['paging']['number_of_pages']\n",
    "        next_page_url = r_json['data']['paging']['next_page_url']\n",
    "        for j in xrange(2, number_pages + 1):\n",
    "            url = next_page_url[:-1]+str(j)+'&user_key='+user_key\n",
    "            r_json = get_json(url)\n",
    "            items += r_json['data']['items']\n",
    "        \n",
    "        relation_items = []\n",
    "        if type(items) is dict:\n",
    "            items = [items]\n",
    "        for item in items:\n",
    "            if 'relationships' in item:\n",
    "                for relationships_key in item['relationships']:\n",
    "                    relationships_key = relationships_key.lower()\n",
    "                    if relationships_key in relationships_infos:\n",
    "                        item_temp = {}\n",
    "                        for infos_key in relationships_infos[relationships_key]:\n",
    "                            item_temp[infos_key] = item['relationships'][relationships_key]['properties'][infos_key]\n",
    "                        relation_items.append(item_temp)\n",
    "            relationships_key = item['type'].lower()\n",
    "            if relationships_key in relationships_infos:\n",
    "                item_temp = {}\n",
    "                for infos_key in relationships_infos[relationships_key]:\n",
    "                    item_temp[infos_key] = item['properties'][infos_key]\n",
    "                relation_items.append(item_temp)\n",
    "        infos[relation] = relation_items\n",
    "    organizations_dict[permalink] = infos\n",
    "\n",
    "with open('tmp/organizations_dict.json', 'w') as f:\n",
    "    json.dump(organizations, f)"
   ]
  },
  {
   "cell_type": "code",
   "execution_count": 45,
   "metadata": {
    "collapsed": false
   },
   "outputs": [
    {
     "data": {
      "text/plain": [
       "{'dropbox': {'acquired_by': [],\n",
       "  'acquisitions': [{'announced_on': u'2013-07-20'},\n",
       "   {'announced_on': u'2014-03-17'},\n",
       "   {'announced_on': u'2013-07-17'},\n",
       "   {'announced_on': u'2013-09-01'},\n",
       "   {'announced_on': u'2013-11-05'},\n",
       "   {'announced_on': u'2014-03-28'},\n",
       "   {'announced_on': u'2012-12-19'},\n",
       "   {'announced_on': u'2012-02-27'},\n",
       "   {'announced_on': u'2012-12-12'},\n",
       "   {'announced_on': u'2013-03-15'},\n",
       "   {'announced_on': u'2014-04-17'},\n",
       "   {'announced_on': u'2014-04-17'},\n",
       "   {'announced_on': u'2014-05-21'},\n",
       "   {'announced_on': u'2014-06-05'},\n",
       "   {'announced_on': u'2014-06-10'},\n",
       "   {'announced_on': u'2014-06-16'},\n",
       "   {'announced_on': u'2014-07-01'},\n",
       "   {'announced_on': u'2013-11-17'},\n",
       "   {'announced_on': u'2015-01-21'},\n",
       "   {'announced_on': u'2015-01-26'},\n",
       "   {'announced_on': u'2015-05-13'},\n",
       "   {'announced_on': u'2015-07-22'}],\n",
       "  'board_members_and_advisors': [{'bio': u'Based in San Francisco, Ali is an angel investor, startup advisor, and serial entrepreneur. Ali is also a co-founder of computer education non-profit Code.org and an active investor in sustainable food systems. \\r\\n\\r\\nAli co-founded and sold two high-profile startups: iLike, acquired by MySpace in 2009, and LinkExchange, acquired by Microsoft for $265 million in 1998.  Ali\\'s portfolio as an investor / advisor has included such successes as Zappos, Facebook and  DropBox, as well as newer ventures such as Viagogo and OPOWER. \\r\\n\\r\\nAs a visionary, Ali was among the first people to see the potential of the Facebook Platform  and among the earliest to grasp the business opportunity of search. Ali\\'s current passion is sustainable food and agriculture, based on his articles Food is the New Frontier in Green Tech and Hacking the Food System Focus on the Supply Chain and related angel investments in Farmigo and BrightFarms and serves on the board of school food non-profit FoodCorps. \\r\\n\\r\\nAli co-founded iLike with his twin brother, Hadi, serving as CEO and President respectively.  They created iLike in an effort to reinvent GarageBand.com, which Ali ran after acquiring the assets of the company from the original owners. iLike created the first successful application on the Facebook Platform, which remains the most popular music app on Facebook today. \\r\\n\\r\\nIn 2009, Myspace acquired iLike and Ali served as Head of Business Development at MySpace until transitioning to a strategic advisory role in April 2010. Ali originally established himself as an entrepreneur by co-founding LinkExchange, which was acquired by Microsoft for $265 million in 1998. \\r\\n\\r\\nFrom 1998-2000, Ali worked at Microsoft and created \"Keywords,\" a pilot project to develop pay-for-placement, keyword-targeted text ads on alongside MSN Search results (essentially equivalent to Google AdWords, but many years earlier). Ali left Microsoft when the Keywords pilot program was shut down. Ali also co-founded \"DrinkExchange,\" a monthly social event that spread from San Francisco to Washington, London, Tokyo, and Sydney.',\n",
       "    'born_on': None,\n",
       "    'permalink': u'ali-partovi'},\n",
       "   {'bio': u'Hadi Partovi is an entrepreneur and investor, and also co-founder of education non-profit Code.org. As an entrepreneur, he was on the founding teams of Tellme and iLike. As an angel investor and startup advisor, Hadi\\u2019s portfolio includes Facebook, Dropbox, airbnb, Zappos, OPOWER, IndieGogo, Bluekai, and many others. \\r\\n\\r\\nA graduate of Harvard University (M.S. & B.A. Computer Science), Hadi began his career during the browser wars in the 1990s, when he was Microsoft\\u2019s Group Program Manager for Internet Explorer. After the release of IE 5.0, Hadi co-founded Tellme Networks. Tellme was acquired by Microsoft for a reported $800 million. Hadi ran the MSN portal for its only year of profit, where he delivered 30% annual growth and incubated Start.com. \\r\\n\\r\\nAfter leaving Microsoft a second time, Hadi co-founded iLike with twin brother Ali Partovi, and together they built the leading music application on the Facebook platform. in 2009, iLike was acquired by MySpace where both Partovis worked as Senior Vice Presidents. \\r\\n\\r\\nHadi is a strategic advisor to numerous startups including Facebook, Dropbox, OPOWER, and Bluekai, and serves on the board of TASER International. He is also an active angel investor with a wide range of investments.',\n",
       "    'born_on': None,\n",
       "    'permalink': u'hadi-partovi'},\n",
       "   {'bio': u\"John Lilly is a Partner at Greylock since 2011.John is currently on the Board of Directors of MessageMe, Clearslide, Citrus Lane, Code for America, and several unannouced investments. He leads Greylock's investment in Dropbox and led our investments in Tumblr (acquired by Yahoo in 2013) and Instagram (acquired by Facebook in 2012). John previously served on the boards of directors of TripIt (acquired by Concur in 2011), CenterRun (acquired by Sun Microsystems in 2003), and Reactivity (acquired by Cisco Systems in 2007). \\r\\n\\r\\nPrior to Greylock, John was CEO of Mozilla, the organization behind Firefox, an open source Web browser used by more than 450 million people.John also co-founded Reactivity, an enterprise security infrastructure company acquired by Cisco in 2007, where he served as founding CEO and later CTO.Earlier in his career, John held positions on the executive team at Trilogy Software and as a Senior Scientist in Apple's research labs. \\r\\n\\r\\nJohn holds a BS in Computer Systems Engineering and an MS in Computer Science with a focus on Human Computer Interaction, both from Stanford University. He is a frequent contributor at Stanford's d.school, and an advisor to both the Stanford Technology Ventures Program and StartX, Stanford's start up accelerator.John is a co-inventor on seven United States patents.\",\n",
       "    'born_on': u'1971-01-09',\n",
       "    'permalink': u'john-lilly'},\n",
       "   {'bio': u'Bryan Schreier is a partner at Sequoia Capital. \\r\\n\\r\\nBryan currently sits on the board of Dropbox, Hearsay, Qualtrics, MindSnacks, and Inkling and is a board observer for Trulia. \\r\\n\\r\\nPreviously, Bryan was Senior Director of International Online Sales and Operations at Google. He also launched Google\\u2019s Europe headquarters and was interim President of Sales in China. \\r\\n\\r\\nPrior to Google, Bryan worked in Morgan Stanley\\u2019s Technology Investment Banking Group. \\r\\n\\r\\nBryan has a B.A. degree in Computer Science from Princeton University.',\n",
       "    'born_on': None,\n",
       "    'permalink': u'bryan-schreier'},\n",
       "   {'bio': u\"Condoleezza Rice is currently the Denning Professor in Global Business and the Economy at the Graduate School of Business; the Thomas and Barbara Stephenson Senior Fellow on Public Policy at the Hoover Institution; and a professor of Political Science at Stanford University. She is also a founding partner of RiceHadleyGates LLC. \\r\\n\\r\\nFrom January 2005-2009, Rice served as the 66th Secretary of State of the United States, the second woman and first African American woman to hold the post. Rice also served as President George W. Bush\\u2019s Assistant to the President for National Security Affairs (National Security Advisor) from January 2001-2005, the first woman to hold the position. \\r\\n\\r\\nRice served as Stanford University\\u2019s Provost from 1993-1999, during which she was the institution's chief budget and academic officer. As Provost, she was responsible for a $1.5 billion annual budget and the academic program involving 1,400 faculty members and 14,000 students. In 1997, she also served on the Federal Advisory Committee on Gender - Integrated Training in the Military. \\r\\n\\r\\nFrom 1989 through March 1991, Rice served on President George H.W. Bush\\u2019s National Security Council staff. She served as Director; Senior Director of Soviet and East European Affairs; and, Special Assistant to the President for National Security Affairs. In 1986, while an international affairs fellow of the Council on Foreign Relations, Rice also served as Special Assistant to the Director of the Joint Chiefs of Staff. \\r\\n\\r\\nRice currently serves on the boards of KiOR, a renewable fuels company; C3 Energy, an energy software company; and Makena Capital, a private endowment firm. In addition, she is a member of the boards of the George W. Bush Institute, the Commonwealth Club, the Aspen Institute, the John F. Kennedy Center for the Performing Arts, and the Boys and Girls Clubs of America. \\r\\n\\r\\nPreviously, Rice has also served on various additional boards, for example: the Chevron Corporation; the Charles Schwab Corporation; the Transamerica Corporation; the University of Notre Dame; and, the San Francisco Symphony Board of Governors. \\r\\n\\r\\nBorn in Birmingham, Alabama, Rice earned her bachelor's degree in political science, cum laude and Phi Beta Kappa, from the University of Denver; her master's from the University of Notre Dame; and her Ph.D. from the Graduate School of International Studies at the University of Denver. Rice is a Fellow of the American Academy of Arts and Sciences and has been awarded ten honorary doctorates. \\r\\n\\r\\nCondoleezza currently resides in Stanford, California.\",\n",
       "    'born_on': u'1954-11-14',\n",
       "    'permalink': u'condoleezza-rice'},\n",
       "   {'bio': u\"John Lilly is a Partner at Greylock since 2011.John is currently on the Board of Directors of MessageMe, Clearslide, Citrus Lane, Code for America, and several unannouced investments. He leads Greylock's investment in Dropbox and led our investments in Tumblr (acquired by Yahoo in 2013) and Instagram (acquired by Facebook in 2012). John previously served on the boards of directors of TripIt (acquired by Concur in 2011), CenterRun (acquired by Sun Microsystems in 2003), and Reactivity (acquired by Cisco Systems in 2007). \\r\\n\\r\\nPrior to Greylock, John was CEO of Mozilla, the organization behind Firefox, an open source Web browser used by more than 450 million people.John also co-founded Reactivity, an enterprise security infrastructure company acquired by Cisco in 2007, where he served as founding CEO and later CTO.Earlier in his career, John held positions on the executive team at Trilogy Software and as a Senior Scientist in Apple's research labs. \\r\\n\\r\\nJohn holds a BS in Computer Systems Engineering and an MS in Computer Science with a focus on Human Computer Interaction, both from Stanford University. He is a frequent contributor at Stanford's d.school, and an advisor to both the Stanford Technology Ventures Program and StartX, Stanford's start up accelerator.John is a co-inventor on seven United States patents.\",\n",
       "    'born_on': u'1971-01-09',\n",
       "    'permalink': u'john-lilly'},\n",
       "   {'bio': u'Bobby Yazdani works full-time on the development and support of entrepreneurs through his venture capital firm, Signatures Capital. Drawing from nearly three decades of entrepreneurial experience in Silicon Valley, he mentors, advances and empowers entrepreneurs on their journey to build great companies. \\r\\n\\r\\nIn 2014, Bobby was ranked #1 out of 2000 angel investors in a report by CB Insights as having the most successful track record for investing in companies that received follow-on funding. Bobby made his first angel investment in 1989 in medical technology company Masimo (NASDAQ: MASI), where, in addition to providing capital, he wrote software to enhance the accuracy of the company\\u2019s early neonatal pulse oximeters.\\r\\n\\r\\nIn 1997 Bobby founded Saba, taking the company public in 2000. Today, Saba is the leading provider of Human Capital Development & Management Solutions. Its applications are being used by over 30 million people from 2200 customers across 195 countries and in 37 languages worldwide. While at Saba, he was named a finalist for Ernst & Young Entrepreneur of the Year Award. Saba also earned spots on InformationWeek\\u2019s Innovation 100 list and Computerworld\\u2019s 100 Emerging Companies to Watch. Prior to Saba, Bobby worked at Oracle in various R&D roles (\\u201888 \\u2013\\u201897). \\r\\n\\r\\nBobby has successfully mentored entrepreneurs and invested in over 100 early-stage startups including Aardvark (acq. by Google), Addepar, Atheer Labs, Baarzo (acq. by Google), BaseHealth, Bina Technologies (acq. by Roche), Bonobos, Canary, Clearspring, CleverSense (acq. by Google), Dropbox, FundersClub, Google (NASDAQ: GOOG), GuardantHealth, HomeJoy, inDinero, InstaEdu (acq. by Chegg), KeyChain Logistics, KissMetrics, Klout (acq. by Lithium Technologies), Masimo (NASDAQ: MASI), Medialets, NextBio (acq. by Illumina), Salesforce.com (NYSE: CRM), OpenGov, PassBan (acq. by EMC/RSA), Qwiki (acq. by Yahoo), SoundHound, SweetGreen, ThinkBig Analytics (acq. by Teradata), Uber, Wash.io, Webs.com (acq. by VistaPrint), ZenPayroll and more.\\r\\n\\r\\nBorn in Tehran, Iran, Bobby completed high school in England and received a B.A. in Applied Mathematics at the University of California at Berkeley.',\n",
       "    'born_on': None,\n",
       "    'permalink': u'bobby-yazdani'},\n",
       "   {'bio': u'Pejman Nozad is the Founding Managing Partner at Pejman Mar Ventures. \\r\\n\\r\\nPejman was named by Forbes in 2012 as \"one of the most successful angel investors\", Pejman has over 15 years of experience investing in early stage high tech start-ups. \\r\\n\\r\\nPejman has invested in over 100 startups and has seeded several multi-billion dollar companies such as Dropbox, Zoosk, and Lending Club. ',\n",
       "    'born_on': u'1968-01-01',\n",
       "    'permalink': u'pejman-nozad'}],\n",
       "  'categories': [{'name': u'Web Hosting'},\n",
       "   {'name': u'Storage'},\n",
       "   {'name': u'Cloud Data Services'}],\n",
       "  'competitors': [{'permalink': u'broolz'},\n",
       "   {'permalink': u'syncplicity'},\n",
       "   {'permalink': u'asus-webstorage'},\n",
       "   {'permalink': u'infinit'},\n",
       "   {'permalink': u'jungledisk'},\n",
       "   {'permalink': u'sugarsync'},\n",
       "   {'permalink': u'elephantdrive'},\n",
       "   {'permalink': u'teamdrive'},\n",
       "   {'permalink': u'qontext'},\n",
       "   {'permalink': u'infrascale'},\n",
       "   {'permalink': u'dropmysite'},\n",
       "   {'permalink': u'hightail'},\n",
       "   {'permalink': u'carbonite'},\n",
       "   {'permalink': u'topia-technology'},\n",
       "   {'permalink': u'sendthisfile-inc'},\n",
       "   {'permalink': u'omnidrive'},\n",
       "   {'permalink': u'soonr'},\n",
       "   {'permalink': u'evernote'},\n",
       "   {'permalink': u'egnyte'},\n",
       "   {'permalink': u'4shared'},\n",
       "   {'permalink': u'aerofs'},\n",
       "   {'permalink': u'zumodrive'},\n",
       "   {'permalink': u'accellion'},\n",
       "   {'permalink': u'wuala'},\n",
       "   {'permalink': u'hubic'},\n",
       "   {'permalink': u'mobileme'},\n",
       "   {'permalink': u'spideroak'},\n",
       "   {'permalink': u'mozy'},\n",
       "   {'permalink': u'nomadesk'},\n",
       "   {'permalink': u'crate'},\n",
       "   {'permalink': u'thru-inc'},\n",
       "   {'permalink': u'drivehq'},\n",
       "   {'permalink': u'centrallo'},\n",
       "   {'permalink': u'mega'},\n",
       "   {'permalink': u'box'}],\n",
       "  'founders': [{'bio': u\"Drew Houston is CEO and Co-Founder of [Dropbox](http://www.crunchbase.com/company/dropbox), and has led Dropbox's growth from a simple idea to a service used by millions around the world.Before founding Dropbox, Drew received his bachelor\\u2019s degree in electrical engineering and computer science from MIT in 2006. He took a quick leave from school to form [Accolade](http://www.crunchbase.com/company/accolade-prep), an online SAT prep startup, and also worked as a software engineer at various startups. \\r\\n\\r\\nAfter graduating, Drew was endlessly frustrated by carrying USB drives and emailing himself files. In early 2007, he teamed up with fellow MIT student  [Arash Ferdowsi](http://www.crunchbase.com/person/arash-ferdowsi) and the two began working on the project that would eventually become Dropbox.In 2012, Drew was named to MIT Technology Review\\u2019s TR35 list honoring the world\\u2019s top innovators under 35. He was also included in Fortune\\u2019s \\u201c40 Under 40.\",\n",
       "    'born_on': None,\n",
       "    'permalink': u'drew-houston'},\n",
       "   {'bio': u'Arash Ferdowsi is the Co-Founder & CTO at Dropbox. After studying at MIT, Arash Ferdowsi founded Dropbox with Drew Houston. Dropbox was a TechCrunch50 finalist in 2008.',\n",
       "    'born_on': u'1985-10-07',\n",
       "    'permalink': u'arash-ferdowsi'}],\n",
       "  'funding_rounds': [{'announced_on': u'2007-06-01',\n",
       "    'funding_type': u'seed',\n",
       "    'money_raised_usd': 15000},\n",
       "   {'announced_on': u'2014-01-24',\n",
       "    'funding_type': u'venture',\n",
       "    'money_raised_usd': 350000000},\n",
       "   {'announced_on': u'2011-10-18',\n",
       "    'funding_type': u'venture',\n",
       "    'money_raised_usd': 250000000},\n",
       "   {'announced_on': u'2014-04-06',\n",
       "    'funding_type': u'debt_financing',\n",
       "    'money_raised_usd': 500000000},\n",
       "   {'announced_on': u'2008-11-24',\n",
       "    'funding_type': u'venture',\n",
       "    'money_raised_usd': 6000000},\n",
       "   {'announced_on': u'2007-09-04',\n",
       "    'funding_type': u'seed',\n",
       "    'money_raised_usd': 1200000}],\n",
       "  'headquarters': [{'city': u'San Francisco', 'country': u'United States'}],\n",
       "  'investments': [],\n",
       "  'investors': [{'permalink': u'y-combinator'},\n",
       "   {'permalink': u'blackrock'},\n",
       "   {'permalink': u't-rowe-price'},\n",
       "   {'permalink': u'salesforce-ventures'},\n",
       "   {'permalink': u'innovation-department-2'},\n",
       "   {'permalink': u'queensbridge-venture-partners'},\n",
       "   {'permalink': u'sequoia-capital'},\n",
       "   {'permalink': u'institutional-venture-partners'},\n",
       "   {'permalink': u'index-ventures'},\n",
       "   {'permalink': u'sv-angel'},\n",
       "   {'permalink': u'greylock'},\n",
       "   {'permalink': u'benchmark'},\n",
       "   {'permalink': u'goldman-sachs'},\n",
       "   {'permalink': u'rit-capital-partners'},\n",
       "   {'permalink': u'valiant-capital-partners'},\n",
       "   {'permalink': u'afsquare'},\n",
       "   {'permalink': u'accel-partners'},\n",
       "   {'permalink': u'glynn-capital-management'},\n",
       "   {'permalink': u'j-p-morgan'},\n",
       "   {'permalink': u'sequoia-capital'},\n",
       "   {'permalink': u'accel-partners'},\n",
       "   {'permalink': u'sequoia-capital'},\n",
       "   {'bio': u'Hadi Partovi is an entrepreneur and investor, and also co-founder of education non-profit Code.org. As an entrepreneur, he was on the founding teams of Tellme and iLike. As an angel investor and startup advisor, Hadi\\u2019s portfolio includes Facebook, Dropbox, airbnb, Zappos, OPOWER, IndieGogo, Bluekai, and many others. \\r\\n\\r\\nA graduate of Harvard University (M.S. & B.A. Computer Science), Hadi began his career during the browser wars in the 1990s, when he was Microsoft\\u2019s Group Program Manager for Internet Explorer. After the release of IE 5.0, Hadi co-founded Tellme Networks. Tellme was acquired by Microsoft for a reported $800 million. Hadi ran the MSN portal for its only year of profit, where he delivered 30% annual growth and incubated Start.com. \\r\\n\\r\\nAfter leaving Microsoft a second time, Hadi co-founded iLike with twin brother Ali Partovi, and together they built the leading music application on the Facebook platform. in 2009, iLike was acquired by MySpace where both Partovis worked as Senior Vice Presidents. \\r\\n\\r\\nHadi is a strategic advisor to numerous startups including Facebook, Dropbox, OPOWER, and Bluekai, and serves on the board of TASER International. He is also an active angel investor with a wide range of investments.',\n",
       "    'born_on': None,\n",
       "    'permalink': u'hadi-partovi'},\n",
       "   {'bio': u'Based in San Francisco, Ali is an angel investor, startup advisor, and serial entrepreneur. Ali is also a co-founder of computer education non-profit Code.org and an active investor in sustainable food systems. \\r\\n\\r\\nAli co-founded and sold two high-profile startups: iLike, acquired by MySpace in 2009, and LinkExchange, acquired by Microsoft for $265 million in 1998.  Ali\\'s portfolio as an investor / advisor has included such successes as Zappos, Facebook and  DropBox, as well as newer ventures such as Viagogo and OPOWER. \\r\\n\\r\\nAs a visionary, Ali was among the first people to see the potential of the Facebook Platform  and among the earliest to grasp the business opportunity of search. Ali\\'s current passion is sustainable food and agriculture, based on his articles Food is the New Frontier in Green Tech and Hacking the Food System Focus on the Supply Chain and related angel investments in Farmigo and BrightFarms and serves on the board of school food non-profit FoodCorps. \\r\\n\\r\\nAli co-founded iLike with his twin brother, Hadi, serving as CEO and President respectively.  They created iLike in an effort to reinvent GarageBand.com, which Ali ran after acquiring the assets of the company from the original owners. iLike created the first successful application on the Facebook Platform, which remains the most popular music app on Facebook today. \\r\\n\\r\\nIn 2009, Myspace acquired iLike and Ali served as Head of Business Development at MySpace until transitioning to a strategic advisory role in April 2010. Ali originally established himself as an entrepreneur by co-founding LinkExchange, which was acquired by Microsoft for $265 million in 1998. \\r\\n\\r\\nFrom 1998-2000, Ali worked at Microsoft and created \"Keywords,\" a pilot project to develop pay-for-placement, keyword-targeted text ads on alongside MSN Search results (essentially equivalent to Google AdWords, but many years earlier). Ali left Microsoft when the Keywords pilot program was shut down. Ali also co-founded \"DrinkExchange,\" a monthly social event that spread from San Francisco to Washington, London, Tokyo, and Sydney.',\n",
       "    'born_on': None,\n",
       "    'permalink': u'ali-partovi'},\n",
       "   {'permalink': u'amidzad-partners'},\n",
       "   {'bio': u'Pejman Nozad is the Founding Managing Partner at Pejman Mar Ventures. \\r\\n\\r\\nPejman was named by Forbes in 2012 as \"one of the most successful angel investors\", Pejman has over 15 years of experience investing in early stage high tech start-ups. \\r\\n\\r\\nPejman has invested in over 100 startups and has seeded several multi-billion dollar companies such as Dropbox, Zoosk, and Lending Club. ',\n",
       "    'born_on': u'1968-01-01',\n",
       "    'permalink': u'pejman-nozad'},\n",
       "   {'bio': u'Bobby Yazdani works full-time on the development and support of entrepreneurs through his venture capital firm, Signatures Capital. Drawing from nearly three decades of entrepreneurial experience in Silicon Valley, he mentors, advances and empowers entrepreneurs on their journey to build great companies. \\r\\n\\r\\nIn 2014, Bobby was ranked #1 out of 2000 angel investors in a report by CB Insights as having the most successful track record for investing in companies that received follow-on funding. Bobby made his first angel investment in 1989 in medical technology company Masimo (NASDAQ: MASI), where, in addition to providing capital, he wrote software to enhance the accuracy of the company\\u2019s early neonatal pulse oximeters.\\r\\n\\r\\nIn 1997 Bobby founded Saba, taking the company public in 2000. Today, Saba is the leading provider of Human Capital Development & Management Solutions. Its applications are being used by over 30 million people from 2200 customers across 195 countries and in 37 languages worldwide. While at Saba, he was named a finalist for Ernst & Young Entrepreneur of the Year Award. Saba also earned spots on InformationWeek\\u2019s Innovation 100 list and Computerworld\\u2019s 100 Emerging Companies to Watch. Prior to Saba, Bobby worked at Oracle in various R&D roles (\\u201888 \\u2013\\u201897). \\r\\n\\r\\nBobby has successfully mentored entrepreneurs and invested in over 100 early-stage startups including Aardvark (acq. by Google), Addepar, Atheer Labs, Baarzo (acq. by Google), BaseHealth, Bina Technologies (acq. by Roche), Bonobos, Canary, Clearspring, CleverSense (acq. by Google), Dropbox, FundersClub, Google (NASDAQ: GOOG), GuardantHealth, HomeJoy, inDinero, InstaEdu (acq. by Chegg), KeyChain Logistics, KissMetrics, Klout (acq. by Lithium Technologies), Masimo (NASDAQ: MASI), Medialets, NextBio (acq. by Illumina), Salesforce.com (NYSE: CRM), OpenGov, PassBan (acq. by EMC/RSA), Qwiki (acq. by Yahoo), SoundHound, SweetGreen, ThinkBig Analytics (acq. by Teradata), Uber, Wash.io, Webs.com (acq. by VistaPrint), ZenPayroll and more.\\r\\n\\r\\nBorn in Tehran, Iran, Bobby completed high school in England and received a B.A. in Applied Mathematics at the University of California at Berkeley.',\n",
       "    'born_on': None,\n",
       "    'permalink': u'bobby-yazdani'},\n",
       "   {'permalink': u'signatures-capital'}],\n",
       "  'ipo': [],\n",
       "  'offices': [{'city': u'San Francisco', 'country': u'United States'},\n",
       "   {'city': u'Dublin', 'country': u'Ireland'},\n",
       "   {'city': u'San Francisco', 'country': u'United States'}],\n",
       "  'owned_by': []}}"
      ]
     },
     "execution_count": 45,
     "metadata": {},
     "output_type": "execute_result"
    }
   ],
   "source": [
    "organizations_dict"
   ]
  },
  {
   "cell_type": "code",
   "execution_count": null,
   "metadata": {
    "collapsed": true
   },
   "outputs": [],
   "source": []
  }
 ],
 "metadata": {
  "kernelspec": {
   "display_name": "Python 2",
   "language": "python",
   "name": "python2"
  },
  "language_info": {
   "codemirror_mode": {
    "name": "ipython",
    "version": 2
   },
   "file_extension": ".py",
   "mimetype": "text/x-python",
   "name": "python",
   "nbconvert_exporter": "python",
   "pygments_lexer": "ipython2",
   "version": "2.7.9"
  }
 },
 "nbformat": 4,
 "nbformat_minor": 0
}
